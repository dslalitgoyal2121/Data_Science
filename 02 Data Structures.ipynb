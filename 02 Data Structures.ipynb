{
 "cells": [
  {
   "cell_type": "markdown",
   "id": "4f252ee1",
   "metadata": {},
   "source": [
    "# Data Structures"
   ]
  },
  {
   "cell_type": "markdown",
   "id": "dee4c8d0",
   "metadata": {},
   "source": [
    "Data structure is collection of itmes"
   ]
  },
  {
   "cell_type": "markdown",
   "id": "f22ecbf6",
   "metadata": {},
   "source": [
    "# List"
   ]
  },
  {
   "cell_type": "code",
   "execution_count": 1,
   "id": "1bc600dc",
   "metadata": {},
   "outputs": [
    {
     "data": {
      "text/plain": [
       "[]"
      ]
     },
     "execution_count": 1,
     "metadata": {},
     "output_type": "execute_result"
    }
   ],
   "source": [
    "list1=[]   # blanck list # list are oderad collection of items\n",
    "list1"
   ]
  },
  {
   "cell_type": "code",
   "execution_count": 2,
   "id": "d2eabfcc",
   "metadata": {},
   "outputs": [
    {
     "data": {
      "text/plain": [
       "[1, 2, 3, 4, 5]"
      ]
     },
     "execution_count": 2,
     "metadata": {},
     "output_type": "execute_result"
    }
   ],
   "source": [
    "list2=[1,2,3,4,5]  #indexing list # mutable\n",
    "list2"
   ]
  },
  {
   "cell_type": "code",
   "execution_count": 3,
   "id": "fab04182",
   "metadata": {},
   "outputs": [
    {
     "data": {
      "text/plain": [
       "[22, 33, 44, 55, 66]"
      ]
     },
     "execution_count": 3,
     "metadata": {},
     "output_type": "execute_result"
    }
   ],
   "source": [
    "list3=[22,33,44,55,66]\n",
    "list3"
   ]
  },
  {
   "cell_type": "code",
   "execution_count": 4,
   "id": "5450aaec",
   "metadata": {},
   "outputs": [
    {
     "data": {
      "text/plain": [
       "[56, 47, 25, 88, 96, 34]"
      ]
     },
     "execution_count": 4,
     "metadata": {},
     "output_type": "execute_result"
    }
   ],
   "source": [
    "list4=[56,47,25,88,96,34]\n",
    "list4"
   ]
  },
  {
   "cell_type": "code",
   "execution_count": 5,
   "id": "ec4e09f1",
   "metadata": {},
   "outputs": [
    {
     "data": {
      "text/plain": [
       "[45.2, 55.5, 48.5, 65.3, 57.5]"
      ]
     },
     "execution_count": 5,
     "metadata": {},
     "output_type": "execute_result"
    }
   ],
   "source": [
    "list5=[45.2,55.5,48.5,65.3,57.5]\n",
    "list5"
   ]
  },
  {
   "cell_type": "code",
   "execution_count": 6,
   "id": "02dca32a",
   "metadata": {},
   "outputs": [
    {
     "data": {
      "text/plain": [
       "['A', 'B', 'C', 'D']"
      ]
     },
     "execution_count": 6,
     "metadata": {},
     "output_type": "execute_result"
    }
   ],
   "source": [
    "list6=[\"A\",\"B\",\"C\",\"D\"]\n",
    "list6"
   ]
  },
  {
   "cell_type": "code",
   "execution_count": 7,
   "id": "4c08334e",
   "metadata": {},
   "outputs": [
    {
     "data": {
      "text/plain": [
       "['Apple', 'Mango', 'Banana', 'papaya', 'kiwi']"
      ]
     },
     "execution_count": 7,
     "metadata": {},
     "output_type": "execute_result"
    }
   ],
   "source": [
    "list8=[\"Apple\",\"Mango\",\"Banana\",\"papaya\",\"kiwi\"]\n",
    "list8"
   ]
  },
  {
   "cell_type": "code",
   "execution_count": 8,
   "id": "c0b44773",
   "metadata": {},
   "outputs": [
    {
     "data": {
      "text/plain": [
       "['Mobile', 'Laptop', 89, 47, 75.13, 21.5, 'A', True]"
      ]
     },
     "execution_count": 8,
     "metadata": {},
     "output_type": "execute_result"
    }
   ],
   "source": [
    "list9=[\"Mobile\",\"Laptop\",89,47,75.13,21.5,\"A\",True]\n",
    "list9"
   ]
  },
  {
   "cell_type": "code",
   "execution_count": 9,
   "id": "f69311a3",
   "metadata": {},
   "outputs": [
    {
     "data": {
      "text/plain": [
       "list"
      ]
     },
     "execution_count": 9,
     "metadata": {},
     "output_type": "execute_result"
    }
   ],
   "source": [
    "type(list8)"
   ]
  },
  {
   "cell_type": "code",
   "execution_count": 10,
   "id": "799237c6",
   "metadata": {},
   "outputs": [
    {
     "data": {
      "text/plain": [
       "8"
      ]
     },
     "execution_count": 10,
     "metadata": {},
     "output_type": "execute_result"
    }
   ],
   "source": [
    "len(list9)"
   ]
  },
  {
   "cell_type": "code",
   "execution_count": 11,
   "id": "8f6874c8",
   "metadata": {},
   "outputs": [
    {
     "data": {
      "text/plain": [
       "['Apple', 'Mango', 'Banana', 'papaya', 'kiwi']"
      ]
     },
     "execution_count": 11,
     "metadata": {},
     "output_type": "execute_result"
    }
   ],
   "source": [
    "list8"
   ]
  },
  {
   "cell_type": "markdown",
   "id": "56898993",
   "metadata": {},
   "source": [
    "indexing"
   ]
  },
  {
   "cell_type": "code",
   "execution_count": 12,
   "id": "3894f3ef",
   "metadata": {},
   "outputs": [
    {
     "data": {
      "text/plain": [
       "'Apple'"
      ]
     },
     "execution_count": 12,
     "metadata": {},
     "output_type": "execute_result"
    }
   ],
   "source": [
    "list8[0]"
   ]
  },
  {
   "cell_type": "code",
   "execution_count": 13,
   "id": "42dfacd6",
   "metadata": {},
   "outputs": [
    {
     "data": {
      "text/plain": [
       "'Mango'"
      ]
     },
     "execution_count": 13,
     "metadata": {},
     "output_type": "execute_result"
    }
   ],
   "source": [
    "list8[1]"
   ]
  },
  {
   "cell_type": "code",
   "execution_count": 14,
   "id": "0afab611",
   "metadata": {},
   "outputs": [
    {
     "data": {
      "text/plain": [
       "'Banana'"
      ]
     },
     "execution_count": 14,
     "metadata": {},
     "output_type": "execute_result"
    }
   ],
   "source": [
    "list8[2]"
   ]
  },
  {
   "cell_type": "code",
   "execution_count": 15,
   "id": "4ca9f7b3",
   "metadata": {},
   "outputs": [
    {
     "data": {
      "text/plain": [
       "'papaya'"
      ]
     },
     "execution_count": 15,
     "metadata": {},
     "output_type": "execute_result"
    }
   ],
   "source": [
    "list8[3]"
   ]
  },
  {
   "cell_type": "code",
   "execution_count": 16,
   "id": "7829a45b",
   "metadata": {},
   "outputs": [
    {
     "data": {
      "text/plain": [
       "[45.2, 55.5, 48.5, 65.3, 57.5]"
      ]
     },
     "execution_count": 16,
     "metadata": {},
     "output_type": "execute_result"
    }
   ],
   "source": [
    "list5"
   ]
  },
  {
   "cell_type": "code",
   "execution_count": 17,
   "id": "7b9a56c2",
   "metadata": {},
   "outputs": [
    {
     "data": {
      "text/plain": [
       "45.2"
      ]
     },
     "execution_count": 17,
     "metadata": {},
     "output_type": "execute_result"
    }
   ],
   "source": [
    "list5[0]"
   ]
  },
  {
   "cell_type": "markdown",
   "id": "99ac0b43",
   "metadata": {},
   "source": [
    "Slicing"
   ]
  },
  {
   "cell_type": "markdown",
   "id": "45a63e60",
   "metadata": {},
   "source": [
    "list8[startindex:endindex]"
   ]
  },
  {
   "cell_type": "code",
   "execution_count": 18,
   "id": "99e82cf1",
   "metadata": {},
   "outputs": [
    {
     "data": {
      "text/plain": [
       "['Apple', 'Mango', 'Banana', 'papaya', 'kiwi']"
      ]
     },
     "execution_count": 18,
     "metadata": {},
     "output_type": "execute_result"
    }
   ],
   "source": [
    "list8"
   ]
  },
  {
   "cell_type": "code",
   "execution_count": 19,
   "id": "7af4d0e3",
   "metadata": {},
   "outputs": [
    {
     "data": {
      "text/plain": [
       "['Apple']"
      ]
     },
     "execution_count": 19,
     "metadata": {},
     "output_type": "execute_result"
    }
   ],
   "source": [
    "list8[0:1]"
   ]
  },
  {
   "cell_type": "code",
   "execution_count": 20,
   "id": "2f63d39a",
   "metadata": {},
   "outputs": [
    {
     "data": {
      "text/plain": [
       "['Apple', 'Mango']"
      ]
     },
     "execution_count": 20,
     "metadata": {},
     "output_type": "execute_result"
    }
   ],
   "source": [
    "list8[0:2]"
   ]
  },
  {
   "cell_type": "code",
   "execution_count": 21,
   "id": "9a8dd640",
   "metadata": {},
   "outputs": [
    {
     "data": {
      "text/plain": [
       "['Apple', 'Mango', 'Banana']"
      ]
     },
     "execution_count": 21,
     "metadata": {},
     "output_type": "execute_result"
    }
   ],
   "source": [
    "list8[0:3]"
   ]
  },
  {
   "cell_type": "code",
   "execution_count": 22,
   "id": "c6a11a04",
   "metadata": {},
   "outputs": [
    {
     "data": {
      "text/plain": [
       "['Apple', 'Mango', 'Banana', 'papaya']"
      ]
     },
     "execution_count": 22,
     "metadata": {},
     "output_type": "execute_result"
    }
   ],
   "source": [
    "list8[0:4]"
   ]
  },
  {
   "cell_type": "code",
   "execution_count": 23,
   "id": "9b9d3d74",
   "metadata": {},
   "outputs": [
    {
     "data": {
      "text/plain": [
       "5"
      ]
     },
     "execution_count": 23,
     "metadata": {},
     "output_type": "execute_result"
    }
   ],
   "source": [
    "len(list8)"
   ]
  },
  {
   "cell_type": "code",
   "execution_count": 24,
   "id": "ecc786b5",
   "metadata": {},
   "outputs": [
    {
     "data": {
      "text/plain": [
       "['Apple', 'Mango', 'Banana', 'papaya', 'kiwi']"
      ]
     },
     "execution_count": 24,
     "metadata": {},
     "output_type": "execute_result"
    }
   ],
   "source": [
    "list8[0:5]"
   ]
  },
  {
   "cell_type": "code",
   "execution_count": 25,
   "id": "21c48e15",
   "metadata": {},
   "outputs": [
    {
     "data": {
      "text/plain": [
       "'kiwi'"
      ]
     },
     "execution_count": 25,
     "metadata": {},
     "output_type": "execute_result"
    }
   ],
   "source": [
    "list8[-1]"
   ]
  },
  {
   "cell_type": "code",
   "execution_count": 26,
   "id": "5d4d82e9",
   "metadata": {},
   "outputs": [
    {
     "data": {
      "text/plain": [
       "'papaya'"
      ]
     },
     "execution_count": 26,
     "metadata": {},
     "output_type": "execute_result"
    }
   ],
   "source": [
    "list8[-2]"
   ]
  },
  {
   "cell_type": "code",
   "execution_count": 27,
   "id": "3340f6b6",
   "metadata": {},
   "outputs": [
    {
     "data": {
      "text/plain": [
       "'Banana'"
      ]
     },
     "execution_count": 27,
     "metadata": {},
     "output_type": "execute_result"
    }
   ],
   "source": [
    "list8[-3]"
   ]
  },
  {
   "cell_type": "markdown",
   "id": "cf0cd663",
   "metadata": {},
   "source": [
    "Neagtive slicing"
   ]
  },
  {
   "cell_type": "code",
   "execution_count": 28,
   "id": "0b4c57e3",
   "metadata": {},
   "outputs": [
    {
     "data": {
      "text/plain": [
       "['Apple', 'Mango', 'Banana', 'papaya', 'kiwi']"
      ]
     },
     "execution_count": 28,
     "metadata": {},
     "output_type": "execute_result"
    }
   ],
   "source": [
    "list8"
   ]
  },
  {
   "cell_type": "code",
   "execution_count": 29,
   "id": "92cfe584",
   "metadata": {},
   "outputs": [
    {
     "data": {
      "text/plain": [
       "['Banana', 'papaya']"
      ]
     },
     "execution_count": 29,
     "metadata": {},
     "output_type": "execute_result"
    }
   ],
   "source": [
    "list8[-3:-1]"
   ]
  },
  {
   "cell_type": "code",
   "execution_count": 30,
   "id": "104dfce7",
   "metadata": {},
   "outputs": [
    {
     "data": {
      "text/plain": [
       "['Mango', 'Banana', 'papaya']"
      ]
     },
     "execution_count": 30,
     "metadata": {},
     "output_type": "execute_result"
    }
   ],
   "source": [
    "list8[-4:-1]"
   ]
  },
  {
   "cell_type": "code",
   "execution_count": 31,
   "id": "5380b7dc",
   "metadata": {},
   "outputs": [
    {
     "data": {
      "text/plain": [
       "['Apple', 'Mango', 'Banana', 'papaya', 'kiwi']"
      ]
     },
     "execution_count": 31,
     "metadata": {},
     "output_type": "execute_result"
    }
   ],
   "source": [
    "list8[-5:]"
   ]
  },
  {
   "cell_type": "code",
   "execution_count": 32,
   "id": "e059beca",
   "metadata": {},
   "outputs": [
    {
     "data": {
      "text/plain": [
       "['Apple', 'Mango', 'Banana', 'papaya', 'kiwi']"
      ]
     },
     "execution_count": 32,
     "metadata": {},
     "output_type": "execute_result"
    }
   ],
   "source": [
    "list8[:]"
   ]
  },
  {
   "cell_type": "code",
   "execution_count": 33,
   "id": "85be914e",
   "metadata": {},
   "outputs": [
    {
     "data": {
      "text/plain": [
       "['Apple', 'Mango', 'Banana', 'papaya']"
      ]
     },
     "execution_count": 33,
     "metadata": {},
     "output_type": "execute_result"
    }
   ],
   "source": [
    "list8[:-1]"
   ]
  },
  {
   "cell_type": "code",
   "execution_count": 2,
   "id": "696f4d2b",
   "metadata": {},
   "outputs": [
    {
     "data": {
      "text/plain": [
       "['mercury', 'venus', 'earth']"
      ]
     },
     "execution_count": 2,
     "metadata": {},
     "output_type": "execute_result"
    }
   ],
   "source": [
    "planetlist=['mercury','venus','earth']\n",
    "planetlist"
   ]
  },
  {
   "cell_type": "code",
   "execution_count": 3,
   "id": "8c8b76bb",
   "metadata": {},
   "outputs": [
    {
     "data": {
      "text/plain": [
       "3"
      ]
     },
     "execution_count": 3,
     "metadata": {},
     "output_type": "execute_result"
    }
   ],
   "source": [
    "len(planetlist)"
   ]
  },
  {
   "cell_type": "code",
   "execution_count": 4,
   "id": "1f1f1a5c",
   "metadata": {},
   "outputs": [],
   "source": [
    "planetlist.append('sun')"
   ]
  },
  {
   "cell_type": "code",
   "execution_count": 5,
   "id": "ac883cdd",
   "metadata": {},
   "outputs": [
    {
     "data": {
      "text/plain": [
       "['mercury', 'venus', 'earth', 'sun']"
      ]
     },
     "execution_count": 5,
     "metadata": {},
     "output_type": "execute_result"
    }
   ],
   "source": [
    "planetlist"
   ]
  },
  {
   "cell_type": "code",
   "execution_count": 6,
   "id": "55d9a6e3",
   "metadata": {},
   "outputs": [],
   "source": [
    "planetlist.append(\"mars\")"
   ]
  },
  {
   "cell_type": "code",
   "execution_count": 7,
   "id": "2e165d83",
   "metadata": {},
   "outputs": [
    {
     "data": {
      "text/plain": [
       "['mercury', 'venus', 'earth', 'sun', 'mars']"
      ]
     },
     "execution_count": 7,
     "metadata": {},
     "output_type": "execute_result"
    }
   ],
   "source": [
    "planetlist"
   ]
  },
  {
   "cell_type": "code",
   "execution_count": 8,
   "id": "05d10749",
   "metadata": {},
   "outputs": [
    {
     "data": {
      "text/plain": [
       "'mars'"
      ]
     },
     "execution_count": 8,
     "metadata": {},
     "output_type": "execute_result"
    }
   ],
   "source": [
    "planetlist[4]"
   ]
  },
  {
   "cell_type": "code",
   "execution_count": 9,
   "id": "ce05d939",
   "metadata": {},
   "outputs": [
    {
     "data": {
      "text/plain": [
       "['mercury', 'venus', 'earth']"
      ]
     },
     "execution_count": 9,
     "metadata": {},
     "output_type": "execute_result"
    }
   ],
   "source": [
    "planetlist[0:3]"
   ]
  },
  {
   "cell_type": "code",
   "execution_count": 10,
   "id": "44b52223",
   "metadata": {},
   "outputs": [],
   "source": [
    "planetlist.append(\"jupiter\")"
   ]
  },
  {
   "cell_type": "code",
   "execution_count": 11,
   "id": "e2eb50aa",
   "metadata": {},
   "outputs": [
    {
     "data": {
      "text/plain": [
       "['mercury', 'venus', 'earth', 'sun', 'mars', 'jupiter']"
      ]
     },
     "execution_count": 11,
     "metadata": {},
     "output_type": "execute_result"
    }
   ],
   "source": [
    "planetlist"
   ]
  },
  {
   "cell_type": "code",
   "execution_count": 12,
   "id": "9a3cd26e",
   "metadata": {},
   "outputs": [
    {
     "data": {
      "text/plain": [
       "6"
      ]
     },
     "execution_count": 12,
     "metadata": {},
     "output_type": "execute_result"
    }
   ],
   "source": [
    "len(planetlist)"
   ]
  },
  {
   "cell_type": "code",
   "execution_count": 13,
   "id": "8754f3ba",
   "metadata": {},
   "outputs": [],
   "source": [
    "planetlist.insert(1,\"moon\")"
   ]
  },
  {
   "cell_type": "code",
   "execution_count": 14,
   "id": "1c30f159",
   "metadata": {},
   "outputs": [
    {
     "data": {
      "text/plain": [
       "['mercury', 'moon', 'venus', 'earth', 'sun', 'mars', 'jupiter']"
      ]
     },
     "execution_count": 14,
     "metadata": {},
     "output_type": "execute_result"
    }
   ],
   "source": [
    "planetlist"
   ]
  },
  {
   "cell_type": "code",
   "execution_count": 15,
   "id": "5f432a4e",
   "metadata": {},
   "outputs": [],
   "source": [
    "planetlist.insert(0,\"galaxy\")"
   ]
  },
  {
   "cell_type": "code",
   "execution_count": 16,
   "id": "c5203e41",
   "metadata": {},
   "outputs": [
    {
     "data": {
      "text/plain": [
       "['galaxy', 'mercury', 'moon', 'venus', 'earth', 'sun', 'mars', 'jupiter']"
      ]
     },
     "execution_count": 16,
     "metadata": {},
     "output_type": "execute_result"
    }
   ],
   "source": [
    "planetlist"
   ]
  },
  {
   "cell_type": "code",
   "execution_count": 17,
   "id": "f0e123f1",
   "metadata": {},
   "outputs": [
    {
     "data": {
      "text/plain": [
       "5"
      ]
     },
     "execution_count": 17,
     "metadata": {},
     "output_type": "execute_result"
    }
   ],
   "source": [
    "planetlist.index(\"sun\")"
   ]
  },
  {
   "cell_type": "code",
   "execution_count": 18,
   "id": "e2768cdc",
   "metadata": {},
   "outputs": [
    {
     "data": {
      "text/plain": [
       "2"
      ]
     },
     "execution_count": 18,
     "metadata": {},
     "output_type": "execute_result"
    }
   ],
   "source": [
    "planetlist.index(\"moon\")"
   ]
  },
  {
   "cell_type": "code",
   "execution_count": 19,
   "id": "6b8d3402",
   "metadata": {},
   "outputs": [],
   "source": [
    "planetlist.sort()"
   ]
  },
  {
   "cell_type": "code",
   "execution_count": 20,
   "id": "0fb002c1",
   "metadata": {},
   "outputs": [
    {
     "data": {
      "text/plain": [
       "['earth', 'galaxy', 'jupiter', 'mars', 'mercury', 'moon', 'sun', 'venus']"
      ]
     },
     "execution_count": 20,
     "metadata": {},
     "output_type": "execute_result"
    }
   ],
   "source": [
    "planetlist"
   ]
  },
  {
   "cell_type": "code",
   "execution_count": 21,
   "id": "bbef1809",
   "metadata": {},
   "outputs": [],
   "source": [
    "planetlist.reverse()"
   ]
  },
  {
   "cell_type": "code",
   "execution_count": 22,
   "id": "d4c781c7",
   "metadata": {},
   "outputs": [
    {
     "data": {
      "text/plain": [
       "['venus', 'sun', 'moon', 'mercury', 'mars', 'jupiter', 'galaxy', 'earth']"
      ]
     },
     "execution_count": 22,
     "metadata": {},
     "output_type": "execute_result"
    }
   ],
   "source": [
    "planetlist"
   ]
  },
  {
   "cell_type": "code",
   "execution_count": 23,
   "id": "7b7ce759",
   "metadata": {},
   "outputs": [
    {
     "data": {
      "text/plain": [
       "'earth'"
      ]
     },
     "execution_count": 23,
     "metadata": {},
     "output_type": "execute_result"
    }
   ],
   "source": [
    "planetlist.pop()"
   ]
  },
  {
   "cell_type": "code",
   "execution_count": 24,
   "id": "839dde25",
   "metadata": {},
   "outputs": [
    {
     "data": {
      "text/plain": [
       "'galaxy'"
      ]
     },
     "execution_count": 24,
     "metadata": {},
     "output_type": "execute_result"
    }
   ],
   "source": [
    "planetlist.pop()"
   ]
  },
  {
   "cell_type": "code",
   "execution_count": 25,
   "id": "0bf8c053",
   "metadata": {},
   "outputs": [
    {
     "data": {
      "text/plain": [
       "['venus', 'sun', 'moon', 'mercury', 'mars', 'jupiter']"
      ]
     },
     "execution_count": 25,
     "metadata": {},
     "output_type": "execute_result"
    }
   ],
   "source": [
    "planetlist"
   ]
  },
  {
   "cell_type": "code",
   "execution_count": 26,
   "id": "7c4c59bc",
   "metadata": {},
   "outputs": [],
   "source": [
    " planetlist.remove(\"moon\")"
   ]
  },
  {
   "cell_type": "code",
   "execution_count": 27,
   "id": "c8a424e3",
   "metadata": {},
   "outputs": [
    {
     "data": {
      "text/plain": [
       "['venus', 'sun', 'mercury', 'mars', 'jupiter']"
      ]
     },
     "execution_count": 27,
     "metadata": {},
     "output_type": "execute_result"
    }
   ],
   "source": [
    "planetlist"
   ]
  },
  {
   "cell_type": "code",
   "execution_count": 28,
   "id": "20427acc",
   "metadata": {},
   "outputs": [],
   "source": [
    "planetlist.sort()"
   ]
  },
  {
   "cell_type": "code",
   "execution_count": 29,
   "id": "648348f7",
   "metadata": {},
   "outputs": [
    {
     "data": {
      "text/plain": [
       "['jupiter', 'mars', 'mercury', 'sun', 'venus']"
      ]
     },
     "execution_count": 29,
     "metadata": {},
     "output_type": "execute_result"
    }
   ],
   "source": [
    "planetlist"
   ]
  },
  {
   "cell_type": "code",
   "execution_count": 30,
   "id": "977ee1eb",
   "metadata": {},
   "outputs": [
    {
     "data": {
      "text/plain": [
       "'mercury'"
      ]
     },
     "execution_count": 30,
     "metadata": {},
     "output_type": "execute_result"
    }
   ],
   "source": [
    "planetlist.pop(2)"
   ]
  },
  {
   "cell_type": "code",
   "execution_count": 31,
   "id": "57917831",
   "metadata": {},
   "outputs": [
    {
     "data": {
      "text/plain": [
       "['jupiter', 'mars', 'sun', 'venus']"
      ]
     },
     "execution_count": 31,
     "metadata": {},
     "output_type": "execute_result"
    }
   ],
   "source": [
    "planetlist"
   ]
  },
  {
   "cell_type": "code",
   "execution_count": 32,
   "id": "8a958f93",
   "metadata": {},
   "outputs": [
    {
     "data": {
      "text/plain": [
       "['jupiter', 'mars', 'sun', 'venus', 'moon', 'galexy', 'sapes']"
      ]
     },
     "execution_count": 32,
     "metadata": {},
     "output_type": "execute_result"
    }
   ],
   "source": [
    "planetlist.extend([\"moon\",\"galexy\",\"sapes\"])\n",
    "planetlist\n",
    "# more alemant will be add to extend opration "
   ]
  },
  {
   "cell_type": "code",
   "execution_count": 33,
   "id": "451f686d",
   "metadata": {},
   "outputs": [],
   "source": [
    "planetlist.sort()"
   ]
  },
  {
   "cell_type": "code",
   "execution_count": 34,
   "id": "175ce595",
   "metadata": {},
   "outputs": [
    {
     "data": {
      "text/plain": [
       "'venus'"
      ]
     },
     "execution_count": 34,
     "metadata": {},
     "output_type": "execute_result"
    }
   ],
   "source": [
    "planetlist.pop()"
   ]
  },
  {
   "cell_type": "code",
   "execution_count": 35,
   "id": "72dfda01",
   "metadata": {},
   "outputs": [
    {
     "data": {
      "text/plain": [
       "'sun'"
      ]
     },
     "execution_count": 35,
     "metadata": {},
     "output_type": "execute_result"
    }
   ],
   "source": [
    "planetlist.pop(5)"
   ]
  },
  {
   "cell_type": "code",
   "execution_count": 36,
   "id": "a161638f",
   "metadata": {},
   "outputs": [
    {
     "data": {
      "text/plain": [
       "['galexy', 'jupiter', 'mars', 'moon', 'sapes']"
      ]
     },
     "execution_count": 36,
     "metadata": {},
     "output_type": "execute_result"
    }
   ],
   "source": [
    "planetlist"
   ]
  },
  {
   "cell_type": "code",
   "execution_count": 37,
   "id": "99083353",
   "metadata": {},
   "outputs": [],
   "source": [
    "planetlist[4]=\"pluto\"\n",
    "\n",
    "# replace any alemant\n",
    "\n"
   ]
  },
  {
   "cell_type": "code",
   "execution_count": 38,
   "id": "ddfa4afd",
   "metadata": {},
   "outputs": [
    {
     "data": {
      "text/plain": [
       "['galexy', 'jupiter', 'mars', 'moon', 'pluto']"
      ]
     },
     "execution_count": 38,
     "metadata": {},
     "output_type": "execute_result"
    }
   ],
   "source": [
    "planetlist"
   ]
  },
  {
   "cell_type": "code",
   "execution_count": 39,
   "id": "c708245a",
   "metadata": {},
   "outputs": [],
   "source": [
    "planetlist.clear()"
   ]
  },
  {
   "cell_type": "code",
   "execution_count": 40,
   "id": "11e742f7",
   "metadata": {},
   "outputs": [
    {
     "data": {
      "text/plain": [
       "[]"
      ]
     },
     "execution_count": 40,
     "metadata": {},
     "output_type": "execute_result"
    }
   ],
   "source": [
    "planetlist"
   ]
  },
  {
   "cell_type": "code",
   "execution_count": 41,
   "id": "cf15530f",
   "metadata": {},
   "outputs": [],
   "source": [
    "planetlist.append(\"hello\")"
   ]
  },
  {
   "cell_type": "code",
   "execution_count": 42,
   "id": "7e3875e9",
   "metadata": {},
   "outputs": [
    {
     "data": {
      "text/plain": [
       "['hello']"
      ]
     },
     "execution_count": 42,
     "metadata": {},
     "output_type": "execute_result"
    }
   ],
   "source": [
    "planetlist"
   ]
  },
  {
   "cell_type": "code",
   "execution_count": 43,
   "id": "df3b71f9",
   "metadata": {},
   "outputs": [],
   "source": [
    "planetlist.extend([\"hey\",\"hello\",\"my\",\"name\",\"is\",\"lalit\"])"
   ]
  },
  {
   "cell_type": "code",
   "execution_count": 44,
   "id": "bfa34edc",
   "metadata": {},
   "outputs": [
    {
     "data": {
      "text/plain": [
       "['hello', 'hey', 'hello', 'my', 'name', 'is', 'lalit']"
      ]
     },
     "execution_count": 44,
     "metadata": {},
     "output_type": "execute_result"
    }
   ],
   "source": [
    "planetlist"
   ]
  },
  {
   "cell_type": "code",
   "execution_count": 45,
   "id": "11df09c5",
   "metadata": {},
   "outputs": [],
   "source": [
    "planetlist.clear()"
   ]
  },
  {
   "cell_type": "code",
   "execution_count": 46,
   "id": "03490526",
   "metadata": {},
   "outputs": [
    {
     "data": {
      "text/plain": [
       "[]"
      ]
     },
     "execution_count": 46,
     "metadata": {},
     "output_type": "execute_result"
    }
   ],
   "source": [
    "planetlist"
   ]
  },
  {
   "cell_type": "code",
   "execution_count": 47,
   "id": "fe18269f",
   "metadata": {},
   "outputs": [],
   "source": [
    "del planetlist"
   ]
  },
  {
   "cell_type": "markdown",
   "id": "58c97e91",
   "metadata": {},
   "source": [
    "# Tuples"
   ]
  },
  {
   "cell_type": "code",
   "execution_count": 49,
   "id": "cf625baf",
   "metadata": {},
   "outputs": [],
   "source": [
    "tuple1=(1,2,3,4,5)"
   ]
  },
  {
   "cell_type": "code",
   "execution_count": 50,
   "id": "ef673c08",
   "metadata": {},
   "outputs": [
    {
     "data": {
      "text/plain": [
       "(1, 2, 3, 4, 5)"
      ]
     },
     "execution_count": 50,
     "metadata": {},
     "output_type": "execute_result"
    }
   ],
   "source": [
    "tuple1"
   ]
  },
  {
   "cell_type": "code",
   "execution_count": 51,
   "id": "87023e3b",
   "metadata": {},
   "outputs": [],
   "source": [
    "tuple2=(89,54,74,42)"
   ]
  },
  {
   "cell_type": "code",
   "execution_count": 52,
   "id": "00c76667",
   "metadata": {},
   "outputs": [
    {
     "data": {
      "text/plain": [
       "(89, 54, 74, 42)"
      ]
     },
     "execution_count": 52,
     "metadata": {},
     "output_type": "execute_result"
    }
   ],
   "source": [
    "tuple2"
   ]
  },
  {
   "cell_type": "code",
   "execution_count": 53,
   "id": "489dea67",
   "metadata": {},
   "outputs": [
    {
     "data": {
      "text/plain": [
       "89"
      ]
     },
     "execution_count": 53,
     "metadata": {},
     "output_type": "execute_result"
    }
   ],
   "source": [
    "tuple2[0]"
   ]
  },
  {
   "cell_type": "code",
   "execution_count": 54,
   "id": "de996d4b",
   "metadata": {},
   "outputs": [
    {
     "data": {
      "text/plain": [
       "5"
      ]
     },
     "execution_count": 54,
     "metadata": {},
     "output_type": "execute_result"
    }
   ],
   "source": [
    "tuple1[4]"
   ]
  },
  {
   "cell_type": "code",
   "execution_count": 55,
   "id": "c6218641",
   "metadata": {},
   "outputs": [
    {
     "data": {
      "text/plain": [
       "(2, 3)"
      ]
     },
     "execution_count": 55,
     "metadata": {},
     "output_type": "execute_result"
    }
   ],
   "source": [
    "tuple1[1:3]"
   ]
  },
  {
   "cell_type": "code",
   "execution_count": 56,
   "id": "329c4bf1",
   "metadata": {},
   "outputs": [
    {
     "data": {
      "text/plain": [
       "(89, 54, 74)"
      ]
     },
     "execution_count": 56,
     "metadata": {},
     "output_type": "execute_result"
    }
   ],
   "source": [
    "tuple2[0:3]"
   ]
  },
  {
   "cell_type": "code",
   "execution_count": 57,
   "id": "da1a3f0c",
   "metadata": {},
   "outputs": [
    {
     "data": {
      "text/plain": [
       "2"
      ]
     },
     "execution_count": 57,
     "metadata": {},
     "output_type": "execute_result"
    }
   ],
   "source": [
    "tuple2.index(74)"
   ]
  },
  {
   "cell_type": "code",
   "execution_count": 58,
   "id": "f9904e91",
   "metadata": {},
   "outputs": [],
   "source": [
    "tuple3=(\"A\",\"p\",\"p\",\"l\",\"e\")"
   ]
  },
  {
   "cell_type": "code",
   "execution_count": 59,
   "id": "c73821f2",
   "metadata": {},
   "outputs": [
    {
     "data": {
      "text/plain": [
       "('A', 'p', 'p', 'l', 'e')"
      ]
     },
     "execution_count": 59,
     "metadata": {},
     "output_type": "execute_result"
    }
   ],
   "source": [
    "tuple3"
   ]
  },
  {
   "cell_type": "code",
   "execution_count": 60,
   "id": "c66e4522",
   "metadata": {},
   "outputs": [
    {
     "data": {
      "text/plain": [
       "2"
      ]
     },
     "execution_count": 60,
     "metadata": {},
     "output_type": "execute_result"
    }
   ],
   "source": [
    "tuple3.count(\"p\")"
   ]
  },
  {
   "cell_type": "code",
   "execution_count": 61,
   "id": "d6235d22",
   "metadata": {},
   "outputs": [
    {
     "data": {
      "text/plain": [
       "74"
      ]
     },
     "execution_count": 61,
     "metadata": {},
     "output_type": "execute_result"
    }
   ],
   "source": [
    "tuple2[2]"
   ]
  },
  {
   "cell_type": "code",
   "execution_count": 62,
   "id": "4f807ff5",
   "metadata": {},
   "outputs": [],
   "source": [
    "tuple4=(29,3,47.5,59.004,\"aa\",\"dal\")"
   ]
  },
  {
   "cell_type": "code",
   "execution_count": 63,
   "id": "8ec79547",
   "metadata": {},
   "outputs": [
    {
     "data": {
      "text/plain": [
       "(29, 3, 47.5, 59.004, 'aa', 'dal')"
      ]
     },
     "execution_count": 63,
     "metadata": {},
     "output_type": "execute_result"
    }
   ],
   "source": [
    "tuple4"
   ]
  },
  {
   "cell_type": "code",
   "execution_count": 64,
   "id": "9d0cf6e4",
   "metadata": {},
   "outputs": [
    {
     "data": {
      "text/plain": [
       "'dal'"
      ]
     },
     "execution_count": 64,
     "metadata": {},
     "output_type": "execute_result"
    }
   ],
   "source": [
    "tuple4[5]"
   ]
  },
  {
   "cell_type": "code",
   "execution_count": 65,
   "id": "67de446f",
   "metadata": {},
   "outputs": [
    {
     "data": {
      "text/plain": [
       "1"
      ]
     },
     "execution_count": 65,
     "metadata": {},
     "output_type": "execute_result"
    }
   ],
   "source": [
    "tuple4.count('aa')"
   ]
  },
  {
   "cell_type": "markdown",
   "id": "7c35f7e5",
   "metadata": {},
   "source": [
    "# Dictionary"
   ]
  },
  {
   "cell_type": "markdown",
   "id": "074c64bc",
   "metadata": {},
   "source": [
    "d1={key:value,key:value}"
   ]
  },
  {
   "cell_type": "code",
   "execution_count": 66,
   "id": "a2253b8a",
   "metadata": {},
   "outputs": [],
   "source": [
    "d1={\"id\":101,\"Name\":\"Lalit\",\"Grade\":\"A\"}"
   ]
  },
  {
   "cell_type": "code",
   "execution_count": 67,
   "id": "15da02c0",
   "metadata": {},
   "outputs": [
    {
     "data": {
      "text/plain": [
       "{'id': 101, 'Name': 'Lalit', 'Grade': 'A'}"
      ]
     },
     "execution_count": 67,
     "metadata": {},
     "output_type": "execute_result"
    }
   ],
   "source": [
    "d1"
   ]
  },
  {
   "cell_type": "code",
   "execution_count": 68,
   "id": "f54227a9",
   "metadata": {},
   "outputs": [
    {
     "data": {
      "text/plain": [
       "101"
      ]
     },
     "execution_count": 68,
     "metadata": {},
     "output_type": "execute_result"
    }
   ],
   "source": [
    "d1[\"id\"]"
   ]
  },
  {
   "cell_type": "code",
   "execution_count": 69,
   "id": "f2b88b6e",
   "metadata": {},
   "outputs": [
    {
     "data": {
      "text/plain": [
       "'Lalit'"
      ]
     },
     "execution_count": 69,
     "metadata": {},
     "output_type": "execute_result"
    }
   ],
   "source": [
    "d1[\"Name\"]"
   ]
  },
  {
   "cell_type": "code",
   "execution_count": 70,
   "id": "d5ce6e00",
   "metadata": {},
   "outputs": [],
   "source": [
    "d1.update({\"Fees\":5000})"
   ]
  },
  {
   "cell_type": "code",
   "execution_count": 71,
   "id": "26cabe03",
   "metadata": {},
   "outputs": [
    {
     "data": {
      "text/plain": [
       "{'id': 101, 'Name': 'Lalit', 'Grade': 'A', 'Fees': 5000}"
      ]
     },
     "execution_count": 71,
     "metadata": {},
     "output_type": "execute_result"
    }
   ],
   "source": [
    "d1"
   ]
  },
  {
   "cell_type": "code",
   "execution_count": 72,
   "id": "7b55e792",
   "metadata": {},
   "outputs": [],
   "source": [
    "d1[\"Fees\"]=8000\n",
    "\n",
    "#Change any data or value"
   ]
  },
  {
   "cell_type": "code",
   "execution_count": 73,
   "id": "baa6252c",
   "metadata": {},
   "outputs": [
    {
     "data": {
      "text/plain": [
       "{'id': 101, 'Name': 'Lalit', 'Grade': 'A', 'Fees': 8000}"
      ]
     },
     "execution_count": 73,
     "metadata": {},
     "output_type": "execute_result"
    }
   ],
   "source": [
    "d1"
   ]
  },
  {
   "cell_type": "code",
   "execution_count": 74,
   "id": "0c4a7d1e",
   "metadata": {},
   "outputs": [
    {
     "data": {
      "text/plain": [
       "dict_keys(['id', 'Name', 'Grade', 'Fees'])"
      ]
     },
     "execution_count": 74,
     "metadata": {},
     "output_type": "execute_result"
    }
   ],
   "source": [
    "d1.keys()"
   ]
  },
  {
   "cell_type": "code",
   "execution_count": 75,
   "id": "8771813c",
   "metadata": {},
   "outputs": [
    {
     "data": {
      "text/plain": [
       "dict_values([101, 'Lalit', 'A', 8000])"
      ]
     },
     "execution_count": 75,
     "metadata": {},
     "output_type": "execute_result"
    }
   ],
   "source": [
    "d1.values()"
   ]
  },
  {
   "cell_type": "code",
   "execution_count": 76,
   "id": "0b29dd8a",
   "metadata": {},
   "outputs": [
    {
     "data": {
      "text/plain": [
       "dict_items([('id', 101), ('Name', 'Lalit'), ('Grade', 'A'), ('Fees', 8000)])"
      ]
     },
     "execution_count": 76,
     "metadata": {},
     "output_type": "execute_result"
    }
   ],
   "source": [
    "d1.items()"
   ]
  },
  {
   "cell_type": "code",
   "execution_count": 77,
   "id": "a757eda3",
   "metadata": {},
   "outputs": [
    {
     "data": {
      "text/plain": [
       "'A'"
      ]
     },
     "execution_count": 77,
     "metadata": {},
     "output_type": "execute_result"
    }
   ],
   "source": [
    "d1.pop(\"Grade\")"
   ]
  },
  {
   "cell_type": "code",
   "execution_count": 78,
   "id": "7f1554a3",
   "metadata": {},
   "outputs": [
    {
     "data": {
      "text/plain": [
       "{'id': 101, 'Name': 'Lalit', 'Fees': 8000}"
      ]
     },
     "execution_count": 78,
     "metadata": {},
     "output_type": "execute_result"
    }
   ],
   "source": [
    "d1"
   ]
  },
  {
   "cell_type": "code",
   "execution_count": 79,
   "id": "16fbd3e0",
   "metadata": {},
   "outputs": [],
   "source": [
    "d1.clear()"
   ]
  },
  {
   "cell_type": "code",
   "execution_count": 80,
   "id": "489c4420",
   "metadata": {},
   "outputs": [
    {
     "data": {
      "text/plain": [
       "{}"
      ]
     },
     "execution_count": 80,
     "metadata": {},
     "output_type": "execute_result"
    }
   ],
   "source": [
    "d1"
   ]
  },
  {
   "cell_type": "code",
   "execution_count": 81,
   "id": "826b8f9c",
   "metadata": {},
   "outputs": [],
   "source": [
    "del d1"
   ]
  },
  {
   "cell_type": "code",
   "execution_count": 82,
   "id": "b1d19afd",
   "metadata": {},
   "outputs": [],
   "source": [
    "d2={\"Id\":[1,2,3],\"Name\":[\"lalit\",\"deepak\",\"karan\"],\"Age\":[25,26,27]}"
   ]
  },
  {
   "cell_type": "code",
   "execution_count": 83,
   "id": "e119dc85",
   "metadata": {},
   "outputs": [
    {
     "data": {
      "text/plain": [
       "{'Id': [1, 2, 3], 'Name': ['lalit', 'deepak', 'karan'], 'Age': [25, 26, 27]}"
      ]
     },
     "execution_count": 83,
     "metadata": {},
     "output_type": "execute_result"
    }
   ],
   "source": [
    "d2"
   ]
  },
  {
   "cell_type": "code",
   "execution_count": 84,
   "id": "44f303e7",
   "metadata": {},
   "outputs": [
    {
     "data": {
      "text/plain": [
       "dict_keys(['Id', 'Name', 'Age'])"
      ]
     },
     "execution_count": 84,
     "metadata": {},
     "output_type": "execute_result"
    }
   ],
   "source": [
    "d2.keys()"
   ]
  },
  {
   "cell_type": "code",
   "execution_count": 85,
   "id": "7535f23a",
   "metadata": {},
   "outputs": [
    {
     "data": {
      "text/plain": [
       "dict_values([[1, 2, 3], ['lalit', 'deepak', 'karan'], [25, 26, 27]])"
      ]
     },
     "execution_count": 85,
     "metadata": {},
     "output_type": "execute_result"
    }
   ],
   "source": [
    "d2.values()"
   ]
  },
  {
   "cell_type": "code",
   "execution_count": 86,
   "id": "fde96d91",
   "metadata": {},
   "outputs": [
    {
     "data": {
      "text/plain": [
       "dict_items([('Id', [1, 2, 3]), ('Name', ['lalit', 'deepak', 'karan']), ('Age', [25, 26, 27])])"
      ]
     },
     "execution_count": 86,
     "metadata": {},
     "output_type": "execute_result"
    }
   ],
   "source": [
    "d2.items()"
   ]
  },
  {
   "cell_type": "code",
   "execution_count": 87,
   "id": "edf89f1c",
   "metadata": {},
   "outputs": [
    {
     "data": {
      "text/plain": [
       "[1, 2, 3]"
      ]
     },
     "execution_count": 87,
     "metadata": {},
     "output_type": "execute_result"
    }
   ],
   "source": [
    "d2[\"Id\"]"
   ]
  },
  {
   "cell_type": "code",
   "execution_count": 88,
   "id": "84d21ae5",
   "metadata": {},
   "outputs": [
    {
     "data": {
      "text/plain": [
       "['lalit', 'deepak', 'karan']"
      ]
     },
     "execution_count": 88,
     "metadata": {},
     "output_type": "execute_result"
    }
   ],
   "source": [
    "d2[\"Name\"]"
   ]
  },
  {
   "cell_type": "code",
   "execution_count": 89,
   "id": "50f5fa3b",
   "metadata": {},
   "outputs": [
    {
     "data": {
      "text/plain": [
       "1"
      ]
     },
     "execution_count": 89,
     "metadata": {},
     "output_type": "execute_result"
    }
   ],
   "source": [
    "d2[\"Id\"][0]"
   ]
  },
  {
   "cell_type": "code",
   "execution_count": 90,
   "id": "51564332",
   "metadata": {},
   "outputs": [
    {
     "data": {
      "text/plain": [
       "'deepak'"
      ]
     },
     "execution_count": 90,
     "metadata": {},
     "output_type": "execute_result"
    }
   ],
   "source": [
    "d2[\"Name\"][1]"
   ]
  },
  {
   "cell_type": "code",
   "execution_count": 91,
   "id": "edf9498a",
   "metadata": {},
   "outputs": [],
   "source": [
    "d2[\"Age\"][0]=26"
   ]
  },
  {
   "cell_type": "code",
   "execution_count": 92,
   "id": "cc163e0f",
   "metadata": {},
   "outputs": [
    {
     "data": {
      "text/plain": [
       "{'Id': [1, 2, 3], 'Name': ['lalit', 'deepak', 'karan'], 'Age': [26, 26, 27]}"
      ]
     },
     "execution_count": 92,
     "metadata": {},
     "output_type": "execute_result"
    }
   ],
   "source": [
    "d2"
   ]
  },
  {
   "cell_type": "markdown",
   "id": "1af96199",
   "metadata": {},
   "source": [
    "# SETS"
   ]
  },
  {
   "cell_type": "markdown",
   "id": "7487f3a2",
   "metadata": {},
   "source": [
    "Sets\n",
    "\n",
    "A python set is the collection of the unordered items. Each element in the set must be unique, immutable, and the sets remove the duplicate elements. Sets are immutable which means we can not modify it after its creation.\n",
    "\n",
    "unlike other collections in python, there is no index attached to the elements of the set, i.e., we can not directly access any element of the set by the index. However, we can print them all together, or we can get the list of element by the looping through the set. "
   ]
  },
  {
   "cell_type": "code",
   "execution_count": 93,
   "id": "c633d75f",
   "metadata": {},
   "outputs": [
    {
     "data": {
      "text/plain": [
       "{12, 20, 38, 45, 50, 65, 78}"
      ]
     },
     "execution_count": 93,
     "metadata": {},
     "output_type": "execute_result"
    }
   ],
   "source": [
    "p={78,45,38,20,12,65,50,20,38}\n",
    "p"
   ]
  },
  {
   "cell_type": "code",
   "execution_count": 94,
   "id": "e36f9ea2",
   "metadata": {},
   "outputs": [
    {
     "data": {
      "text/plain": [
       "{22, 33, 56, 78, 90}"
      ]
     },
     "execution_count": 94,
     "metadata": {},
     "output_type": "execute_result"
    }
   ],
   "source": [
    "x={22,33,56,78,90}\n",
    "x\n"
   ]
  },
  {
   "cell_type": "code",
   "execution_count": 95,
   "id": "a9ad7677",
   "metadata": {},
   "outputs": [
    {
     "data": {
      "text/plain": [
       "{33, 44, 55, 66, 77}"
      ]
     },
     "execution_count": 95,
     "metadata": {},
     "output_type": "execute_result"
    }
   ],
   "source": [
    "y=set([33,44,55,66,77])\n",
    "y"
   ]
  },
  {
   "cell_type": "code",
   "execution_count": 96,
   "id": "a9be7113",
   "metadata": {},
   "outputs": [
    {
     "data": {
      "text/plain": [
       "{22, 51, 64, 87, 95}"
      ]
     },
     "execution_count": 96,
     "metadata": {},
     "output_type": "execute_result"
    }
   ],
   "source": [
    "x=set([22,95,87,64,51])\n",
    "x"
   ]
  },
  {
   "cell_type": "code",
   "execution_count": 97,
   "id": "9f2c6c82",
   "metadata": {},
   "outputs": [
    {
     "data": {
      "text/plain": [
       "set"
      ]
     },
     "execution_count": 97,
     "metadata": {},
     "output_type": "execute_result"
    }
   ],
   "source": [
    "days={\"Monday\",\"Tuesday\",\"Thursday\",\"Wednesday\"}\n",
    "\n",
    "type(days)"
   ]
  },
  {
   "cell_type": "code",
   "execution_count": 98,
   "id": "a636b1a5",
   "metadata": {},
   "outputs": [
    {
     "data": {
      "text/plain": [
       "{'Monday', 'Sunday', 'Thursday', 'Tuesday', 'Wednesday'}"
      ]
     },
     "execution_count": 98,
     "metadata": {},
     "output_type": "execute_result"
    }
   ],
   "source": [
    "days.add(\"Sunday\")\n",
    "days"
   ]
  },
  {
   "cell_type": "code",
   "execution_count": 99,
   "id": "97d2c321",
   "metadata": {},
   "outputs": [],
   "source": [
    "days.remove(\"Sunday\")"
   ]
  },
  {
   "cell_type": "code",
   "execution_count": 100,
   "id": "32524dff",
   "metadata": {},
   "outputs": [
    {
     "data": {
      "text/plain": [
       "{'Monday', 'Thursday', 'Tuesday', 'Wednesday'}"
      ]
     },
     "execution_count": 100,
     "metadata": {},
     "output_type": "execute_result"
    }
   ],
   "source": [
    "days    "
   ]
  },
  {
   "cell_type": "code",
   "execution_count": 101,
   "id": "9361ebe0",
   "metadata": {},
   "outputs": [
    {
     "data": {
      "text/plain": [
       "'Tuesday'"
      ]
     },
     "execution_count": 101,
     "metadata": {},
     "output_type": "execute_result"
    }
   ],
   "source": [
    "days.pop()"
   ]
  },
  {
   "cell_type": "code",
   "execution_count": 102,
   "id": "3920ea7f",
   "metadata": {},
   "outputs": [
    {
     "data": {
      "text/plain": [
       "{'Monday', 'Thursday', 'Wednesday'}"
      ]
     },
     "execution_count": 102,
     "metadata": {},
     "output_type": "execute_result"
    }
   ],
   "source": [
    "days"
   ]
  },
  {
   "cell_type": "code",
   "execution_count": 103,
   "id": "0a75b066",
   "metadata": {},
   "outputs": [],
   "source": [
    "days.clear()"
   ]
  },
  {
   "cell_type": "code",
   "execution_count": 104,
   "id": "97801d45",
   "metadata": {},
   "outputs": [
    {
     "data": {
      "text/plain": [
       "set()"
      ]
     },
     "execution_count": 104,
     "metadata": {},
     "output_type": "execute_result"
    }
   ],
   "source": [
    "days"
   ]
  },
  {
   "cell_type": "code",
   "execution_count": 105,
   "id": "b9be0303",
   "metadata": {},
   "outputs": [],
   "source": [
    "del days"
   ]
  },
  {
   "cell_type": "code",
   "execution_count": 106,
   "id": "7416e2a5",
   "metadata": {},
   "outputs": [
    {
     "name": "stdout",
     "output_type": "stream",
     "text": [
      "2\n"
     ]
    }
   ],
   "source": [
    "set1={1,2,3,4,5}\n",
    "set2={3,4,5}\n",
    "print(len(set1-set2))"
   ]
  },
  {
   "cell_type": "code",
   "execution_count": null,
   "id": "5b2ed2ca",
   "metadata": {},
   "outputs": [],
   "source": []
  },
  {
   "cell_type": "code",
   "execution_count": null,
   "id": "23dd4f1d",
   "metadata": {},
   "outputs": [],
   "source": []
  }
 ],
 "metadata": {
  "kernelspec": {
   "display_name": "Python 3 (ipykernel)",
   "language": "python",
   "name": "python3"
  },
  "language_info": {
   "codemirror_mode": {
    "name": "ipython",
    "version": 3
   },
   "file_extension": ".py",
   "mimetype": "text/x-python",
   "name": "python",
   "nbconvert_exporter": "python",
   "pygments_lexer": "ipython3",
   "version": "3.9.12"
  }
 },
 "nbformat": 4,
 "nbformat_minor": 5
}
