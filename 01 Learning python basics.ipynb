{
 "cells": [
  {
   "cell_type": "markdown",
   "id": "27da7375",
   "metadata": {},
   "source": [
    "# Welcome to python"
   ]
  },
  {
   "cell_type": "markdown",
   "id": "80291c80",
   "metadata": {},
   "source": [
    "Learning python basics"
   ]
  },
  {
   "cell_type": "code",
   "execution_count": 1,
   "id": "8a883c58",
   "metadata": {},
   "outputs": [
    {
     "name": "stdout",
     "output_type": "stream",
     "text": [
      "hello world\n"
     ]
    }
   ],
   "source": [
    "print('hello world')\n",
    "# print is a function is python\n",
    "# parentheses are round brackets\n",
    "# \"\" ''"
   ]
  },
  {
   "cell_type": "code",
   "execution_count": 2,
   "id": "f8bb4d2f",
   "metadata": {},
   "outputs": [
    {
     "name": "stdout",
     "output_type": "stream",
     "text": [
      "10\n",
      "20\n",
      "Lalit\n"
     ]
    }
   ],
   "source": [
    "# is a comment in python\n",
    "# the following code will print the value of variable in python\n",
    "# x=10 y=20\n",
    "# x= \"Lalit\"\n",
    "\n",
    "x=10\n",
    "y=20\n",
    "myName='Lalit'\n",
    "\n",
    "print(x)\n",
    "print(y)\n",
    "print(myName)"
   ]
  },
  {
   "cell_type": "code",
   "execution_count": 3,
   "id": "76a61e41",
   "metadata": {},
   "outputs": [
    {
     "name": "stdout",
     "output_type": "stream",
     "text": [
      "Lalit Goyal\n"
     ]
    }
   ],
   "source": [
    "firstName='Lalit'\n",
    "lastName='Goyal'\n",
    "\n",
    "print(firstName, lastName)"
   ]
  },
  {
   "cell_type": "code",
   "execution_count": 4,
   "id": "8b0e82c4",
   "metadata": {},
   "outputs": [
    {
     "name": "stdout",
     "output_type": "stream",
     "text": [
      "LalitGoyal\n"
     ]
    }
   ],
   "source": [
    "print(firstName + lastName)"
   ]
  },
  {
   "cell_type": "code",
   "execution_count": 5,
   "id": "07b17e44",
   "metadata": {},
   "outputs": [
    {
     "name": "stdout",
     "output_type": "stream",
     "text": [
      "110\n"
     ]
    }
   ],
   "source": [
    "a=50\n",
    "b=60\n",
    "\n",
    "# The sum of a and b is 110\n",
    "\n",
    "print(a+b)"
   ]
  },
  {
   "cell_type": "code",
   "execution_count": 6,
   "id": "2d3daf42",
   "metadata": {},
   "outputs": [
    {
     "name": "stdout",
     "output_type": "stream",
     "text": [
      "The sum of a and b is  110\n"
     ]
    }
   ],
   "source": [
    "print(\"The sum of a and b is \", a+b)"
   ]
  },
  {
   "cell_type": "markdown",
   "id": "a7e937ad",
   "metadata": {},
   "source": [
    "# Working with operators"
   ]
  },
  {
   "cell_type": "code",
   "execution_count": 7,
   "id": "04f53fd5",
   "metadata": {},
   "outputs": [
    {
     "data": {
      "text/plain": [
       "4"
      ]
     },
     "execution_count": 7,
     "metadata": {},
     "output_type": "execute_result"
    }
   ],
   "source": [
    "2+2"
   ]
  },
  {
   "cell_type": "code",
   "execution_count": 8,
   "id": "dde1778e",
   "metadata": {},
   "outputs": [
    {
     "data": {
      "text/plain": [
       "1"
      ]
     },
     "execution_count": 8,
     "metadata": {},
     "output_type": "execute_result"
    }
   ],
   "source": [
    "2-1"
   ]
  },
  {
   "cell_type": "code",
   "execution_count": 9,
   "id": "8027850c",
   "metadata": {},
   "outputs": [
    {
     "data": {
      "text/plain": [
       "6"
      ]
     },
     "execution_count": 9,
     "metadata": {},
     "output_type": "execute_result"
    }
   ],
   "source": [
    "2*3"
   ]
  },
  {
   "cell_type": "code",
   "execution_count": 10,
   "id": "2be42f2d",
   "metadata": {},
   "outputs": [
    {
     "data": {
      "text/plain": [
       "40"
      ]
     },
     "execution_count": 10,
     "metadata": {},
     "output_type": "execute_result"
    }
   ],
   "source": [
    "5*8"
   ]
  },
  {
   "cell_type": "code",
   "execution_count": 11,
   "id": "1fe49c4d",
   "metadata": {},
   "outputs": [
    {
     "data": {
      "text/plain": [
       "5.0"
      ]
     },
     "execution_count": 11,
     "metadata": {},
     "output_type": "execute_result"
    }
   ],
   "source": [
    "10/2"
   ]
  },
  {
   "cell_type": "code",
   "execution_count": 12,
   "id": "b835c67e",
   "metadata": {},
   "outputs": [
    {
     "data": {
      "text/plain": [
       "10.0"
      ]
     },
     "execution_count": 12,
     "metadata": {},
     "output_type": "execute_result"
    }
   ],
   "source": [
    "60/6"
   ]
  },
  {
   "cell_type": "markdown",
   "id": "b97de8f2",
   "metadata": {},
   "source": [
    "Modulus operators"
   ]
  },
  {
   "cell_type": "code",
   "execution_count": 13,
   "id": "1b515bb7",
   "metadata": {},
   "outputs": [
    {
     "data": {
      "text/plain": [
       "0"
      ]
     },
     "execution_count": 13,
     "metadata": {},
     "output_type": "execute_result"
    }
   ],
   "source": [
    "10%2"
   ]
  },
  {
   "cell_type": "code",
   "execution_count": 14,
   "id": "d0fb7af4",
   "metadata": {},
   "outputs": [
    {
     "data": {
      "text/plain": [
       "1"
      ]
     },
     "execution_count": 14,
     "metadata": {},
     "output_type": "execute_result"
    }
   ],
   "source": [
    "11%2"
   ]
  },
  {
   "cell_type": "markdown",
   "id": "c0aef872",
   "metadata": {},
   "source": [
    "Floor division"
   ]
  },
  {
   "cell_type": "code",
   "execution_count": 15,
   "id": "26a4dee7",
   "metadata": {},
   "outputs": [
    {
     "data": {
      "text/plain": [
       "5"
      ]
     },
     "execution_count": 15,
     "metadata": {},
     "output_type": "execute_result"
    }
   ],
   "source": [
    "10//2"
   ]
  },
  {
   "cell_type": "code",
   "execution_count": 16,
   "id": "20092032",
   "metadata": {},
   "outputs": [
    {
     "data": {
      "text/plain": [
       "10"
      ]
     },
     "execution_count": 16,
     "metadata": {},
     "output_type": "execute_result"
    }
   ],
   "source": [
    "60//6"
   ]
  },
  {
   "cell_type": "markdown",
   "id": "962f7d9b",
   "metadata": {},
   "source": [
    "Power Operators\n"
   ]
  },
  {
   "cell_type": "code",
   "execution_count": 17,
   "id": "280ec18e",
   "metadata": {},
   "outputs": [],
   "source": [
    "# = **\n",
    "# k**n"
   ]
  },
  {
   "cell_type": "code",
   "execution_count": 18,
   "id": "24918eef",
   "metadata": {},
   "outputs": [
    {
     "data": {
      "text/plain": [
       "4"
      ]
     },
     "execution_count": 18,
     "metadata": {},
     "output_type": "execute_result"
    }
   ],
   "source": [
    "2**2"
   ]
  },
  {
   "cell_type": "code",
   "execution_count": 19,
   "id": "dcc5d046",
   "metadata": {},
   "outputs": [
    {
     "data": {
      "text/plain": [
       "8"
      ]
     },
     "execution_count": 19,
     "metadata": {},
     "output_type": "execute_result"
    }
   ],
   "source": [
    "2**3"
   ]
  },
  {
   "cell_type": "code",
   "execution_count": 20,
   "id": "22598bab",
   "metadata": {},
   "outputs": [
    {
     "data": {
      "text/plain": [
       "9"
      ]
     },
     "execution_count": 20,
     "metadata": {},
     "output_type": "execute_result"
    }
   ],
   "source": [
    "3**2"
   ]
  },
  {
   "cell_type": "code",
   "execution_count": 21,
   "id": "975cb56d",
   "metadata": {},
   "outputs": [
    {
     "data": {
      "text/plain": [
       "27"
      ]
     },
     "execution_count": 21,
     "metadata": {},
     "output_type": "execute_result"
    }
   ],
   "source": [
    "3**3"
   ]
  },
  {
   "cell_type": "code",
   "execution_count": 22,
   "id": "a71e5823",
   "metadata": {},
   "outputs": [
    {
     "data": {
      "text/plain": [
       "64"
      ]
     },
     "execution_count": 22,
     "metadata": {},
     "output_type": "execute_result"
    }
   ],
   "source": [
    "4**3"
   ]
  },
  {
   "cell_type": "code",
   "execution_count": 23,
   "id": "4b2cb84f",
   "metadata": {},
   "outputs": [
    {
     "data": {
      "text/plain": [
       "125"
      ]
     },
     "execution_count": 23,
     "metadata": {},
     "output_type": "execute_result"
    }
   ],
   "source": [
    "5**3"
   ]
  },
  {
   "cell_type": "markdown",
   "id": "dad1895a",
   "metadata": {},
   "source": [
    "Find Square Root"
   ]
  },
  {
   "cell_type": "code",
   "execution_count": 24,
   "id": "59b3044c",
   "metadata": {},
   "outputs": [
    {
     "data": {
      "text/plain": [
       "5.0"
      ]
     },
     "execution_count": 24,
     "metadata": {},
     "output_type": "execute_result"
    }
   ],
   "source": [
    "25**(1/2)"
   ]
  },
  {
   "cell_type": "code",
   "execution_count": 25,
   "id": "6eca38c9",
   "metadata": {},
   "outputs": [
    {
     "data": {
      "text/plain": [
       "8.0"
      ]
     },
     "execution_count": 25,
     "metadata": {},
     "output_type": "execute_result"
    }
   ],
   "source": [
    "64**(1/2)"
   ]
  },
  {
   "cell_type": "code",
   "execution_count": 26,
   "id": "e503ead6",
   "metadata": {},
   "outputs": [
    {
     "name": "stdout",
     "output_type": "stream",
     "text": [
      "Hello\n"
     ]
    }
   ],
   "source": [
    "print(\"Hello\")"
   ]
  },
  {
   "cell_type": "code",
   "execution_count": 27,
   "id": "38d89f69",
   "metadata": {},
   "outputs": [
    {
     "name": "stdout",
     "output_type": "stream",
     "text": [
      "Hello\n"
     ]
    }
   ],
   "source": [
    "print('Hello')\n",
    "\n",
    "# string valu"
   ]
  },
  {
   "cell_type": "code",
   "execution_count": 28,
   "id": "de7669a2",
   "metadata": {},
   "outputs": [
    {
     "name": "stdout",
     "output_type": "stream",
     "text": [
      "Learning the Python fundamaental\n"
     ]
    }
   ],
   "source": [
    "print(\"Learning the Python fundamaental\")"
   ]
  },
  {
   "cell_type": "markdown",
   "id": "728a8e34",
   "metadata": {},
   "source": [
    "Wroking with variables "
   ]
  },
  {
   "cell_type": "code",
   "execution_count": 29,
   "id": "43e3b352",
   "metadata": {},
   "outputs": [],
   "source": [
    "a=10"
   ]
  },
  {
   "cell_type": "code",
   "execution_count": 30,
   "id": "30cd662d",
   "metadata": {},
   "outputs": [
    {
     "data": {
      "text/plain": [
       "10"
      ]
     },
     "execution_count": 30,
     "metadata": {},
     "output_type": "execute_result"
    }
   ],
   "source": [
    "a"
   ]
  },
  {
   "cell_type": "code",
   "execution_count": 31,
   "id": "ea244bf2",
   "metadata": {},
   "outputs": [],
   "source": [
    "b=8"
   ]
  },
  {
   "cell_type": "code",
   "execution_count": 32,
   "id": "3f1e795d",
   "metadata": {},
   "outputs": [
    {
     "data": {
      "text/plain": [
       "8"
      ]
     },
     "execution_count": 32,
     "metadata": {},
     "output_type": "execute_result"
    }
   ],
   "source": [
    "b"
   ]
  },
  {
   "cell_type": "code",
   "execution_count": 33,
   "id": "1d02c3b1",
   "metadata": {},
   "outputs": [
    {
     "data": {
      "text/plain": [
       "18"
      ]
     },
     "execution_count": 33,
     "metadata": {},
     "output_type": "execute_result"
    }
   ],
   "source": [
    "a+b"
   ]
  },
  {
   "cell_type": "code",
   "execution_count": 34,
   "id": "466aef98",
   "metadata": {},
   "outputs": [
    {
     "data": {
      "text/plain": [
       "2"
      ]
     },
     "execution_count": 34,
     "metadata": {},
     "output_type": "execute_result"
    }
   ],
   "source": [
    "a-b"
   ]
  },
  {
   "cell_type": "code",
   "execution_count": 35,
   "id": "48efb3db",
   "metadata": {},
   "outputs": [
    {
     "data": {
      "text/plain": [
       "80"
      ]
     },
     "execution_count": 35,
     "metadata": {},
     "output_type": "execute_result"
    }
   ],
   "source": [
    "a*b"
   ]
  },
  {
   "cell_type": "code",
   "execution_count": 36,
   "id": "c010fa4f",
   "metadata": {},
   "outputs": [
    {
     "data": {
      "text/plain": [
       "1.25"
      ]
     },
     "execution_count": 36,
     "metadata": {},
     "output_type": "execute_result"
    }
   ],
   "source": [
    "a/b"
   ]
  },
  {
   "cell_type": "code",
   "execution_count": 37,
   "id": "13781476",
   "metadata": {},
   "outputs": [],
   "source": [
    "c=a+b"
   ]
  },
  {
   "cell_type": "code",
   "execution_count": 38,
   "id": "edeefb1e",
   "metadata": {},
   "outputs": [
    {
     "data": {
      "text/plain": [
       "18"
      ]
     },
     "execution_count": 38,
     "metadata": {},
     "output_type": "execute_result"
    }
   ],
   "source": [
    "c"
   ]
  },
  {
   "cell_type": "code",
   "execution_count": 39,
   "id": "c9068474",
   "metadata": {},
   "outputs": [
    {
     "name": "stdout",
     "output_type": "stream",
     "text": [
      "18\n"
     ]
    }
   ],
   "source": [
    "print(c)"
   ]
  },
  {
   "cell_type": "code",
   "execution_count": 40,
   "id": "a93a15fb",
   "metadata": {},
   "outputs": [
    {
     "name": "stdout",
     "output_type": "stream",
     "text": [
      "c\n"
     ]
    }
   ],
   "source": [
    "print(\"c\")"
   ]
  },
  {
   "cell_type": "code",
   "execution_count": 41,
   "id": "0ad5452f",
   "metadata": {},
   "outputs": [
    {
     "name": "stdout",
     "output_type": "stream",
     "text": [
      "c = 18\n"
     ]
    }
   ],
   "source": [
    "print(\"c =\",c)"
   ]
  },
  {
   "cell_type": "code",
   "execution_count": 42,
   "id": "d0fba167",
   "metadata": {},
   "outputs": [
    {
     "name": "stdout",
     "output_type": "stream",
     "text": [
      "the Value of C = 18\n"
     ]
    }
   ],
   "source": [
    "print(\"the Value of C =\",c)"
   ]
  },
  {
   "cell_type": "markdown",
   "id": "0b58945d",
   "metadata": {},
   "source": [
    "Find area of rectangle"
   ]
  },
  {
   "cell_type": "code",
   "execution_count": 43,
   "id": "828b4b47",
   "metadata": {},
   "outputs": [
    {
     "name": "stdout",
     "output_type": "stream",
     "text": [
      "The area of rectangle = 500\n",
      "The area of circle with lenght = 50 and breadth = 10 is = 500\n"
     ]
    }
   ],
   "source": [
    "lenght=50\n",
    "\n",
    "breadth=10\n",
    "\n",
    "area=lenght*breadth\n",
    "\n",
    "print(\"The area of rectangle =\",area)\n",
    "\n",
    "    \n",
    "print(\"The area of circle with lenght =\",lenght,\"and breadth =\",breadth,\"is =\",area)"
   ]
  },
  {
   "cell_type": "markdown",
   "id": "b11f38d3",
   "metadata": {},
   "source": [
    "Area of circle"
   ]
  },
  {
   "cell_type": "code",
   "execution_count": 44,
   "id": "b2fe0503",
   "metadata": {},
   "outputs": [
    {
     "name": "stdout",
     "output_type": "stream",
     "text": [
      "The area of circle = 785000.0\n"
     ]
    }
   ],
   "source": [
    "pi=3.14   #constant\n",
    "\n",
    "radius=area\n",
    "\n",
    "area_of_circle=pi*(radius**2)\n",
    "\n",
    "print(\"The area of circle =\",area_of_circle)\n",
    "  "
   ]
  },
  {
   "cell_type": "markdown",
   "id": "8a91c31c",
   "metadata": {},
   "source": [
    "\n",
    "# Comparison operators"
   ]
  },
  {
   "cell_type": "markdown",
   "id": "a9d58bae",
   "metadata": {},
   "source": [
    "<,>,==,!="
   ]
  },
  {
   "cell_type": "code",
   "execution_count": 45,
   "id": "3990cf54",
   "metadata": {},
   "outputs": [
    {
     "data": {
      "text/plain": [
       "True"
      ]
     },
     "execution_count": 45,
     "metadata": {},
     "output_type": "execute_result"
    }
   ],
   "source": [
    "100<700"
   ]
  },
  {
   "cell_type": "code",
   "execution_count": 46,
   "id": "c7b08e56",
   "metadata": {},
   "outputs": [
    {
     "data": {
      "text/plain": [
       "True"
      ]
     },
     "execution_count": 46,
     "metadata": {},
     "output_type": "execute_result"
    }
   ],
   "source": [
    "100>50"
   ]
  },
  {
   "cell_type": "code",
   "execution_count": 47,
   "id": "7619da55",
   "metadata": {},
   "outputs": [
    {
     "data": {
      "text/plain": [
       "True"
      ]
     },
     "execution_count": 47,
     "metadata": {},
     "output_type": "execute_result"
    }
   ],
   "source": [
    "455==455"
   ]
  },
  {
   "cell_type": "code",
   "execution_count": 48,
   "id": "7d1dfa2d",
   "metadata": {},
   "outputs": [
    {
     "data": {
      "text/plain": [
       "True"
      ]
     },
     "execution_count": 48,
     "metadata": {},
     "output_type": "execute_result"
    }
   ],
   "source": [
    "800==800     # Equals to"
   ]
  },
  {
   "cell_type": "code",
   "execution_count": 49,
   "id": "fa6e6414",
   "metadata": {},
   "outputs": [
    {
     "data": {
      "text/plain": [
       "False"
      ]
     },
     "execution_count": 49,
     "metadata": {},
     "output_type": "execute_result"
    }
   ],
   "source": [
    "90!=90    #not equals to"
   ]
  },
  {
   "cell_type": "code",
   "execution_count": 50,
   "id": "26c2cdd9",
   "metadata": {},
   "outputs": [],
   "source": [
    "x=20   # = is assignmeant operators"
   ]
  },
  {
   "cell_type": "code",
   "execution_count": 51,
   "id": "10b9f661",
   "metadata": {},
   "outputs": [
    {
     "data": {
      "text/plain": [
       "20"
      ]
     },
     "execution_count": 51,
     "metadata": {},
     "output_type": "execute_result"
    }
   ],
   "source": [
    "x"
   ]
  },
  {
   "cell_type": "code",
   "execution_count": 52,
   "id": "5cf14e3b",
   "metadata": {},
   "outputs": [],
   "source": [
    "y=80"
   ]
  },
  {
   "cell_type": "code",
   "execution_count": 53,
   "id": "4a75f390",
   "metadata": {},
   "outputs": [
    {
     "data": {
      "text/plain": [
       "80"
      ]
     },
     "execution_count": 53,
     "metadata": {},
     "output_type": "execute_result"
    }
   ],
   "source": [
    "y"
   ]
  },
  {
   "cell_type": "code",
   "execution_count": 54,
   "id": "dadee7ba",
   "metadata": {},
   "outputs": [
    {
     "data": {
      "text/plain": [
       "True"
      ]
     },
     "execution_count": 54,
     "metadata": {},
     "output_type": "execute_result"
    }
   ],
   "source": [
    "x<y"
   ]
  },
  {
   "cell_type": "code",
   "execution_count": 55,
   "id": "2d90a231",
   "metadata": {},
   "outputs": [
    {
     "data": {
      "text/plain": [
       "True"
      ]
     },
     "execution_count": 55,
     "metadata": {},
     "output_type": "execute_result"
    }
   ],
   "source": [
    "y>x"
   ]
  },
  {
   "cell_type": "code",
   "execution_count": 56,
   "id": "8864ac2a",
   "metadata": {},
   "outputs": [
    {
     "data": {
      "text/plain": [
       "False"
      ]
     },
     "execution_count": 56,
     "metadata": {},
     "output_type": "execute_result"
    }
   ],
   "source": [
    "x==y"
   ]
  },
  {
   "cell_type": "code",
   "execution_count": 57,
   "id": "5ae9706e",
   "metadata": {},
   "outputs": [
    {
     "data": {
      "text/plain": [
       "True"
      ]
     },
     "execution_count": 57,
     "metadata": {},
     "output_type": "execute_result"
    }
   ],
   "source": [
    "y!=x"
   ]
  },
  {
   "cell_type": "markdown",
   "id": "743feeae",
   "metadata": {},
   "source": [
    "Lenth is counting of total number of cracters "
   ]
  },
  {
   "cell_type": "code",
   "execution_count": 58,
   "id": "c903d8af",
   "metadata": {},
   "outputs": [
    {
     "data": {
      "text/plain": [
       "5"
      ]
     },
     "execution_count": 58,
     "metadata": {},
     "output_type": "execute_result"
    }
   ],
   "source": [
    "len(\"lalit\")"
   ]
  },
  {
   "cell_type": "code",
   "execution_count": 59,
   "id": "25c9cd6c",
   "metadata": {},
   "outputs": [
    {
     "data": {
      "text/plain": [
       "6"
      ]
     },
     "execution_count": 59,
     "metadata": {},
     "output_type": "execute_result"
    }
   ],
   "source": [
    "len(\"london\")"
   ]
  },
  {
   "cell_type": "code",
   "execution_count": 60,
   "id": "81b25bc8",
   "metadata": {},
   "outputs": [],
   "source": [
    "city=(\"londan\")"
   ]
  },
  {
   "cell_type": "code",
   "execution_count": 61,
   "id": "fa5459c2",
   "metadata": {},
   "outputs": [
    {
     "data": {
      "text/plain": [
       "4"
      ]
     },
     "execution_count": 61,
     "metadata": {},
     "output_type": "execute_result"
    }
   ],
   "source": [
    "len(\"city\")"
   ]
  },
  {
   "cell_type": "code",
   "execution_count": 62,
   "id": "6a2ba121",
   "metadata": {},
   "outputs": [
    {
     "data": {
      "text/plain": [
       "6"
      ]
     },
     "execution_count": 62,
     "metadata": {},
     "output_type": "execute_result"
    }
   ],
   "source": [
    "len(city)"
   ]
  },
  {
   "cell_type": "markdown",
   "id": "05121d87",
   "metadata": {},
   "source": [
    "Type casting-- converting one datatype into other datatype"
   ]
  },
  {
   "cell_type": "code",
   "execution_count": 63,
   "id": "cece5ec6",
   "metadata": {},
   "outputs": [
    {
     "data": {
      "text/plain": [
       "23"
      ]
     },
     "execution_count": 63,
     "metadata": {},
     "output_type": "execute_result"
    }
   ],
   "source": [
    "23"
   ]
  },
  {
   "cell_type": "code",
   "execution_count": 64,
   "id": "51aaf316",
   "metadata": {},
   "outputs": [
    {
     "data": {
      "text/plain": [
       "int"
      ]
     },
     "execution_count": 64,
     "metadata": {},
     "output_type": "execute_result"
    }
   ],
   "source": [
    "type(23)"
   ]
  },
  {
   "cell_type": "code",
   "execution_count": 65,
   "id": "9b436133",
   "metadata": {},
   "outputs": [
    {
     "data": {
      "text/plain": [
       "23.0"
      ]
     },
     "execution_count": 65,
     "metadata": {},
     "output_type": "execute_result"
    }
   ],
   "source": [
    "float(23)"
   ]
  },
  {
   "cell_type": "code",
   "execution_count": 66,
   "id": "6dfc0f37",
   "metadata": {},
   "outputs": [],
   "source": [
    "s=20"
   ]
  },
  {
   "cell_type": "code",
   "execution_count": 67,
   "id": "18d2b737",
   "metadata": {},
   "outputs": [
    {
     "data": {
      "text/plain": [
       "int"
      ]
     },
     "execution_count": 67,
     "metadata": {},
     "output_type": "execute_result"
    }
   ],
   "source": [
    "type(s)"
   ]
  },
  {
   "cell_type": "code",
   "execution_count": 68,
   "id": "26bbd33c",
   "metadata": {},
   "outputs": [],
   "source": [
    "h=float(s)"
   ]
  },
  {
   "cell_type": "code",
   "execution_count": 69,
   "id": "2e900467",
   "metadata": {},
   "outputs": [
    {
     "data": {
      "text/plain": [
       "20.0"
      ]
     },
     "execution_count": 69,
     "metadata": {},
     "output_type": "execute_result"
    }
   ],
   "source": [
    "h"
   ]
  },
  {
   "cell_type": "code",
   "execution_count": 70,
   "id": "49e93bee",
   "metadata": {},
   "outputs": [
    {
     "data": {
      "text/plain": [
       "float"
      ]
     },
     "execution_count": 70,
     "metadata": {},
     "output_type": "execute_result"
    }
   ],
   "source": [
    "type(h)"
   ]
  },
  {
   "cell_type": "code",
   "execution_count": 71,
   "id": "2612bbb3",
   "metadata": {},
   "outputs": [],
   "source": [
    "t=78.5"
   ]
  },
  {
   "cell_type": "code",
   "execution_count": 72,
   "id": "2543ed22",
   "metadata": {},
   "outputs": [
    {
     "data": {
      "text/plain": [
       "float"
      ]
     },
     "execution_count": 72,
     "metadata": {},
     "output_type": "execute_result"
    }
   ],
   "source": [
    "type(t)"
   ]
  },
  {
   "cell_type": "code",
   "execution_count": 73,
   "id": "3029a957",
   "metadata": {},
   "outputs": [],
   "source": [
    "k=int(t)"
   ]
  },
  {
   "cell_type": "code",
   "execution_count": 74,
   "id": "d3fb2a12",
   "metadata": {},
   "outputs": [
    {
     "data": {
      "text/plain": [
       "78"
      ]
     },
     "execution_count": 74,
     "metadata": {},
     "output_type": "execute_result"
    }
   ],
   "source": [
    "k"
   ]
  },
  {
   "cell_type": "code",
   "execution_count": 75,
   "id": "a28268f3",
   "metadata": {},
   "outputs": [
    {
     "data": {
      "text/plain": [
       "int"
      ]
     },
     "execution_count": 75,
     "metadata": {},
     "output_type": "execute_result"
    }
   ],
   "source": [
    "type(k)"
   ]
  },
  {
   "cell_type": "code",
   "execution_count": 76,
   "id": "b98adc99",
   "metadata": {},
   "outputs": [
    {
     "data": {
      "text/plain": [
       "str"
      ]
     },
     "execution_count": 76,
     "metadata": {},
     "output_type": "execute_result"
    }
   ],
   "source": [
    "type(\"desktop\")"
   ]
  },
  {
   "cell_type": "code",
   "execution_count": 77,
   "id": "c7476c37",
   "metadata": {},
   "outputs": [
    {
     "data": {
      "text/plain": [
       "str"
      ]
     },
     "execution_count": 77,
     "metadata": {},
     "output_type": "execute_result"
    }
   ],
   "source": [
    "type(\"mobile\")"
   ]
  },
  {
   "cell_type": "code",
   "execution_count": 78,
   "id": "b687c27f",
   "metadata": {},
   "outputs": [],
   "source": [
    "p='89'"
   ]
  },
  {
   "cell_type": "code",
   "execution_count": 79,
   "id": "707b7714",
   "metadata": {},
   "outputs": [
    {
     "data": {
      "text/plain": [
       "str"
      ]
     },
     "execution_count": 79,
     "metadata": {},
     "output_type": "execute_result"
    }
   ],
   "source": [
    "type(p)"
   ]
  },
  {
   "cell_type": "code",
   "execution_count": 80,
   "id": "74ba446f",
   "metadata": {},
   "outputs": [],
   "source": [
    "f=int(p)"
   ]
  },
  {
   "cell_type": "code",
   "execution_count": 81,
   "id": "99e5291b",
   "metadata": {},
   "outputs": [
    {
     "data": {
      "text/plain": [
       "int"
      ]
     },
     "execution_count": 81,
     "metadata": {},
     "output_type": "execute_result"
    }
   ],
   "source": [
    "type(f)"
   ]
  },
  {
   "cell_type": "code",
   "execution_count": 82,
   "id": "11865ab5",
   "metadata": {},
   "outputs": [
    {
     "data": {
      "text/plain": [
       "89"
      ]
     },
     "execution_count": 82,
     "metadata": {},
     "output_type": "execute_result"
    }
   ],
   "source": [
    "f"
   ]
  },
  {
   "cell_type": "markdown",
   "id": "18631459",
   "metadata": {},
   "source": [
    "string concatenation"
   ]
  },
  {
   "cell_type": "code",
   "execution_count": 83,
   "id": "f8568f31",
   "metadata": {},
   "outputs": [
    {
     "data": {
      "text/plain": [
       "'77'"
      ]
     },
     "execution_count": 83,
     "metadata": {},
     "output_type": "execute_result"
    }
   ],
   "source": [
    "'7'+'7'"
   ]
  },
  {
   "cell_type": "code",
   "execution_count": 84,
   "id": "fd9f7e48",
   "metadata": {},
   "outputs": [
    {
     "data": {
      "text/plain": [
       "'9090'"
      ]
     },
     "execution_count": 84,
     "metadata": {},
     "output_type": "execute_result"
    }
   ],
   "source": [
    "\"90\"+\"90\""
   ]
  },
  {
   "cell_type": "code",
   "execution_count": 85,
   "id": "c555767b",
   "metadata": {},
   "outputs": [
    {
     "data": {
      "text/plain": [
       "'abcd'"
      ]
     },
     "execution_count": 85,
     "metadata": {},
     "output_type": "execute_result"
    }
   ],
   "source": [
    "\"ab\"+\"cd\""
   ]
  },
  {
   "cell_type": "code",
   "execution_count": 86,
   "id": "6c9217f3",
   "metadata": {},
   "outputs": [
    {
     "data": {
      "text/plain": [
       "'Lalit Goyal'"
      ]
     },
     "execution_count": 86,
     "metadata": {},
     "output_type": "execute_result"
    }
   ],
   "source": [
    "\"Lalit\"+\" Goyal\""
   ]
  },
  {
   "cell_type": "code",
   "execution_count": 87,
   "id": "d43fdc1d",
   "metadata": {},
   "outputs": [
    {
     "data": {
      "text/plain": [
       "'45.25 float'"
      ]
     },
     "execution_count": 87,
     "metadata": {},
     "output_type": "execute_result"
    }
   ],
   "source": [
    "\"45.25\" + \" float\""
   ]
  },
  {
   "cell_type": "markdown",
   "id": "011fee43",
   "metadata": {},
   "source": [
    "user input"
   ]
  },
  {
   "cell_type": "code",
   "execution_count": 88,
   "id": "f24c151f",
   "metadata": {},
   "outputs": [
    {
     "name": "stdout",
     "output_type": "stream",
     "text": [
      "Enter the country name = 22\n"
     ]
    }
   ],
   "source": [
    "country=input(\"Enter the country name = \")\n"
   ]
  },
  {
   "cell_type": "code",
   "execution_count": 89,
   "id": "7a1db16e",
   "metadata": {},
   "outputs": [
    {
     "data": {
      "text/plain": [
       "'22'"
      ]
     },
     "execution_count": 89,
     "metadata": {},
     "output_type": "execute_result"
    }
   ],
   "source": [
    "country"
   ]
  },
  {
   "cell_type": "code",
   "execution_count": 90,
   "id": "683d9c85",
   "metadata": {
    "scrolled": true
   },
   "outputs": [
    {
     "name": "stdout",
     "output_type": "stream",
     "text": [
      "Enter any language =22\n"
     ]
    },
    {
     "data": {
      "text/plain": [
       "'22'"
      ]
     },
     "execution_count": 90,
     "metadata": {},
     "output_type": "execute_result"
    }
   ],
   "source": [
    "language=input(\"Enter any language =\")\n",
    "\n",
    "language"
   ]
  },
  {
   "cell_type": "code",
   "execution_count": 91,
   "id": "e9be6b56",
   "metadata": {},
   "outputs": [
    {
     "data": {
      "text/plain": [
       "('22', '22')"
      ]
     },
     "execution_count": 91,
     "metadata": {},
     "output_type": "execute_result"
    }
   ],
   "source": [
    "p=(country,language)\n",
    "p"
   ]
  },
  {
   "cell_type": "code",
   "execution_count": 92,
   "id": "cd9fd8f9",
   "metadata": {},
   "outputs": [
    {
     "data": {
      "text/plain": [
       "2"
      ]
     },
     "execution_count": 92,
     "metadata": {},
     "output_type": "execute_result"
    }
   ],
   "source": [
    "len(language)"
   ]
  },
  {
   "cell_type": "code",
   "execution_count": 93,
   "id": "55e7dba2",
   "metadata": {},
   "outputs": [
    {
     "name": "stdout",
     "output_type": "stream",
     "text": [
      "Enter any number 22\n"
     ]
    },
    {
     "data": {
      "text/plain": [
       "'22'"
      ]
     },
     "execution_count": 93,
     "metadata": {},
     "output_type": "execute_result"
    }
   ],
   "source": [
    "a=input(\"Enter any number \")\n",
    "a"
   ]
  },
  {
   "cell_type": "code",
   "execution_count": 94,
   "id": "5e7f8f5c",
   "metadata": {},
   "outputs": [
    {
     "data": {
      "text/plain": [
       "str"
      ]
     },
     "execution_count": 94,
     "metadata": {},
     "output_type": "execute_result"
    }
   ],
   "source": [
    "type(a)"
   ]
  },
  {
   "cell_type": "code",
   "execution_count": 95,
   "id": "95d00352",
   "metadata": {},
   "outputs": [
    {
     "name": "stdout",
     "output_type": "stream",
     "text": [
      "Enter any number 22\n"
     ]
    },
    {
     "data": {
      "text/plain": [
       "'22'"
      ]
     },
     "execution_count": 95,
     "metadata": {},
     "output_type": "execute_result"
    }
   ],
   "source": [
    "b=input(\"Enter any number \")\n",
    "b"
   ]
  },
  {
   "cell_type": "code",
   "execution_count": 96,
   "id": "51e23279",
   "metadata": {},
   "outputs": [
    {
     "data": {
      "text/plain": [
       "str"
      ]
     },
     "execution_count": 96,
     "metadata": {},
     "output_type": "execute_result"
    }
   ],
   "source": [
    "type(b)"
   ]
  },
  {
   "cell_type": "code",
   "execution_count": 97,
   "id": "5a91abfa",
   "metadata": {},
   "outputs": [
    {
     "data": {
      "text/plain": [
       "'2222'"
      ]
     },
     "execution_count": 97,
     "metadata": {},
     "output_type": "execute_result"
    }
   ],
   "source": [
    "a+b"
   ]
  },
  {
   "cell_type": "code",
   "execution_count": 98,
   "id": "631b9f70",
   "metadata": {},
   "outputs": [
    {
     "name": "stdout",
     "output_type": "stream",
     "text": [
      "Enter any number = 222\n"
     ]
    },
    {
     "data": {
      "text/plain": [
       "222"
      ]
     },
     "execution_count": 98,
     "metadata": {},
     "output_type": "execute_result"
    }
   ],
   "source": [
    "a1=int(input(\"Enter any number = \"))\n",
    "a1"
   ]
  },
  {
   "cell_type": "code",
   "execution_count": 99,
   "id": "4d72ded6",
   "metadata": {},
   "outputs": [
    {
     "data": {
      "text/plain": [
       "int"
      ]
     },
     "execution_count": 99,
     "metadata": {},
     "output_type": "execute_result"
    }
   ],
   "source": [
    "type(a1)"
   ]
  },
  {
   "cell_type": "code",
   "execution_count": 100,
   "id": "dde5fb23",
   "metadata": {},
   "outputs": [
    {
     "name": "stdout",
     "output_type": "stream",
     "text": [
      "Enter any number = 22\n"
     ]
    },
    {
     "data": {
      "text/plain": [
       "22"
      ]
     },
     "execution_count": 100,
     "metadata": {},
     "output_type": "execute_result"
    }
   ],
   "source": [
    "b1=int(input(\"Enter any number = \"))\n",
    "b1"
   ]
  },
  {
   "cell_type": "code",
   "execution_count": 101,
   "id": "5812d45d",
   "metadata": {},
   "outputs": [
    {
     "data": {
      "text/plain": [
       "int"
      ]
     },
     "execution_count": 101,
     "metadata": {},
     "output_type": "execute_result"
    }
   ],
   "source": [
    "type(b1)"
   ]
  },
  {
   "cell_type": "code",
   "execution_count": 102,
   "id": "3627ab2a",
   "metadata": {},
   "outputs": [
    {
     "data": {
      "text/plain": [
       "244"
      ]
     },
     "execution_count": 102,
     "metadata": {},
     "output_type": "execute_result"
    }
   ],
   "source": [
    "a1+b1"
   ]
  },
  {
   "cell_type": "code",
   "execution_count": 103,
   "id": "64f7f5d6",
   "metadata": {},
   "outputs": [
    {
     "name": "stdout",
     "output_type": "stream",
     "text": [
      "Enter length 22\n",
      "Enter breadth 2\n",
      "area of rectangle is  44\n"
     ]
    }
   ],
   "source": [
    "## area of rectangle\n",
    "\n",
    "length=int(input(\"Enter length \"))\n",
    "breadth=int(input(\"Enter breadth \"))\n",
    "area=length*breadth\n",
    "\n",
    "print(\"area of rectangle is \",area)"
   ]
  },
  {
   "cell_type": "markdown",
   "id": "6888810c",
   "metadata": {},
   "source": [
    "area of circle   == pi*(radius**2) "
   ]
  },
  {
   "cell_type": "code",
   "execution_count": 4,
   "id": "c95f9b23",
   "metadata": {},
   "outputs": [
    {
     "name": "stdout",
     "output_type": "stream",
     "text": [
      "Enter valu of ractnagle 78\n",
      "area of circle is=  19103.760000000002\n",
      "area of circle is=  19103.76\n"
     ]
    }
   ],
   "source": [
    "pi=3.14\n",
    "radius=int(input(\"Enter valu of ractnagle \"))\n",
    "area_of_circle=pi*(radius**2)\n",
    "\n",
    "print(\"area of circle is= \",area_of_circle)\n",
    "print(\"area of circle is= \",round(area_of_circle,2)) \n",
    "\n"
   ]
  },
  {
   "cell_type": "code",
   "execution_count": 2,
   "id": "1f79e3f0",
   "metadata": {},
   "outputs": [
    {
     "data": {
      "text/plain": [
       "78.54"
      ]
     },
     "execution_count": 2,
     "metadata": {},
     "output_type": "execute_result"
    }
   ],
   "source": [
    "round(78.54214262222,2)  ### round is removing the dasimal"
   ]
  },
  {
   "cell_type": "code",
   "execution_count": 106,
   "id": "e2640cec",
   "metadata": {},
   "outputs": [
    {
     "data": {
      "text/plain": [
       "52.54"
      ]
     },
     "execution_count": 106,
     "metadata": {},
     "output_type": "execute_result"
    }
   ],
   "source": [
    "round(52.54161545,2)"
   ]
  },
  {
   "cell_type": "markdown",
   "id": "1d541c79",
   "metadata": {},
   "source": [
    "circumference of circle = 2pir"
   ]
  },
  {
   "cell_type": "code",
   "execution_count": 109,
   "id": "1089f827",
   "metadata": {},
   "outputs": [
    {
     "name": "stdout",
     "output_type": "stream",
     "text": [
      "Enter radius valu 22\n",
      "Circumference of circle with radius = 22 is = 138.16\n"
     ]
    }
   ],
   "source": [
    "pi=3.14\n",
    "radius=int(input(\"Enter radius valu \"))\n",
    "circumference=2*pi*radius\n",
    "\n",
    "print(\"Circumference of circle with radius =\",radius,\"is =\",round(circumference,2))"
   ]
  },
  {
   "cell_type": "code",
   "execution_count": 5,
   "id": "41139510",
   "metadata": {},
   "outputs": [
    {
     "name": "stdout",
     "output_type": "stream",
     "text": [
      "Enter radius valu 78\n",
      "Circumference of circle with radius = 78 is = 490.29\n"
     ]
    }
   ],
   "source": [
    "pi=22/7\n",
    "radius=int(input(\"Enter radius valu \"))\n",
    "circumference=2*pi*radius\n",
    "\n",
    "print(\"Circumference of circle with radius =\",radius,\"is =\",round(circumference,2))"
   ]
  },
  {
   "cell_type": "code",
   "execution_count": null,
   "id": "ed572220",
   "metadata": {},
   "outputs": [],
   "source": []
  }
 ],
 "metadata": {
  "kernelspec": {
   "display_name": "Python 3 (ipykernel)",
   "language": "python",
   "name": "python3"
  },
  "language_info": {
   "codemirror_mode": {
    "name": "ipython",
    "version": 3
   },
   "file_extension": ".py",
   "mimetype": "text/x-python",
   "name": "python",
   "nbconvert_exporter": "python",
   "pygments_lexer": "ipython3",
   "version": "3.9.12"
  }
 },
 "nbformat": 4,
 "nbformat_minor": 5
}
