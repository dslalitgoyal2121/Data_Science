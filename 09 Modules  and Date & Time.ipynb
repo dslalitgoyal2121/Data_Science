{
 "cells": [
  {
   "cell_type": "markdown",
   "id": "24d1dab7",
   "metadata": {},
   "source": [
    "# Modules"
   ]
  },
  {
   "cell_type": "code",
   "execution_count": null,
   "id": "70236193",
   "metadata": {},
   "outputs": [],
   "source": [
    "# import modulename"
   ]
  },
  {
   "cell_type": "code",
   "execution_count": null,
   "id": "8e3b4d05",
   "metadata": {},
   "outputs": [],
   "source": [
    "import keyword"
   ]
  },
  {
   "cell_type": "code",
   "execution_count": null,
   "id": "bedfc560",
   "metadata": {},
   "outputs": [],
   "source": [
    "print(keyword.kwlist)"
   ]
  },
  {
   "cell_type": "markdown",
   "id": "f8cbbb9b",
   "metadata": {},
   "source": [
    "Python Module Search Path"
   ]
  },
  {
   "cell_type": "markdown",
   "id": "9a3d9f37",
   "metadata": {},
   "source": [
    "While importing a module, Python looks at several places. interpreter first looks for a built-in-module then (if not found) into a list or directories defined in sys.path. The Search is in this order. the current directory."
   ]
  },
  {
   "cell_type": "code",
   "execution_count": null,
   "id": "c90d0544",
   "metadata": {},
   "outputs": [],
   "source": [
    "import sys"
   ]
  },
  {
   "cell_type": "code",
   "execution_count": null,
   "id": "8ccad51b",
   "metadata": {},
   "outputs": [],
   "source": [
    "sys.path"
   ]
  },
  {
   "cell_type": "code",
   "execution_count": null,
   "id": "909888e6",
   "metadata": {},
   "outputs": [],
   "source": [
    "import os"
   ]
  },
  {
   "cell_type": "code",
   "execution_count": null,
   "id": "cbfd768b",
   "metadata": {},
   "outputs": [],
   "source": [
    "# get current working directory\n",
    "os.getcwd()"
   ]
  },
  {
   "cell_type": "code",
   "execution_count": null,
   "id": "eccf0352",
   "metadata": {},
   "outputs": [],
   "source": [
    "# Changing Directory\n",
    "# we can change the current working directory using the chdir() method.\n",
    "# os.chdir('c:\\\\users')\n",
    "# os.getcwd()"
   ]
  },
  {
   "cell_type": "code",
   "execution_count": null,
   "id": "11ab1db6",
   "metadata": {},
   "outputs": [],
   "source": [
    "#show the list of files and folders in current working directory\n",
    "os.listdir()"
   ]
  },
  {
   "cell_type": "code",
   "execution_count": null,
   "id": "c24731dd",
   "metadata": {},
   "outputs": [],
   "source": [
    "os.__dict__.keys()"
   ]
  },
  {
   "cell_type": "code",
   "execution_count": null,
   "id": "fdc1054d",
   "metadata": {},
   "outputs": [],
   "source": [
    "import math "
   ]
  },
  {
   "cell_type": "code",
   "execution_count": null,
   "id": "03d75e97",
   "metadata": {},
   "outputs": [],
   "source": [
    "math.pi\n"
   ]
  },
  {
   "cell_type": "code",
   "execution_count": null,
   "id": "f72c0592",
   "metadata": {},
   "outputs": [],
   "source": [
    "radius=45\n",
    "area=math.pi*(radius**2)\n",
    "area"
   ]
  },
  {
   "cell_type": "code",
   "execution_count": null,
   "id": "01f06c29",
   "metadata": {},
   "outputs": [],
   "source": [
    "math.sqrt(25)"
   ]
  },
  {
   "cell_type": "code",
   "execution_count": null,
   "id": "74e2a8cd",
   "metadata": {},
   "outputs": [],
   "source": [
    "math.pow(5,2)"
   ]
  },
  {
   "cell_type": "code",
   "execution_count": null,
   "id": "8b3842b0",
   "metadata": {},
   "outputs": [],
   "source": [
    "math.pow(12,2)"
   ]
  },
  {
   "cell_type": "markdown",
   "id": "5c1994a7",
   "metadata": {},
   "source": [
    "Import with renaming "
   ]
  },
  {
   "cell_type": "markdown",
   "id": "ee054f91",
   "metadata": {},
   "source": [
    "we can import a module by renaming it as follows."
   ]
  },
  {
   "cell_type": "code",
   "execution_count": null,
   "id": "edeced8d",
   "metadata": {},
   "outputs": [],
   "source": [
    "import math as mt"
   ]
  },
  {
   "cell_type": "code",
   "execution_count": null,
   "id": "9f98c612",
   "metadata": {},
   "outputs": [],
   "source": [
    "mt.pow(15,2)"
   ]
  },
  {
   "cell_type": "code",
   "execution_count": null,
   "id": "ccd4ad73",
   "metadata": {},
   "outputs": [],
   "source": [
    "mt.sqrt(49)"
   ]
  },
  {
   "cell_type": "markdown",
   "id": "f6cc49c4",
   "metadata": {},
   "source": [
    "Python from import statement"
   ]
  },
  {
   "cell_type": "markdown",
   "id": "7a5a17e2",
   "metadata": {},
   "source": [
    "We can import specific names from a module withoud importing the module as whole. Here is an Example."
   ]
  },
  {
   "cell_type": "code",
   "execution_count": null,
   "id": "232632c6",
   "metadata": {},
   "outputs": [],
   "source": [
    "from math import sqrt"
   ]
  },
  {
   "cell_type": "code",
   "execution_count": null,
   "id": "1703986e",
   "metadata": {},
   "outputs": [],
   "source": [
    "sqrt(144)"
   ]
  },
  {
   "cell_type": "code",
   "execution_count": null,
   "id": "41c7bfb5",
   "metadata": {},
   "outputs": [],
   "source": [
    "mt.__dict__.keys()"
   ]
  },
  {
   "cell_type": "markdown",
   "id": "a8e69b09",
   "metadata": {},
   "source": [
    "Pip --- Python package Manager"
   ]
  },
  {
   "cell_type": "markdown",
   "id": "a8edbdb5",
   "metadata": {},
   "source": [
    "The best way to manage Python's third party packages/moudules is with pip."
   ]
  },
  {
   "cell_type": "markdown",
   "id": "c24d62d0",
   "metadata": {},
   "source": [
    "! pip install Textblob"
   ]
  },
  {
   "cell_type": "markdown",
   "id": "15352a4f",
   "metadata": {},
   "source": [
    "# Date and Time"
   ]
  },
  {
   "cell_type": "markdown",
   "id": "fd352110",
   "metadata": {},
   "source": [
    "Get Current Date and Time "
   ]
  },
  {
   "cell_type": "code",
   "execution_count": 1,
   "id": "c39dea58",
   "metadata": {},
   "outputs": [],
   "source": [
    "import datetime"
   ]
  },
  {
   "cell_type": "code",
   "execution_count": 2,
   "id": "e24e4308",
   "metadata": {},
   "outputs": [
    {
     "data": {
      "text/plain": [
       "datetime.datetime(2023, 5, 4, 18, 18, 55, 715747)"
      ]
     },
     "execution_count": 2,
     "metadata": {},
     "output_type": "execute_result"
    }
   ],
   "source": [
    "dt=datetime.datetime.now()\n",
    "dt"
   ]
  },
  {
   "cell_type": "markdown",
   "id": "e9786ff0",
   "metadata": {},
   "source": [
    "Get Current Date"
   ]
  },
  {
   "cell_type": "code",
   "execution_count": 3,
   "id": "8254d640",
   "metadata": {},
   "outputs": [
    {
     "data": {
      "text/plain": [
       "datetime.date(2023, 5, 4)"
      ]
     },
     "execution_count": 3,
     "metadata": {},
     "output_type": "execute_result"
    }
   ],
   "source": [
    "dt1=datetime.date.today()\n",
    "dt1"
   ]
  },
  {
   "cell_type": "raw",
   "id": "afa337c1",
   "metadata": {},
   "source": [
    "'''\n",
    "Commonly use classes in the datetime module are:\n",
    "    date class\n",
    "    time calss\n",
    "    datetime class\n",
    "    timedelta class\n",
    "'''"
   ]
  },
  {
   "cell_type": "code",
   "execution_count": 6,
   "id": "fe1ea2dd",
   "metadata": {},
   "outputs": [
    {
     "data": {
      "text/plain": [
       "datetime.date(2023, 5, 4)"
      ]
     },
     "execution_count": 6,
     "metadata": {},
     "output_type": "execute_result"
    }
   ],
   "source": [
    "import datetime\n",
    "d=datetime.date(2023,5,4)\n",
    "d"
   ]
  },
  {
   "cell_type": "code",
   "execution_count": 13,
   "id": "6b3bb428",
   "metadata": {},
   "outputs": [],
   "source": [
    "from datetime import date"
   ]
  },
  {
   "cell_type": "code",
   "execution_count": 14,
   "id": "819a21ee",
   "metadata": {},
   "outputs": [
    {
     "data": {
      "text/plain": [
       "datetime.date(2023, 7, 6)"
      ]
     },
     "execution_count": 14,
     "metadata": {},
     "output_type": "execute_result"
    }
   ],
   "source": [
    "a=date(2023,7,6)\n",
    "a"
   ]
  },
  {
   "cell_type": "code",
   "execution_count": 18,
   "id": "69bec681",
   "metadata": {},
   "outputs": [
    {
     "data": {
      "text/plain": [
       "datetime.date(2023, 5, 4)"
      ]
     },
     "execution_count": 18,
     "metadata": {},
     "output_type": "execute_result"
    }
   ],
   "source": [
    "# get current date\n",
    "td=date.today()\n",
    "td"
   ]
  },
  {
   "cell_type": "code",
   "execution_count": 19,
   "id": "05be021a",
   "metadata": {},
   "outputs": [
    {
     "name": "stdout",
     "output_type": "stream",
     "text": [
      "year  2023\n",
      "month  5\n",
      "day  4\n"
     ]
    }
   ],
   "source": [
    "print(\"year \",td.year)\n",
    "print(\"month \",td.month)\n",
    "print(\"day \",td.day)"
   ]
  },
  {
   "cell_type": "markdown",
   "id": "cfa71e4b",
   "metadata": {},
   "source": [
    "A time Object instantiated from the time class represents the local time "
   ]
  },
  {
   "cell_type": "code",
   "execution_count": 20,
   "id": "54df25a2",
   "metadata": {},
   "outputs": [],
   "source": [
    "from datetime import time"
   ]
  },
  {
   "cell_type": "code",
   "execution_count": 24,
   "id": "1dba5692",
   "metadata": {},
   "outputs": [
    {
     "name": "stdout",
     "output_type": "stream",
     "text": [
      "00:00:00\n",
      "18:32:00\n"
     ]
    }
   ],
   "source": [
    "a=time()\n",
    "print(a)\n",
    "\n",
    "# time (hour,minute,second)\n",
    "b=time(18,32,00)\n",
    "print(b)"
   ]
  },
  {
   "cell_type": "code",
   "execution_count": 25,
   "id": "0d575873",
   "metadata": {},
   "outputs": [
    {
     "name": "stdout",
     "output_type": "stream",
     "text": [
      "hour : 18\n",
      "minute : 32\n",
      "second : 0\n"
     ]
    }
   ],
   "source": [
    "print(\"hour :\",b.hour)\n",
    "print(\"minute :\",b.minute)\n",
    "print(\"second :\",b.second)"
   ]
  },
  {
   "cell_type": "code",
   "execution_count": 28,
   "id": "eb5f9f1e",
   "metadata": {},
   "outputs": [
    {
     "name": "stdout",
     "output_type": "stream",
     "text": [
      "2023-05-04 00:00:00\n"
     ]
    }
   ],
   "source": [
    "from datetime import datetime\n",
    "a=datetime(2023,5,4)\n",
    "print(a)"
   ]
  },
  {
   "cell_type": "code",
   "execution_count": 29,
   "id": "7fb422d6",
   "metadata": {},
   "outputs": [
    {
     "name": "stdout",
     "output_type": "stream",
     "text": [
      "2023\n",
      "6\n",
      "23\n",
      "2\n",
      "15\n",
      "46\n"
     ]
    }
   ],
   "source": [
    "b=datetime(2023,6,23,2,15,46)\n",
    "print(b.year)\n",
    "print(b.month)\n",
    "print(b.day)\n",
    "print(b.hour)\n",
    "print(b.minute)\n",
    "print(b.second)"
   ]
  },
  {
   "cell_type": "code",
   "execution_count": null,
   "id": "0346107b",
   "metadata": {},
   "outputs": [],
   "source": []
  }
 ],
 "metadata": {
  "kernelspec": {
   "display_name": "Python 3 (ipykernel)",
   "language": "python",
   "name": "python3"
  },
  "language_info": {
   "codemirror_mode": {
    "name": "ipython",
    "version": 3
   },
   "file_extension": ".py",
   "mimetype": "text/x-python",
   "name": "python",
   "nbconvert_exporter": "python",
   "pygments_lexer": "ipython3",
   "version": "3.9.12"
  }
 },
 "nbformat": 4,
 "nbformat_minor": 5
}
