{
 "cells": [
  {
   "cell_type": "markdown",
   "id": "a6529d93",
   "metadata": {},
   "source": [
    "# DBMS"
   ]
  },
  {
   "cell_type": "code",
   "execution_count": 1,
   "id": "cc109e2d",
   "metadata": {},
   "outputs": [],
   "source": [
    "import sqlite3"
   ]
  },
  {
   "cell_type": "raw",
   "id": "b7e555e6",
   "metadata": {},
   "source": [
    "Working With Database using SQL (Structured Query Language)\n",
    "\n",
    "1 Create a Connection Object.\n",
    "2 From The Connection Object, Create a cursor Object.\n",
    "3 Using The Cursor Obejct, Call execute method with create table query as the parameter."
   ]
  },
  {
   "cell_type": "markdown",
   "id": "b4fd6b32",
   "metadata": {},
   "source": [
    "## Create Database"
   ]
  },
  {
   "cell_type": "code",
   "execution_count": 2,
   "id": "56353679",
   "metadata": {},
   "outputs": [],
   "source": [
    "#student_database will be created in jupyter notebook Home\n",
    "\n",
    "#First connection object \n",
    "dbcon=sqlite3.connect(\"My_Student_databace.db\")"
   ]
  },
  {
   "cell_type": "raw",
   "id": "36ae661b",
   "metadata": {},
   "source": [
    "Cursor\n",
    "A cursor in SQL is a temporary work area created in systme memory when a SQL statement is executed. \n",
    "A SQL cursor is a set of rows together with a pointer that identifies a current row.\n",
    "It is a database object to retrieve data from a result set one row at a time."
   ]
  },
  {
   "cell_type": "code",
   "execution_count": 3,
   "id": "33486d2a",
   "metadata": {},
   "outputs": [],
   "source": [
    "cur=dbcon.cursor()"
   ]
  },
  {
   "cell_type": "markdown",
   "id": "21d490e8",
   "metadata": {},
   "source": [
    "## Create table in Studnet_Databese"
   ]
  },
  {
   "cell_type": "raw",
   "id": "ba19e769",
   "metadata": {},
   "source": [
    "SQL Data types ---\n",
    "integer --- numeric values \n",
    "real ------ decimal values\n",
    "text ------ character values \n",
    "char(20) -- character values"
   ]
  },
  {
   "cell_type": "code",
   "execution_count": 4,
   "id": "aa10125d",
   "metadata": {},
   "outputs": [
    {
     "data": {
      "text/plain": [
       "<sqlite3.Cursor at 0x165ed8ad650>"
      ]
     },
     "execution_count": 4,
     "metadata": {},
     "output_type": "execute_result"
    }
   ],
   "source": [
    "cur.execute(\"create table student(id int primary key,name text, age int)\")"
   ]
  },
  {
   "cell_type": "markdown",
   "id": "22ba878a",
   "metadata": {},
   "source": [
    "## Insert data in student table"
   ]
  },
  {
   "cell_type": "code",
   "execution_count": 5,
   "id": "e5e20f41",
   "metadata": {},
   "outputs": [],
   "source": [
    "cur.execute(\"insert into student (id,name,age) values(1,'john',28)\")\n",
    "dbcon.commit()"
   ]
  },
  {
   "cell_type": "code",
   "execution_count": 6,
   "id": "8a9864a5",
   "metadata": {},
   "outputs": [
    {
     "data": {
      "text/plain": [
       "<sqlite3.Cursor at 0x165ed8ad650>"
      ]
     },
     "execution_count": 6,
     "metadata": {},
     "output_type": "execute_result"
    }
   ],
   "source": [
    "cur.execute(\"insert into student (id,name,age) values(2,'lalit',26)\")\n"
   ]
  },
  {
   "cell_type": "code",
   "execution_count": 7,
   "id": "7cee8251",
   "metadata": {},
   "outputs": [],
   "source": [
    "dbcon.commit()"
   ]
  },
  {
   "cell_type": "code",
   "execution_count": 8,
   "id": "0fa488ed",
   "metadata": {},
   "outputs": [],
   "source": [
    "cur.execute(\"insert into student (id,name,age) values(3,'Babita',26)\")\n",
    "dbcon.commit()"
   ]
  },
  {
   "cell_type": "code",
   "execution_count": 9,
   "id": "5987cf7f",
   "metadata": {},
   "outputs": [
    {
     "name": "stdout",
     "output_type": "stream",
     "text": [
      "(1, 'john', 28)\n",
      "(2, 'lalit', 26)\n",
      "(3, 'Babita', 26)\n"
     ]
    }
   ],
   "source": [
    "result=cur.execute(\"select * from student\")\n",
    "\n",
    "for i in result:\n",
    "    print(i)"
   ]
  },
  {
   "cell_type": "code",
   "execution_count": 10,
   "id": "0f36ffb6",
   "metadata": {},
   "outputs": [],
   "source": [
    "cur.execute(\"insert into student (id,name,age) values(4,'ram',35)\")\n",
    "dbcon.commit()"
   ]
  },
  {
   "cell_type": "code",
   "execution_count": 11,
   "id": "d3d62575",
   "metadata": {},
   "outputs": [
    {
     "name": "stdout",
     "output_type": "stream",
     "text": [
      "2  record (s) inserted\n"
     ]
    }
   ],
   "source": [
    "cur.execute(\"insert into student values (5,'sourabh',27),(6,'deepak',25)\")\n",
    "dbcon.commit()\n",
    "\n",
    "print(cur.rowcount,\" record (s) inserted\")"
   ]
  },
  {
   "cell_type": "code",
   "execution_count": 12,
   "id": "8f60d460",
   "metadata": {},
   "outputs": [
    {
     "name": "stdout",
     "output_type": "stream",
     "text": [
      "1 record inserted\n"
     ]
    }
   ],
   "source": [
    "cur.execute(\"insert into student values (8,'karan',28)\")\n",
    "dbcon.commit()\n",
    "print(cur.rowcount,\"record inserted\")\n"
   ]
  },
  {
   "cell_type": "code",
   "execution_count": 13,
   "id": "e14dce58",
   "metadata": {},
   "outputs": [
    {
     "name": "stdout",
     "output_type": "stream",
     "text": [
      "(1, 'john', 28)\n",
      "(2, 'lalit', 26)\n",
      "(3, 'Babita', 26)\n",
      "(4, 'ram', 35)\n",
      "(5, 'sourabh', 27)\n",
      "(6, 'deepak', 25)\n",
      "(8, 'karan', 28)\n"
     ]
    }
   ],
   "source": [
    "resutl=cur.execute(\"select * from student\")\n",
    "for i in result:\n",
    "    print(i)"
   ]
  },
  {
   "cell_type": "code",
   "execution_count": 14,
   "id": "12c17fa2",
   "metadata": {},
   "outputs": [
    {
     "name": "stdout",
     "output_type": "stream",
     "text": [
      "(1,)\n",
      "(2,)\n",
      "(3,)\n",
      "(4,)\n",
      "(5,)\n",
      "(6,)\n",
      "(8,)\n"
     ]
    }
   ],
   "source": [
    "resutl=cur.execute(\"select id from student\")\n",
    "for i in result:\n",
    "    print(i)"
   ]
  },
  {
   "cell_type": "code",
   "execution_count": 15,
   "id": "67db468e",
   "metadata": {},
   "outputs": [
    {
     "name": "stdout",
     "output_type": "stream",
     "text": [
      "('john',)\n",
      "('lalit',)\n",
      "('Babita',)\n",
      "('ram',)\n",
      "('sourabh',)\n",
      "('deepak',)\n",
      "('karan',)\n"
     ]
    }
   ],
   "source": [
    "resutl=cur.execute(\"select name from student\")\n",
    "for i in result:\n",
    "    print(i)"
   ]
  },
  {
   "cell_type": "code",
   "execution_count": 16,
   "id": "c22a14ef",
   "metadata": {},
   "outputs": [
    {
     "name": "stdout",
     "output_type": "stream",
     "text": [
      "(28,)\n",
      "(26,)\n",
      "(26,)\n",
      "(35,)\n",
      "(27,)\n",
      "(25,)\n",
      "(28,)\n"
     ]
    }
   ],
   "source": [
    "resutl=cur.execute(\"select age from student\")\n",
    "for i in result:\n",
    "    print(i)"
   ]
  },
  {
   "cell_type": "code",
   "execution_count": 17,
   "id": "66e8a145",
   "metadata": {
    "scrolled": true
   },
   "outputs": [
    {
     "name": "stdout",
     "output_type": "stream",
     "text": [
      "(1, 'john')\n",
      "(2, 'lalit')\n",
      "(3, 'Babita')\n",
      "(4, 'ram')\n",
      "(5, 'sourabh')\n",
      "(6, 'deepak')\n",
      "(8, 'karan')\n"
     ]
    }
   ],
   "source": [
    "resutl=cur.execute(\"select id,name from student\")\n",
    "for i in result:\n",
    "    print(i)"
   ]
  },
  {
   "cell_type": "code",
   "execution_count": 18,
   "id": "9e3de9e0",
   "metadata": {},
   "outputs": [
    {
     "name": "stdout",
     "output_type": "stream",
     "text": [
      "(28, 'john')\n",
      "(26, 'lalit')\n",
      "(26, 'Babita')\n",
      "(35, 'ram')\n",
      "(27, 'sourabh')\n",
      "(25, 'deepak')\n",
      "(28, 'karan')\n"
     ]
    }
   ],
   "source": [
    "resutl=cur.execute(\"select age,name from student\")\n",
    "for i in result:\n",
    "    print(i)"
   ]
  },
  {
   "cell_type": "code",
   "execution_count": 19,
   "id": "a3057df7",
   "metadata": {},
   "outputs": [
    {
     "name": "stdout",
     "output_type": "stream",
     "text": [
      "(1, 'john', 28)\n"
     ]
    }
   ],
   "source": [
    "resutl=cur.execute(\"select * from student where id=1\")\n",
    "for i in result:\n",
    "    print(i)"
   ]
  },
  {
   "cell_type": "code",
   "execution_count": 20,
   "id": "8b567974",
   "metadata": {},
   "outputs": [
    {
     "name": "stdout",
     "output_type": "stream",
     "text": [
      "(2, 'lalit', 26)\n"
     ]
    }
   ],
   "source": [
    "resutl=cur.execute(\"select * from student where name='lalit'\")\n",
    "for i in result:\n",
    "    print(i)"
   ]
  },
  {
   "cell_type": "code",
   "execution_count": 21,
   "id": "107632b2",
   "metadata": {},
   "outputs": [
    {
     "name": "stdout",
     "output_type": "stream",
     "text": [
      "(1, 'john', 28)\n",
      "(8, 'karan', 28)\n"
     ]
    }
   ],
   "source": [
    "resutl=cur.execute(\"select * from student where age=28\")\n",
    "for i in result:\n",
    "    print(i)"
   ]
  },
  {
   "cell_type": "code",
   "execution_count": 22,
   "id": "77ffe9af",
   "metadata": {},
   "outputs": [
    {
     "name": "stdout",
     "output_type": "stream",
     "text": [
      "(1, 28)\n",
      "(8, 28)\n"
     ]
    }
   ],
   "source": [
    "resutl=cur.execute(\"select id,age from student where age=28\")\n",
    "for i in result:\n",
    "    print(i)"
   ]
  },
  {
   "cell_type": "code",
   "execution_count": 23,
   "id": "0983610f",
   "metadata": {},
   "outputs": [
    {
     "name": "stdout",
     "output_type": "stream",
     "text": [
      "(4, 35)\n"
     ]
    }
   ],
   "source": [
    "resutl=cur.execute(\"select id,age from student where age>28\")\n",
    "for i in result:\n",
    "    print(i)"
   ]
  },
  {
   "cell_type": "code",
   "execution_count": 24,
   "id": "75ceab15",
   "metadata": {},
   "outputs": [
    {
     "name": "stdout",
     "output_type": "stream",
     "text": [
      "(1, 28)\n",
      "(2, 26)\n",
      "(3, 26)\n",
      "(5, 27)\n",
      "(6, 25)\n",
      "(8, 28)\n"
     ]
    }
   ],
   "source": [
    "resutl=cur.execute(\"select id,age from student where age<=28\")\n",
    "for i in result:\n",
    "    print(i)"
   ]
  },
  {
   "cell_type": "code",
   "execution_count": 25,
   "id": "872bb5b3",
   "metadata": {},
   "outputs": [
    {
     "name": "stdout",
     "output_type": "stream",
     "text": [
      "('lalit',)\n",
      "('Babita',)\n",
      "('deepak',)\n"
     ]
    }
   ],
   "source": [
    "resutl=cur.execute(\"select name from student where age<=26\")\n",
    "for i in result:\n",
    "    print(i)"
   ]
  },
  {
   "cell_type": "code",
   "execution_count": 26,
   "id": "000085e7",
   "metadata": {},
   "outputs": [
    {
     "data": {
      "text/plain": [
       "[(1, 'john', 28),\n",
       " (2, 'lalit', 26),\n",
       " (3, 'Babita', 26),\n",
       " (4, 'ram', 35),\n",
       " (5, 'sourabh', 27),\n",
       " (6, 'deepak', 25),\n",
       " (8, 'karan', 28)]"
      ]
     },
     "execution_count": 26,
     "metadata": {},
     "output_type": "execute_result"
    }
   ],
   "source": [
    "result=cur.execute(\"select * from student\")\n",
    "result.fetchall()"
   ]
  },
  {
   "cell_type": "code",
   "execution_count": 27,
   "id": "763caa83",
   "metadata": {},
   "outputs": [
    {
     "data": {
      "text/plain": [
       "(28, 'john')"
      ]
     },
     "execution_count": 27,
     "metadata": {},
     "output_type": "execute_result"
    }
   ],
   "source": [
    "result=cur.execute(\"select age,name from student where age=28\")\n",
    "result.fetchone()"
   ]
  },
  {
   "cell_type": "code",
   "execution_count": 28,
   "id": "fb50e1e1",
   "metadata": {},
   "outputs": [
    {
     "data": {
      "text/plain": [
       "[(1, 'john', 28), (4, 'ram', 35), (5, 'sourabh', 27), (8, 'karan', 28)]"
      ]
     },
     "execution_count": 28,
     "metadata": {},
     "output_type": "execute_result"
    }
   ],
   "source": [
    "result=cur.execute(\"select * from student where age>26\")\n",
    "result.fetchall()"
   ]
  },
  {
   "cell_type": "code",
   "execution_count": 29,
   "id": "6e826126",
   "metadata": {},
   "outputs": [
    {
     "data": {
      "text/plain": [
       "[(2, 'lalit', 26), (3, 'Babita', 26), (5, 'sourabh', 27), (6, 'deepak', 25)]"
      ]
     },
     "execution_count": 29,
     "metadata": {},
     "output_type": "execute_result"
    }
   ],
   "source": [
    "result=cur.execute(\"select * from student where age < 28\")\n",
    "result.fetchall()"
   ]
  },
  {
   "cell_type": "code",
   "execution_count": 30,
   "id": "5cbb0dc9",
   "metadata": {},
   "outputs": [
    {
     "data": {
      "text/plain": [
       "[(1, 'john', 28), (2, 'lalit', 26), (3, 'Babita', 26)]"
      ]
     },
     "execution_count": 30,
     "metadata": {},
     "output_type": "execute_result"
    }
   ],
   "source": [
    "result=cur.execute(\"select * from student where id in (1,2,3)\")\n",
    "result.fetchall()"
   ]
  },
  {
   "cell_type": "code",
   "execution_count": 31,
   "id": "14da2388",
   "metadata": {},
   "outputs": [
    {
     "name": "stdout",
     "output_type": "stream",
     "text": [
      "(1, 'john', 28)\n",
      "(2, 'lalit', 26)\n",
      "(3, 'Babita', 26)\n"
     ]
    }
   ],
   "source": [
    "result=cur.execute(\"select * from student where id in (1,2,3)\")\n",
    "for i in result:\n",
    "    print(i)"
   ]
  },
  {
   "cell_type": "code",
   "execution_count": 32,
   "id": "ed1b20e0",
   "metadata": {},
   "outputs": [
    {
     "name": "stdout",
     "output_type": "stream",
     "text": [
      "(1, 'john', 28)\n",
      "(2, 'lalit', 26)\n",
      "(3, 'Babita', 26)\n",
      "(4, 'ram', 35)\n",
      "(5, 'sourabh', 27)\n",
      "(6, 'deepak', 25)\n",
      "(8, 'karan', 28)\n"
     ]
    }
   ],
   "source": [
    "result=cur.execute(\"select * from student\")\n",
    "for i in result:\n",
    "    print(i)"
   ]
  },
  {
   "cell_type": "code",
   "execution_count": 33,
   "id": "feadc3f9",
   "metadata": {},
   "outputs": [
    {
     "name": "stdout",
     "output_type": "stream",
     "text": [
      "(1, 'john', 28)\n",
      "(2, 'lalit', 26)\n",
      "(3, 'Babita', 26)\n",
      "(4, 'ram', 35)\n"
     ]
    }
   ],
   "source": [
    "result=cur.execute(\"select * from student limit 4\")\n",
    "for i in result:\n",
    "    print(i)"
   ]
  },
  {
   "cell_type": "code",
   "execution_count": 34,
   "id": "a8195f44",
   "metadata": {},
   "outputs": [
    {
     "name": "stdout",
     "output_type": "stream",
     "text": [
      "(4, 'ram', 35)\n",
      "(5, 'sourabh', 27)\n",
      "(6, 'deepak', 25)\n",
      "(8, 'karan', 28)\n"
     ]
    }
   ],
   "source": [
    "result=cur.execute(\"select * from student where id NOT in (1,2,3)\")\n",
    "for i in result:\n",
    "    print(i)"
   ]
  },
  {
   "cell_type": "code",
   "execution_count": 35,
   "id": "cb7450a7",
   "metadata": {},
   "outputs": [
    {
     "name": "stdout",
     "output_type": "stream",
     "text": [
      "(1, 'john', 28)\n",
      "(5, 'sourabh', 27)\n",
      "(8, 'karan', 28)\n"
     ]
    }
   ],
   "source": [
    "result=cur.execute(\"select * from student where age>26 and age<35\")\n",
    "for i in result:\n",
    "    print(i)"
   ]
  },
  {
   "cell_type": "code",
   "execution_count": 36,
   "id": "68fbef41",
   "metadata": {},
   "outputs": [
    {
     "name": "stdout",
     "output_type": "stream",
     "text": [
      "(1, 'john', 28)\n",
      "(5, 'sourabh', 27)\n",
      "(8, 'karan', 28)\n"
     ]
    }
   ],
   "source": [
    "result=cur.execute(\"select * from student where age=28 or id=5\")\n",
    "for i in result:\n",
    "    print(i)"
   ]
  },
  {
   "cell_type": "code",
   "execution_count": 37,
   "id": "b0ba743e",
   "metadata": {},
   "outputs": [
    {
     "name": "stdout",
     "output_type": "stream",
     "text": [
      "(2, 'lalit', 26)\n"
     ]
    }
   ],
   "source": [
    "result=cur.execute(\"select * from student where id=2 and age<28\")\n",
    "for i in result:\n",
    "    print(i)"
   ]
  },
  {
   "cell_type": "code",
   "execution_count": 38,
   "id": "3db7a937",
   "metadata": {},
   "outputs": [
    {
     "name": "stdout",
     "output_type": "stream",
     "text": [
      "(2, 'lalit', 26)\n",
      "(3, 'Babita', 26)\n"
     ]
    }
   ],
   "source": [
    "result=cur.execute(\"select * from student where age<28 and id in (1,2,3)\")\n",
    "for i in result:\n",
    "    print(i)"
   ]
  },
  {
   "cell_type": "code",
   "execution_count": 39,
   "id": "b24c174f",
   "metadata": {},
   "outputs": [
    {
     "name": "stdout",
     "output_type": "stream",
     "text": [
      "(3, 'Babita', 26)\n",
      "(6, 'deepak', 25)\n",
      "(1, 'john', 28)\n",
      "(8, 'karan', 28)\n",
      "(2, 'lalit', 26)\n",
      "(4, 'ram', 35)\n",
      "(5, 'sourabh', 27)\n"
     ]
    }
   ],
   "source": [
    "result=cur.execute(\"select * from student order by name asc\")\n",
    "for i in result:\n",
    "    print(i)"
   ]
  },
  {
   "cell_type": "code",
   "execution_count": 40,
   "id": "b5d6a00c",
   "metadata": {},
   "outputs": [
    {
     "name": "stdout",
     "output_type": "stream",
     "text": [
      "(5, 'sourabh', 27)\n",
      "(4, 'ram', 35)\n",
      "(2, 'lalit', 26)\n",
      "(8, 'karan', 28)\n",
      "(1, 'john', 28)\n",
      "(6, 'deepak', 25)\n",
      "(3, 'Babita', 26)\n"
     ]
    }
   ],
   "source": [
    "result=cur.execute(\"select * from student order by name desc\")\n",
    "for i in result:\n",
    "    print(i)"
   ]
  },
  {
   "cell_type": "code",
   "execution_count": 41,
   "id": "3dc594bd",
   "metadata": {},
   "outputs": [
    {
     "name": "stdout",
     "output_type": "stream",
     "text": [
      "(6, 'deepak', 25)\n",
      "(2, 'lalit', 26)\n",
      "(3, 'Babita', 26)\n",
      "(5, 'sourabh', 27)\n",
      "(1, 'john', 28)\n",
      "(8, 'karan', 28)\n",
      "(4, 'ram', 35)\n"
     ]
    }
   ],
   "source": [
    "result=cur.execute(\"select * from student order by age asc\")\n",
    "for i in result:\n",
    "    print(i)"
   ]
  },
  {
   "cell_type": "markdown",
   "id": "5ff41ffd",
   "metadata": {},
   "source": [
    "# Aggregate Functions"
   ]
  },
  {
   "cell_type": "raw",
   "id": "b2956672",
   "metadata": {},
   "source": [
    "MIN -- find minimum\n",
    "MAX -- find maximum\n",
    "AVG -- find average\n",
    "SUM -- find sum\n",
    "COUNT -- count the number of rows"
   ]
  },
  {
   "cell_type": "code",
   "execution_count": 42,
   "id": "21b97da8",
   "metadata": {},
   "outputs": [
    {
     "name": "stdout",
     "output_type": "stream",
     "text": [
      "(28,)\n",
      "(26,)\n",
      "(26,)\n",
      "(35,)\n",
      "(27,)\n",
      "(25,)\n",
      "(28,)\n"
     ]
    }
   ],
   "source": [
    "result=cur.execute(\"select age from student\")\n",
    "for i in result:\n",
    "    print(i)"
   ]
  },
  {
   "cell_type": "code",
   "execution_count": 43,
   "id": "d4bced7e",
   "metadata": {},
   "outputs": [
    {
     "name": "stdout",
     "output_type": "stream",
     "text": [
      "(25,)\n"
     ]
    }
   ],
   "source": [
    "result=cur.execute(\"select min(age) from student\" )\n",
    "for i in result:\n",
    "    print(i)"
   ]
  },
  {
   "cell_type": "code",
   "execution_count": 44,
   "id": "fca00175",
   "metadata": {},
   "outputs": [
    {
     "name": "stdout",
     "output_type": "stream",
     "text": [
      "(35,)\n"
     ]
    }
   ],
   "source": [
    "result=cur.execute(\"select max(age) from student\" )\n",
    "for i in result:\n",
    "    print(i)"
   ]
  },
  {
   "cell_type": "code",
   "execution_count": 45,
   "id": "52f7b08e",
   "metadata": {},
   "outputs": [
    {
     "name": "stdout",
     "output_type": "stream",
     "text": [
      "(27.857142857142858,)\n"
     ]
    }
   ],
   "source": [
    "result=cur.execute(\"select avg(age) from student\" )\n",
    "for i in result:\n",
    "    print(i)"
   ]
  },
  {
   "cell_type": "code",
   "execution_count": 46,
   "id": "bf12976d",
   "metadata": {},
   "outputs": [
    {
     "name": "stdout",
     "output_type": "stream",
     "text": [
      "(195,)\n"
     ]
    }
   ],
   "source": [
    "result=cur.execute(\"select sum(age) from student\" )\n",
    "for i in result:\n",
    "    print(i)"
   ]
  },
  {
   "cell_type": "code",
   "execution_count": 47,
   "id": "4a69001d",
   "metadata": {},
   "outputs": [
    {
     "name": "stdout",
     "output_type": "stream",
     "text": [
      "(7,)\n"
     ]
    }
   ],
   "source": [
    "result=cur.execute(\"select count(id) from student\" )\n",
    "for i in result:\n",
    "    print(i)"
   ]
  },
  {
   "cell_type": "code",
   "execution_count": 48,
   "id": "7aff120a",
   "metadata": {},
   "outputs": [
    {
     "data": {
      "text/plain": [
       "[(195,)]"
      ]
     },
     "execution_count": 48,
     "metadata": {},
     "output_type": "execute_result"
    }
   ],
   "source": [
    "result=cur.execute(\"select sum(age) from student\" )\n",
    "result.fetchall()"
   ]
  },
  {
   "cell_type": "code",
   "execution_count": 49,
   "id": "5f73ab48",
   "metadata": {},
   "outputs": [
    {
     "name": "stdout",
     "output_type": "stream",
     "text": [
      "(1, 'john', 28)\n",
      "(2, 'lalit', 26)\n",
      "(3, 'Babita', 26)\n",
      "(5, 'sourabh', 27)\n",
      "(6, 'deepak', 25)\n",
      "(8, 'karan', 28)\n"
     ]
    }
   ],
   "source": [
    "results=cur.execute(\"Select * from student where age between 20 and 30\")\n",
    "\n",
    "for i in results:\n",
    "    print(i)"
   ]
  },
  {
   "cell_type": "code",
   "execution_count": 50,
   "id": "3160bafd",
   "metadata": {},
   "outputs": [
    {
     "name": "stdout",
     "output_type": "stream",
     "text": [
      "(1, 'john', 28)\n",
      "(2, 'lalit', 26)\n",
      "(3, 'Babita', 26)\n",
      "(4, 'ram', 35)\n",
      "(5, 'sourabh', 27)\n",
      "(6, 'deepak', 25)\n",
      "(8, 'karan', 28)\n"
     ]
    }
   ],
   "source": [
    "result=cur.execute(\"select * from student\")\n",
    "for i in result:\n",
    "    print(i)"
   ]
  },
  {
   "cell_type": "code",
   "execution_count": 51,
   "id": "da0b337f",
   "metadata": {},
   "outputs": [],
   "source": [
    "result=cur.execute(\"select * from student where age is null\")\n",
    "for i in result:\n",
    "    print(i)"
   ]
  },
  {
   "cell_type": "code",
   "execution_count": 52,
   "id": "683f14e8",
   "metadata": {},
   "outputs": [
    {
     "name": "stdout",
     "output_type": "stream",
     "text": [
      "(1, 'john', 28)\n",
      "(2, 'lalit', 26)\n",
      "(3, 'Babita', 26)\n",
      "(4, 'ram', 35)\n",
      "(5, 'sourabh', 27)\n",
      "(6, 'deepak', 25)\n",
      "(8, 'karan', 28)\n"
     ]
    }
   ],
   "source": [
    "result=cur.execute(\"select * from student where age is NOT null\")\n",
    "for i in result:\n",
    "    print(i)"
   ]
  },
  {
   "cell_type": "markdown",
   "id": "cc7c121f",
   "metadata": {},
   "source": [
    "LIKE Operators"
   ]
  },
  {
   "cell_type": "code",
   "execution_count": 53,
   "id": "1d3159a4",
   "metadata": {},
   "outputs": [
    {
     "name": "stdout",
     "output_type": "stream",
     "text": [
      "(2, 'lalit', 26)\n"
     ]
    }
   ],
   "source": [
    "results=cur.execute(\"Select * from student where name like 'L%'\")\n",
    "for i in results:\n",
    "    print(i)"
   ]
  },
  {
   "cell_type": "code",
   "execution_count": 54,
   "id": "a67c183f",
   "metadata": {},
   "outputs": [
    {
     "name": "stdout",
     "output_type": "stream",
     "text": [
      "(3, 'Babita', 26)\n"
     ]
    }
   ],
   "source": [
    "results=cur.execute(\"Select * from student where name like 'b%'\")\n",
    "for i in results:\n",
    "    print(i)"
   ]
  },
  {
   "cell_type": "code",
   "execution_count": 55,
   "id": "a6872d5c",
   "metadata": {},
   "outputs": [
    {
     "name": "stdout",
     "output_type": "stream",
     "text": [
      "(2, 'lalit', 26)\n",
      "(3, 'Babita', 26)\n",
      "(4, 'ram', 35)\n",
      "(8, 'karan', 28)\n"
     ]
    }
   ],
   "source": [
    "results=cur.execute(\"Select * from student where name like '_a%'\")\n",
    "for i in results:\n",
    "    print(i)"
   ]
  },
  {
   "cell_type": "code",
   "execution_count": 56,
   "id": "220ae871",
   "metadata": {},
   "outputs": [
    {
     "name": "stdout",
     "output_type": "stream",
     "text": [
      "(1, 'john', 28)\n",
      "(8, 'karan', 28)\n"
     ]
    }
   ],
   "source": [
    "results=cur.execute(\"Select * from student where name like '%n'\")\n",
    "for i in results:\n",
    "    print(i)"
   ]
  },
  {
   "cell_type": "code",
   "execution_count": 57,
   "id": "6ff0b681",
   "metadata": {},
   "outputs": [
    {
     "name": "stdout",
     "output_type": "stream",
     "text": [
      "(3, 'Babita', 26)\n",
      "(5, 'sourabh', 27)\n"
     ]
    }
   ],
   "source": [
    "results=cur.execute(\"Select * from student where name like '%B%'\")\n",
    "for i in results:\n",
    "    print(i)"
   ]
  },
  {
   "cell_type": "code",
   "execution_count": 58,
   "id": "eb968fde",
   "metadata": {},
   "outputs": [
    {
     "name": "stdout",
     "output_type": "stream",
     "text": [
      "(2, 'lalit', 26)\n",
      "(8, 'karan', 28)\n"
     ]
    }
   ],
   "source": [
    "results=cur.execute(\"Select * from student where name like '_a___'\")\n",
    "for i in results:\n",
    "    print(i)"
   ]
  },
  {
   "cell_type": "code",
   "execution_count": 59,
   "id": "73935709",
   "metadata": {},
   "outputs": [
    {
     "name": "stdout",
     "output_type": "stream",
     "text": [
      "(8, 'karan', 28)\n"
     ]
    }
   ],
   "source": [
    "results=cur.execute(\"Select * from student where name like 'k%n'\")\n",
    "for i in results:\n",
    "    print(i)"
   ]
  },
  {
   "cell_type": "code",
   "execution_count": 60,
   "id": "b337bcb7",
   "metadata": {},
   "outputs": [
    {
     "name": "stdout",
     "output_type": "stream",
     "text": [
      "(2, 'lalit', 26)\n",
      "(8, 'karan', 28)\n"
     ]
    }
   ],
   "source": [
    "results=cur.execute(\"Select * from student where name like '_____'\")\n",
    "for i in results:\n",
    "    print(i)"
   ]
  },
  {
   "cell_type": "markdown",
   "id": "246218cf",
   "metadata": {},
   "source": [
    "UPDATE RECORD"
   ]
  },
  {
   "cell_type": "code",
   "execution_count": 61,
   "id": "6d0ecafe",
   "metadata": {},
   "outputs": [],
   "source": [
    "sqt=\"update student set age=27 where id=1\"\n",
    "cur.execute(sqt)\n",
    "dbcon.commit()"
   ]
  },
  {
   "cell_type": "code",
   "execution_count": 62,
   "id": "eb3d0cc4",
   "metadata": {},
   "outputs": [
    {
     "name": "stdout",
     "output_type": "stream",
     "text": [
      "(1, 'john', 27)\n",
      "(2, 'lalit', 26)\n",
      "(3, 'Babita', 26)\n",
      "(4, 'ram', 35)\n",
      "(5, 'sourabh', 27)\n",
      "(6, 'deepak', 25)\n",
      "(8, 'karan', 28)\n"
     ]
    }
   ],
   "source": [
    "result=cur.execute(\"select * from student\")\n",
    "for i in result:\n",
    "    print(i)"
   ]
  },
  {
   "cell_type": "code",
   "execution_count": 63,
   "id": "5cd64aa7",
   "metadata": {},
   "outputs": [
    {
     "name": "stdout",
     "output_type": "stream",
     "text": [
      "(1, 'john', 27)\n"
     ]
    }
   ],
   "source": [
    "result=cur.execute(\"select * from student where id=1\")\n",
    "for i in result:\n",
    "    print(i)"
   ]
  },
  {
   "cell_type": "code",
   "execution_count": 64,
   "id": "b30701f7",
   "metadata": {},
   "outputs": [],
   "source": [
    "sqt=\"update student set age=29 where id in (1,4)\"\n",
    "cur.execute(sqt)\n",
    "dbcon.commit()"
   ]
  },
  {
   "cell_type": "code",
   "execution_count": 65,
   "id": "6998c981",
   "metadata": {},
   "outputs": [
    {
     "name": "stdout",
     "output_type": "stream",
     "text": [
      "(1, 'john', 29)\n",
      "(2, 'lalit', 26)\n",
      "(3, 'Babita', 26)\n",
      "(4, 'ram', 29)\n",
      "(5, 'sourabh', 27)\n",
      "(6, 'deepak', 25)\n",
      "(8, 'karan', 28)\n"
     ]
    }
   ],
   "source": [
    "result=cur.execute(\"select * from student \")\n",
    "for i in result:\n",
    "    print(i)"
   ]
  },
  {
   "cell_type": "code",
   "execution_count": 66,
   "id": "a695dd98",
   "metadata": {},
   "outputs": [
    {
     "name": "stdout",
     "output_type": "stream",
     "text": [
      "(1, 'john', 29)\n",
      "(2, 'lalit', 27)\n",
      "(3, 'Babita', 27)\n",
      "(4, 'ram', 29)\n",
      "(5, 'sourabh', 27)\n",
      "(6, 'deepak', 25)\n",
      "(8, 'karan', 28)\n"
     ]
    }
   ],
   "source": [
    "sqt=\"update student set age=27 where id in (2,3)\"\n",
    "cur.execute(sqt)\n",
    "dbcon.commit()\n",
    "result=cur.execute(\"select * from student\")\n",
    "for i in result:\n",
    "    print(i)"
   ]
  },
  {
   "cell_type": "markdown",
   "id": "96e1e42b",
   "metadata": {},
   "source": [
    "## Delete any unwanted records"
   ]
  },
  {
   "cell_type": "code",
   "execution_count": 67,
   "id": "556198e1",
   "metadata": {},
   "outputs": [
    {
     "name": "stdout",
     "output_type": "stream",
     "text": [
      "(2, 'lalit', 27)\n",
      "(3, 'Babita', 27)\n",
      "(4, 'ram', 29)\n",
      "(5, 'sourabh', 27)\n",
      "(6, 'deepak', 25)\n",
      "(8, 'karan', 28)\n"
     ]
    }
   ],
   "source": [
    "sql=\"delete from student where id=1\"\n",
    "cur.execute(sql)\n",
    "result=cur.execute(\"select * from student \")\n",
    "for i in result:\n",
    "    print(i)"
   ]
  },
  {
   "cell_type": "code",
   "execution_count": 68,
   "id": "72568551",
   "metadata": {},
   "outputs": [
    {
     "data": {
      "text/plain": [
       "[(2, 'lalit', 27),\n",
       " (3, 'Babita', 27),\n",
       " (4, 'ram', 29),\n",
       " (5, 'sourabh', 27),\n",
       " (6, 'deepak', 25),\n",
       " (8, 'karan', 28)]"
      ]
     },
     "execution_count": 68,
     "metadata": {},
     "output_type": "execute_result"
    }
   ],
   "source": [
    "sql=\"delete from student where id=1\"\n",
    "cur.execute(sql)\n",
    "result=cur.execute(\"select * from student \")\n",
    "result.fetchall()"
   ]
  },
  {
   "cell_type": "markdown",
   "id": "64c2c6d0",
   "metadata": {},
   "source": [
    "##  ALTER & DROP TABLE STUDENT"
   ]
  },
  {
   "cell_type": "code",
   "execution_count": 69,
   "id": "4b039608",
   "metadata": {},
   "outputs": [
    {
     "data": {
      "text/plain": [
       "[(2, 'lalit'),\n",
       " (3, 'Babita'),\n",
       " (4, 'ram'),\n",
       " (5, 'sourabh'),\n",
       " (6, 'deepak'),\n",
       " (8, 'karan')]"
      ]
     },
     "execution_count": 69,
     "metadata": {},
     "output_type": "execute_result"
    }
   ],
   "source": [
    "sql=\"alter table student drop age\"\n",
    "cur.execute(sql)\n",
    "result=cur.execute(\"select * from student\")\n",
    "result.fetchall()"
   ]
  },
  {
   "cell_type": "code",
   "execution_count": 70,
   "id": "a87543ff",
   "metadata": {},
   "outputs": [
    {
     "ename": "OperationalError",
     "evalue": "no such table: student",
     "output_type": "error",
     "traceback": [
      "\u001b[1;31m---------------------------------------------------------------------------\u001b[0m",
      "\u001b[1;31mOperationalError\u001b[0m                          Traceback (most recent call last)",
      "Input \u001b[1;32mIn [70]\u001b[0m, in \u001b[0;36m<cell line: 3>\u001b[1;34m()\u001b[0m\n\u001b[0;32m      1\u001b[0m sql\u001b[38;5;241m=\u001b[39m\u001b[38;5;124m\"\u001b[39m\u001b[38;5;124mdrop table student \u001b[39m\u001b[38;5;124m\"\u001b[39m\n\u001b[0;32m      2\u001b[0m cur\u001b[38;5;241m.\u001b[39mexecute(sql)\n\u001b[1;32m----> 3\u001b[0m result\u001b[38;5;241m=\u001b[39m\u001b[43mcur\u001b[49m\u001b[38;5;241;43m.\u001b[39;49m\u001b[43mexecute\u001b[49m\u001b[43m(\u001b[49m\u001b[38;5;124;43m\"\u001b[39;49m\u001b[38;5;124;43mselect * from student\u001b[39;49m\u001b[38;5;124;43m\"\u001b[39;49m\u001b[43m)\u001b[49m\n\u001b[0;32m      4\u001b[0m result\u001b[38;5;241m.\u001b[39mfetchall()\n",
      "\u001b[1;31mOperationalError\u001b[0m: no such table: student"
     ]
    }
   ],
   "source": [
    "sql=\"drop table student \"\n",
    "cur.execute(sql)\n",
    "result=cur.execute(\"select * from student\")\n",
    "result.fetchall()"
   ]
  },
  {
   "cell_type": "code",
   "execution_count": 71,
   "id": "11e09975",
   "metadata": {},
   "outputs": [],
   "source": [
    "dbcon.close()"
   ]
  },
  {
   "cell_type": "code",
   "execution_count": null,
   "id": "cbbd7ebc",
   "metadata": {},
   "outputs": [],
   "source": []
  }
 ],
 "metadata": {
  "kernelspec": {
   "display_name": "Python 3 (ipykernel)",
   "language": "python",
   "name": "python3"
  },
  "language_info": {
   "codemirror_mode": {
    "name": "ipython",
    "version": 3
   },
   "file_extension": ".py",
   "mimetype": "text/x-python",
   "name": "python",
   "nbconvert_exporter": "python",
   "pygments_lexer": "ipython3",
   "version": "3.9.12"
  }
 },
 "nbformat": 4,
 "nbformat_minor": 5
}
