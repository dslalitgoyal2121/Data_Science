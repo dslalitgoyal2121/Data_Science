{
 "cells": [
  {
   "cell_type": "markdown",
   "id": "2a84328d",
   "metadata": {},
   "source": [
    "# User Defined Functions"
   ]
  },
  {
   "cell_type": "code",
   "execution_count": 2,
   "id": "e127aef5",
   "metadata": {},
   "outputs": [],
   "source": [
    "# function Definition\n",
    "def function1():\n",
    "    print(\"Hello Function\")\n"
   ]
  },
  {
   "cell_type": "code",
   "execution_count": 3,
   "id": "e8faa8ce",
   "metadata": {},
   "outputs": [
    {
     "name": "stdout",
     "output_type": "stream",
     "text": [
      "Hello Function\n"
     ]
    }
   ],
   "source": [
    "# Call a function\n",
    "function1()"
   ]
  },
  {
   "cell_type": "code",
   "execution_count": 9,
   "id": "ff824615",
   "metadata": {},
   "outputs": [],
   "source": [
    "# function definiton\n",
    "def addition():\n",
    "    a=int(input())\n",
    "    b=int(input())\n",
    "    c=a+b\n",
    "    print(\"Sum of a+b=\",c)\n"
   ]
  },
  {
   "cell_type": "code",
   "execution_count": 10,
   "id": "ae1d29de",
   "metadata": {},
   "outputs": [
    {
     "name": "stdout",
     "output_type": "stream",
     "text": [
      "12\n",
      "12\n",
      "Sum of a+b= 24\n"
     ]
    }
   ],
   "source": [
    "addition()"
   ]
  },
  {
   "cell_type": "code",
   "execution_count": null,
   "id": "09e3aac5",
   "metadata": {},
   "outputs": [],
   "source": [
    "def subtraction():\n",
    "    a=int(input())\n",
    "    b=int(input())\n",
    "    c=a-b\n",
    "    print(\"Sum of a+b=\",c)"
   ]
  },
  {
   "cell_type": "code",
   "execution_count": null,
   "id": "5bd8fa7c",
   "metadata": {},
   "outputs": [],
   "source": [
    "subtraction()"
   ]
  },
  {
   "cell_type": "markdown",
   "id": "c9fac40a",
   "metadata": {},
   "source": [
    "Parametric function"
   ]
  },
  {
   "cell_type": "code",
   "execution_count": 11,
   "id": "ad2c1919",
   "metadata": {},
   "outputs": [],
   "source": [
    "def add(a,b):\n",
    "    c=a+b\n",
    "    print(\"Addition = \",c)"
   ]
  },
  {
   "cell_type": "code",
   "execution_count": 12,
   "id": "e8b78849",
   "metadata": {},
   "outputs": [
    {
     "name": "stdout",
     "output_type": "stream",
     "text": [
      "Addition =  50\n"
     ]
    }
   ],
   "source": [
    "add(20,30)"
   ]
  },
  {
   "cell_type": "code",
   "execution_count": 13,
   "id": "ba98921c",
   "metadata": {},
   "outputs": [
    {
     "name": "stdout",
     "output_type": "stream",
     "text": [
      "Addition =  100\n"
     ]
    }
   ],
   "source": [
    "add(40,60)"
   ]
  },
  {
   "cell_type": "code",
   "execution_count": 14,
   "id": "9919f562",
   "metadata": {},
   "outputs": [
    {
     "name": "stdout",
     "output_type": "stream",
     "text": [
      "Addition =  600\n"
     ]
    }
   ],
   "source": [
    "add(400,200)"
   ]
  },
  {
   "cell_type": "code",
   "execution_count": 15,
   "id": "cad65772",
   "metadata": {},
   "outputs": [],
   "source": [
    "def multiply(x,y):\n",
    "    z=x*y\n",
    "    print(\"Muliply is = \",z)"
   ]
  },
  {
   "cell_type": "code",
   "execution_count": 16,
   "id": "dd9290bd",
   "metadata": {},
   "outputs": [
    {
     "name": "stdout",
     "output_type": "stream",
     "text": [
      "15\n",
      "65\n",
      "Muliply is =  975\n"
     ]
    }
   ],
   "source": [
    "multiply(int(input()),int(input()))"
   ]
  },
  {
   "cell_type": "code",
   "execution_count": 17,
   "id": "0e53401e",
   "metadata": {},
   "outputs": [
    {
     "name": "stdout",
     "output_type": "stream",
     "text": [
      "12\n",
      "56\n",
      "Area of rectangle =  672\n"
     ]
    }
   ],
   "source": [
    "def arearec(l,b):\n",
    "    area=l*b\n",
    "    print(\"Area of rectangle = \", area)\n",
    "arearec(int(input()),int(input()))\n"
   ]
  },
  {
   "cell_type": "code",
   "execution_count": 18,
   "id": "0bb21ae8",
   "metadata": {},
   "outputs": [
    {
     "name": "stdout",
     "output_type": "stream",
     "text": [
      "36\n",
      "72\n",
      "Area of rectangle =  2592\n"
     ]
    }
   ],
   "source": [
    "l=int(input())\n",
    "b=int(input())\n",
    "arearec(l,b)"
   ]
  },
  {
   "cell_type": "markdown",
   "id": "43fe6d43",
   "metadata": {},
   "source": [
    "Global and local variable"
   ]
  },
  {
   "cell_type": "code",
   "execution_count": 19,
   "id": "63a44b6c",
   "metadata": {},
   "outputs": [
    {
     "data": {
      "text/plain": [
       "10"
      ]
     },
     "execution_count": 19,
     "metadata": {},
     "output_type": "execute_result"
    }
   ],
   "source": [
    "# global variable\n",
    "\n",
    "x=10\n",
    "x"
   ]
  },
  {
   "cell_type": "code",
   "execution_count": 20,
   "id": "6b66c14e",
   "metadata": {},
   "outputs": [],
   "source": [
    "# local variable\n",
    "\n",
    "def fun():\n",
    "    b=15\n",
    "    print(b)"
   ]
  },
  {
   "cell_type": "code",
   "execution_count": 21,
   "id": "d1135581",
   "metadata": {},
   "outputs": [
    {
     "name": "stdout",
     "output_type": "stream",
     "text": [
      "15\n"
     ]
    }
   ],
   "source": [
    "fun()"
   ]
  },
  {
   "cell_type": "markdown",
   "id": "29c43a49",
   "metadata": {},
   "source": [
    "Return"
   ]
  },
  {
   "cell_type": "code",
   "execution_count": 2,
   "id": "4ea9792d",
   "metadata": {},
   "outputs": [],
   "source": [
    "def functionadd():\n",
    "    a=10\n",
    "    b=20\n",
    "    c=a+b\n",
    "    return c"
   ]
  },
  {
   "cell_type": "code",
   "execution_count": 3,
   "id": "6dd6034e",
   "metadata": {},
   "outputs": [
    {
     "data": {
      "text/plain": [
       "30"
      ]
     },
     "execution_count": 3,
     "metadata": {},
     "output_type": "execute_result"
    }
   ],
   "source": [
    "x=functionadd()\n",
    "x"
   ]
  },
  {
   "cell_type": "code",
   "execution_count": 4,
   "id": "e4fdba18",
   "metadata": {},
   "outputs": [
    {
     "data": {
      "text/plain": [
       "30"
      ]
     },
     "execution_count": 4,
     "metadata": {},
     "output_type": "execute_result"
    }
   ],
   "source": [
    "x"
   ]
  },
  {
   "cell_type": "code",
   "execution_count": 5,
   "id": "0a10cf54",
   "metadata": {},
   "outputs": [],
   "source": [
    "def rect():\n",
    "    l=60\n",
    "    b=20\n",
    "    area=l*b\n",
    "    print(\"The area of Rectangle =\",area)\n",
    "    return area\n"
   ]
  },
  {
   "cell_type": "code",
   "execution_count": 6,
   "id": "02e04995",
   "metadata": {},
   "outputs": [
    {
     "name": "stdout",
     "output_type": "stream",
     "text": [
      "The area of Rectangle = 1200\n"
     ]
    }
   ],
   "source": [
    "re=rect()"
   ]
  },
  {
   "cell_type": "code",
   "execution_count": 7,
   "id": "a6c99119",
   "metadata": {},
   "outputs": [
    {
     "data": {
      "text/plain": [
       "1200"
      ]
     },
     "execution_count": 7,
     "metadata": {},
     "output_type": "execute_result"
    }
   ],
   "source": [
    "re"
   ]
  },
  {
   "cell_type": "code",
   "execution_count": 8,
   "id": "bdd243cf",
   "metadata": {},
   "outputs": [
    {
     "data": {
      "text/plain": [
       "4521600.0"
      ]
     },
     "execution_count": 8,
     "metadata": {},
     "output_type": "execute_result"
    }
   ],
   "source": [
    "area_of_circle=3.14*(re**2)\n",
    "area_of_circle"
   ]
  },
  {
   "cell_type": "code",
   "execution_count": 9,
   "id": "31ca06f1",
   "metadata": {},
   "outputs": [],
   "source": [
    "def ff():\n",
    "    for i in range(10):\n",
    "        if (i==5):\n",
    "            return\n",
    "        print(i)"
   ]
  },
  {
   "cell_type": "code",
   "execution_count": 10,
   "id": "04a16ae9",
   "metadata": {},
   "outputs": [
    {
     "name": "stdout",
     "output_type": "stream",
     "text": [
      "0\n",
      "1\n",
      "2\n",
      "3\n",
      "4\n"
     ]
    }
   ],
   "source": [
    "ff()"
   ]
  },
  {
   "cell_type": "code",
   "execution_count": 11,
   "id": "3bf64ead",
   "metadata": {},
   "outputs": [],
   "source": [
    "def outerfunc():\n",
    "    ff()\n",
    "    print(\"The Outer Function\")"
   ]
  },
  {
   "cell_type": "code",
   "execution_count": 12,
   "id": "8b952160",
   "metadata": {},
   "outputs": [
    {
     "name": "stdout",
     "output_type": "stream",
     "text": [
      "0\n",
      "1\n",
      "2\n",
      "3\n",
      "4\n",
      "The Outer Function\n"
     ]
    }
   ],
   "source": [
    "outerfunc()"
   ]
  },
  {
   "cell_type": "markdown",
   "id": "94683a73",
   "metadata": {},
   "source": [
    "# Variable Number of Arguments"
   ]
  },
  {
   "cell_type": "markdown",
   "id": "b18483fe",
   "metadata": {},
   "source": [
    "In cases where you don't know the exact number of arguments that you want to pass to a function, you can use the following syntax with *args:"
   ]
  },
  {
   "cell_type": "code",
   "execution_count": 13,
   "id": "3d7101bf",
   "metadata": {},
   "outputs": [],
   "source": [
    "def add(x,y):\n",
    "    result=x+y\n",
    "    print(result)"
   ]
  },
  {
   "cell_type": "code",
   "execution_count": 14,
   "id": "6d2c0625",
   "metadata": {},
   "outputs": [
    {
     "name": "stdout",
     "output_type": "stream",
     "text": [
      "30\n"
     ]
    }
   ],
   "source": [
    "add(10,20)"
   ]
  },
  {
   "cell_type": "code",
   "execution_count": 15,
   "id": "7b9df838",
   "metadata": {},
   "outputs": [],
   "source": [
    "def add(x,y,z):\n",
    "    result=x+y+z\n",
    "    print(result)"
   ]
  },
  {
   "cell_type": "code",
   "execution_count": 16,
   "id": "990cd1de",
   "metadata": {},
   "outputs": [
    {
     "name": "stdout",
     "output_type": "stream",
     "text": [
      "9\n"
     ]
    }
   ],
   "source": [
    "add(2,3,4)"
   ]
  },
  {
   "cell_type": "code",
   "execution_count": null,
   "id": "8ba168de",
   "metadata": {},
   "outputs": [],
   "source": [
    "def myfunc(*args):   #  * is wild card character\n",
    "    return sum(args)"
   ]
  },
  {
   "cell_type": "code",
   "execution_count": null,
   "id": "a4cd94f9",
   "metadata": {},
   "outputs": [],
   "source": [
    "myfunc(10,20,30)"
   ]
  },
  {
   "cell_type": "code",
   "execution_count": null,
   "id": "4a61a05e",
   "metadata": {},
   "outputs": [],
   "source": [
    "myfunc(2,5,4,8,9,5)"
   ]
  },
  {
   "cell_type": "code",
   "execution_count": null,
   "id": "85d70c6b",
   "metadata": {},
   "outputs": [],
   "source": [
    "def findmin(*minn):\n",
    "    return min(minn)"
   ]
  },
  {
   "cell_type": "code",
   "execution_count": null,
   "id": "2b1fc253",
   "metadata": {},
   "outputs": [],
   "source": [
    "findmin(10,5,25,42,3,47,64)"
   ]
  },
  {
   "cell_type": "code",
   "execution_count": null,
   "id": "b07e5ce5",
   "metadata": {},
   "outputs": [],
   "source": [
    "findmin(1,5,50,3,8,34,4,1,72)"
   ]
  },
  {
   "cell_type": "code",
   "execution_count": null,
   "id": "f8c2c1d2",
   "metadata": {},
   "outputs": [],
   "source": [
    "def findmax(*maxn):\n",
    "    return max(maxn)"
   ]
  },
  {
   "cell_type": "code",
   "execution_count": null,
   "id": "adbb3ed7",
   "metadata": {},
   "outputs": [],
   "source": [
    "findmax(10,50,22,14,45,33,43)"
   ]
  },
  {
   "cell_type": "code",
   "execution_count": null,
   "id": "f5dcaa71",
   "metadata": {},
   "outputs": [],
   "source": [
    "#s=s+n          for s+=n\n",
    "\n",
    "def sumfunc(*numbers):\n",
    "    s=0\n",
    "    for n in numbers:\n",
    "        s+=n #s=s+n\n",
    "    return s"
   ]
  },
  {
   "cell_type": "code",
   "execution_count": null,
   "id": "1f0b146c",
   "metadata": {},
   "outputs": [],
   "source": [
    "print(sumfunc(1,3))"
   ]
  },
  {
   "cell_type": "code",
   "execution_count": null,
   "id": "6bc7d5c7",
   "metadata": {},
   "outputs": [],
   "source": [
    "print(sumfunc(1,2,3,4,5,6,7))"
   ]
  },
  {
   "cell_type": "code",
   "execution_count": null,
   "id": "1a8d94d3",
   "metadata": {},
   "outputs": [],
   "source": [
    "# ((9/5)*temp+32)=f"
   ]
  },
  {
   "cell_type": "code",
   "execution_count": null,
   "id": "ee4cecfb",
   "metadata": {},
   "outputs": [],
   "source": [
    "def tempconvert_celsius_fahrenheit(temp):\n",
    "    return ((9/5)*temp+32)"
   ]
  },
  {
   "cell_type": "code",
   "execution_count": null,
   "id": "0ea04978",
   "metadata": {},
   "outputs": [],
   "source": [
    "tempconvert_celsius_fahrenheit(35)"
   ]
  },
  {
   "cell_type": "code",
   "execution_count": null,
   "id": "3af6b542",
   "metadata": {},
   "outputs": [],
   "source": [
    "tempconvert_celsius_fahrenheit(20)"
   ]
  },
  {
   "cell_type": "code",
   "execution_count": null,
   "id": "d30d8672",
   "metadata": {},
   "outputs": [],
   "source": [
    "def tempconvert_fahrenheit_celsius(temp):\n",
    "    return (5/9)*(temp-32)"
   ]
  },
  {
   "cell_type": "code",
   "execution_count": null,
   "id": "07fc544b",
   "metadata": {},
   "outputs": [],
   "source": [
    "tempconvert_fahrenheit_celsius(95)"
   ]
  },
  {
   "cell_type": "code",
   "execution_count": null,
   "id": "83b9e995",
   "metadata": {},
   "outputs": [],
   "source": [
    "tempconvert_fahrenheit_celsius(68)"
   ]
  },
  {
   "cell_type": "code",
   "execution_count": null,
   "id": "961d9f9c",
   "metadata": {},
   "outputs": [],
   "source": []
  },
  {
   "cell_type": "code",
   "execution_count": null,
   "id": "b94930b6",
   "metadata": {},
   "outputs": [],
   "source": []
  }
 ],
 "metadata": {
  "kernelspec": {
   "display_name": "Python 3 (ipykernel)",
   "language": "python",
   "name": "python3"
  },
  "language_info": {
   "codemirror_mode": {
    "name": "ipython",
    "version": 3
   },
   "file_extension": ".py",
   "mimetype": "text/x-python",
   "name": "python",
   "nbconvert_exporter": "python",
   "pygments_lexer": "ipython3",
   "version": "3.9.12"
  }
 },
 "nbformat": 4,
 "nbformat_minor": 5
}
