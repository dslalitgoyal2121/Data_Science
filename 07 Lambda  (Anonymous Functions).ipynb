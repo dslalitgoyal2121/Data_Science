{
 "cells": [
  {
   "cell_type": "markdown",
   "id": "705406b9",
   "metadata": {},
   "source": [
    "# Anonymous Functions"
   ]
  },
  {
   "cell_type": "markdown",
   "id": "ed3a2705",
   "metadata": {},
   "source": [
    "Lambda"
   ]
  },
  {
   "cell_type": "markdown",
   "id": "2a0b7956",
   "metadata": {},
   "source": [
    "A lambda function is a small function containing a single expression. Lambda functions can also act as anonymous functions where they don't require any name. These are very helpful when we have to perform small tasks with less code.\n",
    "\n",
    "the expression is composed of :\n",
    "\n",
    "The keyword: lambda\n",
    "A bound variable: x\n",
    "A body: x*2,x+2,x-2,x/2"
   ]
  },
  {
   "cell_type": "code",
   "execution_count": 1,
   "id": "886b5a66",
   "metadata": {},
   "outputs": [
    {
     "data": {
      "text/plain": [
       "10"
      ]
     },
     "execution_count": 1,
     "metadata": {},
     "output_type": "execute_result"
    }
   ],
   "source": [
    "test = lambda x:x*2\n",
    "test(5)"
   ]
  },
  {
   "cell_type": "code",
   "execution_count": 2,
   "id": "22238283",
   "metadata": {},
   "outputs": [
    {
     "data": {
      "text/plain": [
       "5"
      ]
     },
     "execution_count": 2,
     "metadata": {},
     "output_type": "execute_result"
    }
   ],
   "source": [
    "testf=lambda x:x+2\n",
    "testf(3)"
   ]
  },
  {
   "cell_type": "code",
   "execution_count": 3,
   "id": "3a65e3ea",
   "metadata": {},
   "outputs": [
    {
     "data": {
      "text/plain": [
       "23"
      ]
     },
     "execution_count": 3,
     "metadata": {},
     "output_type": "execute_result"
    }
   ],
   "source": [
    "testf(21)"
   ]
  },
  {
   "cell_type": "code",
   "execution_count": 4,
   "id": "d165ddc3",
   "metadata": {},
   "outputs": [
    {
     "data": {
      "text/plain": [
       "50"
      ]
     },
     "execution_count": 4,
     "metadata": {},
     "output_type": "execute_result"
    }
   ],
   "source": [
    "h=lambda a,b:a+b\n",
    "h(20,30)"
   ]
  },
  {
   "cell_type": "code",
   "execution_count": 5,
   "id": "411743a9",
   "metadata": {},
   "outputs": [],
   "source": [
    "g=lambda x:x**2"
   ]
  },
  {
   "cell_type": "code",
   "execution_count": 6,
   "id": "5eb67c23",
   "metadata": {},
   "outputs": [
    {
     "data": {
      "text/plain": [
       "25"
      ]
     },
     "execution_count": 6,
     "metadata": {},
     "output_type": "execute_result"
    }
   ],
   "source": [
    "g(5)"
   ]
  },
  {
   "cell_type": "code",
   "execution_count": 7,
   "id": "2c877c09",
   "metadata": {},
   "outputs": [
    {
     "data": {
      "text/plain": [
       "144"
      ]
     },
     "execution_count": 7,
     "metadata": {},
     "output_type": "execute_result"
    }
   ],
   "source": [
    "g(12)"
   ]
  },
  {
   "cell_type": "code",
   "execution_count": 8,
   "id": "b3297ee5",
   "metadata": {},
   "outputs": [],
   "source": [
    "sqroot=lambda x:x**(1/2)"
   ]
  },
  {
   "cell_type": "code",
   "execution_count": 9,
   "id": "b5fa7888",
   "metadata": {},
   "outputs": [
    {
     "data": {
      "text/plain": [
       "5.0"
      ]
     },
     "execution_count": 9,
     "metadata": {},
     "output_type": "execute_result"
    }
   ],
   "source": [
    "sqroot(25)"
   ]
  },
  {
   "cell_type": "code",
   "execution_count": 10,
   "id": "c05105d4",
   "metadata": {},
   "outputs": [],
   "source": [
    "cube=lambda x:x**3"
   ]
  },
  {
   "cell_type": "code",
   "execution_count": 11,
   "id": "42ec4977",
   "metadata": {},
   "outputs": [
    {
     "data": {
      "text/plain": [
       "125"
      ]
     },
     "execution_count": 11,
     "metadata": {},
     "output_type": "execute_result"
    }
   ],
   "source": [
    "cube(5)"
   ]
  },
  {
   "cell_type": "code",
   "execution_count": 12,
   "id": "a3cf9086",
   "metadata": {},
   "outputs": [
    {
     "name": "stdout",
     "output_type": "stream",
     "text": [
      "Value of total :  40\n",
      "Value of total :  50\n"
     ]
    }
   ],
   "source": [
    "addver=lambda arg1,arg2: arg1+arg2\n",
    "\n",
    "# now you can call sum as a function\n",
    "print(\"Value of total : \",addver(10,30))\n",
    "print(\"Value of total : \",addver(20,30))"
   ]
  },
  {
   "cell_type": "code",
   "execution_count": 13,
   "id": "6baaaddd",
   "metadata": {},
   "outputs": [],
   "source": [
    "# ((9/5)*temp+32)=f"
   ]
  },
  {
   "cell_type": "code",
   "execution_count": 14,
   "id": "358c9734",
   "metadata": {},
   "outputs": [],
   "source": [
    "def tempconvert_celsius_fahrenheit(temp):\n",
    "    return ((9/5)*temp+32)"
   ]
  },
  {
   "cell_type": "code",
   "execution_count": 15,
   "id": "f76b3dbd",
   "metadata": {},
   "outputs": [
    {
     "data": {
      "text/plain": [
       "95.0"
      ]
     },
     "execution_count": 15,
     "metadata": {},
     "output_type": "execute_result"
    }
   ],
   "source": [
    "tempconvert_celsius_fahrenheit(35)"
   ]
  },
  {
   "cell_type": "code",
   "execution_count": 16,
   "id": "10a81b47",
   "metadata": {},
   "outputs": [
    {
     "data": {
      "text/plain": [
       "68.0"
      ]
     },
     "execution_count": 16,
     "metadata": {},
     "output_type": "execute_result"
    }
   ],
   "source": [
    "tempconvert_celsius_fahrenheit(20)"
   ]
  },
  {
   "cell_type": "code",
   "execution_count": 17,
   "id": "8ef45351",
   "metadata": {},
   "outputs": [],
   "source": [
    "def tempconvert_fahrenheit_celsius(temp):\n",
    "    return (5/9)*(temp-32)"
   ]
  },
  {
   "cell_type": "code",
   "execution_count": 18,
   "id": "d7b54f4a",
   "metadata": {},
   "outputs": [
    {
     "data": {
      "text/plain": [
       "35.0"
      ]
     },
     "execution_count": 18,
     "metadata": {},
     "output_type": "execute_result"
    }
   ],
   "source": [
    "tempconvert_fahrenheit_celsius(95)"
   ]
  },
  {
   "cell_type": "code",
   "execution_count": 19,
   "id": "c3154fe2",
   "metadata": {},
   "outputs": [
    {
     "data": {
      "text/plain": [
       "20.0"
      ]
     },
     "execution_count": 19,
     "metadata": {},
     "output_type": "execute_result"
    }
   ],
   "source": [
    "tempconvert_fahrenheit_celsius(68)"
   ]
  },
  {
   "cell_type": "code",
   "execution_count": 20,
   "id": "851be015",
   "metadata": {},
   "outputs": [],
   "source": [
    "mp=lambda temp: ((9/5)*temp+32)"
   ]
  },
  {
   "cell_type": "code",
   "execution_count": 21,
   "id": "d8ebf566",
   "metadata": {},
   "outputs": [
    {
     "data": {
      "text/plain": [
       "104.0"
      ]
     },
     "execution_count": 21,
     "metadata": {},
     "output_type": "execute_result"
    }
   ],
   "source": [
    "mp(40)"
   ]
  },
  {
   "cell_type": "code",
   "execution_count": 22,
   "id": "7cb3f22c",
   "metadata": {},
   "outputs": [],
   "source": [
    "fc=lambda t:(5/9)*(t-32)"
   ]
  },
  {
   "cell_type": "code",
   "execution_count": 23,
   "id": "ffb671e5",
   "metadata": {},
   "outputs": [
    {
     "data": {
      "text/plain": [
       "35.0"
      ]
     },
     "execution_count": 23,
     "metadata": {},
     "output_type": "execute_result"
    }
   ],
   "source": [
    "fc(95)"
   ]
  },
  {
   "cell_type": "code",
   "execution_count": 24,
   "id": "4e305cad",
   "metadata": {},
   "outputs": [
    {
     "data": {
      "text/plain": [
       "27.77777777777778"
      ]
     },
     "execution_count": 24,
     "metadata": {},
     "output_type": "execute_result"
    }
   ],
   "source": [
    "fc(82)"
   ]
  },
  {
   "cell_type": "code",
   "execution_count": 25,
   "id": "a94c54aa",
   "metadata": {},
   "outputs": [
    {
     "data": {
      "text/plain": [
       "27.78"
      ]
     },
     "execution_count": 25,
     "metadata": {},
     "output_type": "execute_result"
    }
   ],
   "source": [
    "round(fc(82),2)"
   ]
  },
  {
   "cell_type": "code",
   "execution_count": 5,
   "id": "1dc80de8",
   "metadata": {},
   "outputs": [],
   "source": [
    "def testin():\n",
    "    x=int(input(\"Enter x\"))\n",
    "    y=int(input(\"Enter Y\"))\n",
    "    z=lambda x,y:x**y\n",
    "    print(z(x,y))"
   ]
  },
  {
   "cell_type": "code",
   "execution_count": 6,
   "id": "e081d972",
   "metadata": {},
   "outputs": [
    {
     "name": "stdout",
     "output_type": "stream",
     "text": [
      "Enter x2\n",
      "Enter Y3\n",
      "8\n"
     ]
    }
   ],
   "source": [
    "testin()"
   ]
  },
  {
   "cell_type": "markdown",
   "id": "8784d00e",
   "metadata": {},
   "source": [
    "Map in Lambda"
   ]
  },
  {
   "cell_type": "code",
   "execution_count": 7,
   "id": "e7ed06e7",
   "metadata": {},
   "outputs": [],
   "source": [
    "list1=[10,20,30,40,50]"
   ]
  },
  {
   "cell_type": "code",
   "execution_count": 8,
   "id": "72996beb",
   "metadata": {},
   "outputs": [
    {
     "data": {
      "text/plain": [
       "<map at 0x24b64521250>"
      ]
     },
     "execution_count": 8,
     "metadata": {},
     "output_type": "execute_result"
    }
   ],
   "source": [
    "map(lambda x:x+2,list1)"
   ]
  },
  {
   "cell_type": "code",
   "execution_count": 9,
   "id": "251261d4",
   "metadata": {},
   "outputs": [
    {
     "data": {
      "text/plain": [
       "[12, 22, 32, 42, 52]"
      ]
     },
     "execution_count": 9,
     "metadata": {},
     "output_type": "execute_result"
    }
   ],
   "source": [
    "list(map(lambda x:x+2,list1))"
   ]
  },
  {
   "cell_type": "code",
   "execution_count": 10,
   "id": "96b0dda4",
   "metadata": {},
   "outputs": [],
   "source": [
    "temp_list=[15,20,25,30,35,40]"
   ]
  },
  {
   "cell_type": "code",
   "execution_count": 11,
   "id": "06b2c495",
   "metadata": {},
   "outputs": [
    {
     "data": {
      "text/plain": [
       "[59.0, 68.0, 77.0, 86.0, 95.0, 104.0]"
      ]
     },
     "execution_count": 11,
     "metadata": {},
     "output_type": "execute_result"
    }
   ],
   "source": [
    "list(map(lambda temp:((9/5)*temp+32),temp_list))"
   ]
  },
  {
   "cell_type": "code",
   "execution_count": 12,
   "id": "7400c383",
   "metadata": {},
   "outputs": [],
   "source": [
    "f=list(map(lambda temp:((9/5)*temp+32),temp_list))"
   ]
  },
  {
   "cell_type": "code",
   "execution_count": 13,
   "id": "66895765",
   "metadata": {},
   "outputs": [
    {
     "data": {
      "text/plain": [
       "[59.0, 68.0, 77.0, 86.0, 95.0, 104.0]"
      ]
     },
     "execution_count": 13,
     "metadata": {},
     "output_type": "execute_result"
    }
   ],
   "source": [
    "f"
   ]
  },
  {
   "cell_type": "code",
   "execution_count": 14,
   "id": "8c79551a",
   "metadata": {},
   "outputs": [],
   "source": [
    "c=list(map(lambda temp:((5/9)*(temp-32)),f))"
   ]
  },
  {
   "cell_type": "code",
   "execution_count": 15,
   "id": "f6466582",
   "metadata": {},
   "outputs": [
    {
     "data": {
      "text/plain": [
       "[15.0, 20.0, 25.0, 30.0, 35.0, 40.0]"
      ]
     },
     "execution_count": 15,
     "metadata": {},
     "output_type": "execute_result"
    }
   ],
   "source": [
    "c"
   ]
  },
  {
   "cell_type": "code",
   "execution_count": 16,
   "id": "25fbdaf2",
   "metadata": {},
   "outputs": [
    {
     "data": {
      "text/plain": [
       "[1, 4, 9, 16, 25, 36, 49, 64, 81]"
      ]
     },
     "execution_count": 16,
     "metadata": {},
     "output_type": "execute_result"
    }
   ],
   "source": [
    "list2=[1,2,3,4,5,6,7,8,9]\n",
    "\n",
    "list(map(lambda y:y**2,list2))"
   ]
  },
  {
   "cell_type": "markdown",
   "id": "2f42b698",
   "metadata": {},
   "source": [
    "Lets use Lambda anonymous function By using lambda, we wouldn't have had to define and name the functions fahrenhelt()and celsius()"
   ]
  },
  {
   "cell_type": "code",
   "execution_count": null,
   "id": "a74ed962",
   "metadata": {},
   "outputs": [],
   "source": [
    "# Lambda with fahrenheit\n",
    "\n",
    "f=lambda x:(9/5)*x+32;\n",
    "f(38.4)"
   ]
  },
  {
   "cell_type": "markdown",
   "id": "49709194",
   "metadata": {},
   "source": [
    "map in lambda -----> it applies on list"
   ]
  },
  {
   "cell_type": "code",
   "execution_count": 36,
   "id": "db0a649b",
   "metadata": {},
   "outputs": [
    {
     "data": {
      "text/plain": [
       "<map at 0x24b64583550>"
      ]
     },
     "execution_count": 36,
     "metadata": {},
     "output_type": "execute_result"
    }
   ],
   "source": [
    "mylist=[1,2,3,4]\n",
    "\n",
    "map(lambda x:x*2,mylist)"
   ]
  },
  {
   "cell_type": "code",
   "execution_count": 37,
   "id": "204defa8",
   "metadata": {},
   "outputs": [
    {
     "data": {
      "text/plain": [
       "[2, 4, 6, 8]"
      ]
     },
     "execution_count": 37,
     "metadata": {},
     "output_type": "execute_result"
    }
   ],
   "source": [
    "list(map(lambda x:x*2,mylist))"
   ]
  },
  {
   "cell_type": "code",
   "execution_count": 38,
   "id": "439d4349",
   "metadata": {},
   "outputs": [],
   "source": [
    "c=[32.2,24,3,54.6,28,46,34.9]"
   ]
  },
  {
   "cell_type": "code",
   "execution_count": 40,
   "id": "30f9ecd0",
   "metadata": {},
   "outputs": [
    {
     "name": "stdout",
     "output_type": "stream",
     "text": [
      "[89.96000000000001, 75.2, 37.4, 130.28, 82.4, 114.8, 94.82]\n"
     ]
    }
   ],
   "source": [
    "f=list(map(lambda x:(9/5)*x+32,c))\n",
    "print(f)"
   ]
  },
  {
   "cell_type": "code",
   "execution_count": 41,
   "id": "e65dd392",
   "metadata": {},
   "outputs": [
    {
     "name": "stdout",
     "output_type": "stream",
     "text": [
      "[32.2, 24.000000000000004, 2.9999999999999996, 54.6, 28.000000000000004, 46.0, 34.9]\n"
     ]
    }
   ],
   "source": [
    "c=list(map(lambda x:(5/9)*(x-32),f))\n",
    "print(c)"
   ]
  },
  {
   "cell_type": "code",
   "execution_count": 42,
   "id": "b6dcb308",
   "metadata": {},
   "outputs": [
    {
     "data": {
      "text/plain": [
       "[32.2, 24.0, 3.0, 54.6, 28.0, 46.0, 34.9]"
      ]
     },
     "execution_count": 42,
     "metadata": {},
     "output_type": "execute_result"
    }
   ],
   "source": [
    "newclint= [round(x,2) for x in c]\n",
    "newclint"
   ]
  },
  {
   "cell_type": "code",
   "execution_count": null,
   "id": "4c7f1b31",
   "metadata": {},
   "outputs": [],
   "source": [
    "newlist=[\"%.2f\" % j for j in c]\n",
    "newlist"
   ]
  },
  {
   "cell_type": "markdown",
   "id": "12fc8618",
   "metadata": {},
   "source": [
    "# Filter in Lambda"
   ]
  },
  {
   "cell_type": "markdown",
   "id": "2052764c",
   "metadata": {},
   "source": [
    "filter() function\n",
    "It returns the items where function is true\n",
    "if none of the element meets condition, it will return nothing. In the code belw, we are checking if value is greater then 2."
   ]
  },
  {
   "cell_type": "code",
   "execution_count": 43,
   "id": "21f0c47c",
   "metadata": {},
   "outputs": [
    {
     "data": {
      "text/plain": [
       "[3, 4, 5, 6, 7]"
      ]
     },
     "execution_count": 43,
     "metadata": {},
     "output_type": "execute_result"
    }
   ],
   "source": [
    "mylist=[1,2,3,4,5,6,7]\n",
    "list(filter(lambda x:x>2,mylist))"
   ]
  },
  {
   "cell_type": "code",
   "execution_count": 44,
   "id": "9eeda71f",
   "metadata": {},
   "outputs": [
    {
     "data": {
      "text/plain": [
       "[0, 2, 4, 6, 8, 10]"
      ]
     },
     "execution_count": 44,
     "metadata": {},
     "output_type": "execute_result"
    }
   ],
   "source": [
    "even = lambda x:x%2==0\n",
    "list(filter(even, range(11)))"
   ]
  },
  {
   "cell_type": "code",
   "execution_count": 45,
   "id": "3387490a",
   "metadata": {},
   "outputs": [
    {
     "data": {
      "text/plain": [
       "[0, 2, 4, 6, 8, 10]"
      ]
     },
     "execution_count": 45,
     "metadata": {},
     "output_type": "execute_result"
    }
   ],
   "source": [
    "# you can do it by list comperhension\n",
    "[x for x in range (11) if x%2==0]"
   ]
  },
  {
   "cell_type": "code",
   "execution_count": 47,
   "id": "2e9f7bd6",
   "metadata": {},
   "outputs": [
    {
     "data": {
      "text/plain": [
       "[6, 8, 10]"
      ]
     },
     "execution_count": 47,
     "metadata": {},
     "output_type": "execute_result"
    }
   ],
   "source": [
    "# you can do it by list comperhension\n",
    "[x for x in range (5,11) if x%2==0]"
   ]
  },
  {
   "cell_type": "code",
   "execution_count": null,
   "id": "50c8b1f0",
   "metadata": {},
   "outputs": [],
   "source": []
  }
 ],
 "metadata": {
  "kernelspec": {
   "display_name": "Python 3 (ipykernel)",
   "language": "python",
   "name": "python3"
  },
  "language_info": {
   "codemirror_mode": {
    "name": "ipython",
    "version": 3
   },
   "file_extension": ".py",
   "mimetype": "text/x-python",
   "name": "python",
   "nbconvert_exporter": "python",
   "pygments_lexer": "ipython3",
   "version": "3.9.12"
  }
 },
 "nbformat": 4,
 "nbformat_minor": 5
}
