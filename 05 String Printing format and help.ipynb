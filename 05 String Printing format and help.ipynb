{
 "cells": [
  {
   "cell_type": "markdown",
   "id": "aef0ad82",
   "metadata": {},
   "source": [
    "# String Printing format\n",
    "C-Style format\n",
    "\n",
    "string.format"
   ]
  },
  {
   "cell_type": "markdown",
   "id": "874e6de9",
   "metadata": {},
   "source": [
    "Python uses C-style string formatting to create new, formatted string. The\"%\" operator is used to format a set of variables enciosed in a \"tuple\" (a fixed size list), together with a fomat string, which contains normal taxt toether with \"argumet specifiers\", special symbols like \"%s\" and \"%d\",\"%f\"."
   ]
  },
  {
   "cell_type": "code",
   "execution_count": 1,
   "id": "ceac2159",
   "metadata": {},
   "outputs": [
    {
     "name": "stdout",
     "output_type": "stream",
     "text": [
      "Hello, John!\n"
     ]
    }
   ],
   "source": [
    "# This prints out \"Hello, John!!\"\n",
    "name=\"John\"\n",
    "print(\"Hello, %s!\" % name)"
   ]
  },
  {
   "cell_type": "code",
   "execution_count": 2,
   "id": "c66305f8",
   "metadata": {},
   "outputs": [
    {
     "name": "stdout",
     "output_type": "stream",
     "text": [
      "Hello John !\n"
     ]
    }
   ],
   "source": [
    "print(\"Hello\",name,\"!\")"
   ]
  },
  {
   "cell_type": "code",
   "execution_count": 3,
   "id": "a343f65d",
   "metadata": {},
   "outputs": [
    {
     "name": "stdout",
     "output_type": "stream",
     "text": [
      "john is 23 year old taking salary 7520.563200\n",
      "salary = 7520.56\n"
     ]
    }
   ],
   "source": [
    "# This prints out \"John is23 year old\"\n",
    "name=\"john\"\n",
    "age=23\n",
    "salary=7520.5632\n",
    "print(\"%s is %d year old taking salary %f\" %(name,age,salary))\n",
    "\n",
    "print(\"salary = %0.2f\" %salary)"
   ]
  },
  {
   "cell_type": "code",
   "execution_count": 4,
   "id": "5b61aeb4",
   "metadata": {},
   "outputs": [
    {
     "name": "stdout",
     "output_type": "stream",
     "text": [
      "I like to eat Apple , Mango or Banana\n"
     ]
    }
   ],
   "source": [
    "f1=\"Apple\"\n",
    "f2=\"Mango\"\n",
    "f3=\"Banana\"\n",
    "print(\"I like to eat %s , %s or %s\" %(f1,f2,f3))"
   ]
  },
  {
   "cell_type": "markdown",
   "id": "a6faefad",
   "metadata": {},
   "source": [
    "string.format functions"
   ]
  },
  {
   "cell_type": "code",
   "execution_count": 5,
   "id": "9044bac2",
   "metadata": {},
   "outputs": [
    {
     "name": "stdout",
     "output_type": "stream",
     "text": [
      "Pepole generally take cock with pizza\n"
     ]
    }
   ],
   "source": [
    "print(\"Pepole generally take {} with {}\".format(\"cock\",\"pizza\"))"
   ]
  },
  {
   "cell_type": "code",
   "execution_count": 6,
   "id": "d1202b06",
   "metadata": {},
   "outputs": [
    {
     "name": "stdout",
     "output_type": "stream",
     "text": [
      "Pepole generally take cock with pizza\n"
     ]
    }
   ],
   "source": [
    "print(\"Pepole generally take {0} with {1}\".format(\"cock\",\"pizza\"))"
   ]
  },
  {
   "cell_type": "code",
   "execution_count": 7,
   "id": "9a2840af",
   "metadata": {},
   "outputs": [
    {
     "name": "stdout",
     "output_type": "stream",
     "text": [
      "Pepole generally take pizza with cock\n"
     ]
    }
   ],
   "source": [
    "print(\"Pepole generally take {1} with {0}\".format(\"cock\",\"pizza\"))"
   ]
  },
  {
   "cell_type": "code",
   "execution_count": 8,
   "id": "c4b87c77",
   "metadata": {},
   "outputs": [
    {
     "name": "stdout",
     "output_type": "stream",
     "text": [
      "his name is john he is 23 year old\n"
     ]
    }
   ],
   "source": [
    "name=\"john\"\n",
    "age=23\n",
    "print(\"his name is {} he is {} year old\".format(name,age))"
   ]
  },
  {
   "cell_type": "code",
   "execution_count": 3,
   "id": "65994128",
   "metadata": {},
   "outputs": [
    {
     "ename": "KeyboardInterrupt",
     "evalue": "Interrupted by user",
     "output_type": "error",
     "traceback": [
      "\u001b[1;31m---------------------------------------------------------------------------\u001b[0m",
      "\u001b[1;31mKeyboardInterrupt\u001b[0m                         Traceback (most recent call last)",
      "Input \u001b[1;32mIn [3]\u001b[0m, in \u001b[0;36m<cell line: 1>\u001b[1;34m()\u001b[0m\n\u001b[1;32m----> 1\u001b[0m name\u001b[38;5;241m=\u001b[39m\u001b[38;5;28;43minput\u001b[39;49m\u001b[43m(\u001b[49m\u001b[38;5;124;43m\"\u001b[39;49m\u001b[38;5;124;43mEnter Name \u001b[39;49m\u001b[38;5;124;43m\"\u001b[39;49m\u001b[43m)\u001b[49m\n\u001b[0;32m      2\u001b[0m age\u001b[38;5;241m=\u001b[39m\u001b[38;5;28mint\u001b[39m(\u001b[38;5;28minput\u001b[39m(\u001b[38;5;124m\"\u001b[39m\u001b[38;5;124mEnter Age \u001b[39m\u001b[38;5;124m\"\u001b[39m))\n\u001b[0;32m      3\u001b[0m \u001b[38;5;28mprint\u001b[39m(\u001b[38;5;124m\"\u001b[39m\u001b[38;5;124mhis name is \u001b[39m\u001b[38;5;132;01m{}\u001b[39;00m\u001b[38;5;124m he is \u001b[39m\u001b[38;5;132;01m{}\u001b[39;00m\u001b[38;5;124m year old\u001b[39m\u001b[38;5;124m\"\u001b[39m\u001b[38;5;241m.\u001b[39mformat(name,age))\n",
      "File \u001b[1;32m~\\anaconda3\\lib\\site-packages\\ipykernel\\kernelbase.py:1075\u001b[0m, in \u001b[0;36mKernel.raw_input\u001b[1;34m(self, prompt)\u001b[0m\n\u001b[0;32m   1071\u001b[0m \u001b[38;5;28;01mif\u001b[39;00m \u001b[38;5;129;01mnot\u001b[39;00m \u001b[38;5;28mself\u001b[39m\u001b[38;5;241m.\u001b[39m_allow_stdin:\n\u001b[0;32m   1072\u001b[0m     \u001b[38;5;28;01mraise\u001b[39;00m StdinNotImplementedError(\n\u001b[0;32m   1073\u001b[0m         \u001b[38;5;124m\"\u001b[39m\u001b[38;5;124mraw_input was called, but this frontend does not support input requests.\u001b[39m\u001b[38;5;124m\"\u001b[39m\n\u001b[0;32m   1074\u001b[0m     )\n\u001b[1;32m-> 1075\u001b[0m \u001b[38;5;28;01mreturn\u001b[39;00m \u001b[38;5;28;43mself\u001b[39;49m\u001b[38;5;241;43m.\u001b[39;49m\u001b[43m_input_request\u001b[49m\u001b[43m(\u001b[49m\n\u001b[0;32m   1076\u001b[0m \u001b[43m    \u001b[49m\u001b[38;5;28;43mstr\u001b[39;49m\u001b[43m(\u001b[49m\u001b[43mprompt\u001b[49m\u001b[43m)\u001b[49m\u001b[43m,\u001b[49m\n\u001b[0;32m   1077\u001b[0m \u001b[43m    \u001b[49m\u001b[38;5;28;43mself\u001b[39;49m\u001b[38;5;241;43m.\u001b[39;49m\u001b[43m_parent_ident\u001b[49m\u001b[43m[\u001b[49m\u001b[38;5;124;43m\"\u001b[39;49m\u001b[38;5;124;43mshell\u001b[39;49m\u001b[38;5;124;43m\"\u001b[39;49m\u001b[43m]\u001b[49m\u001b[43m,\u001b[49m\n\u001b[0;32m   1078\u001b[0m \u001b[43m    \u001b[49m\u001b[38;5;28;43mself\u001b[39;49m\u001b[38;5;241;43m.\u001b[39;49m\u001b[43mget_parent\u001b[49m\u001b[43m(\u001b[49m\u001b[38;5;124;43m\"\u001b[39;49m\u001b[38;5;124;43mshell\u001b[39;49m\u001b[38;5;124;43m\"\u001b[39;49m\u001b[43m)\u001b[49m\u001b[43m,\u001b[49m\n\u001b[0;32m   1079\u001b[0m \u001b[43m    \u001b[49m\u001b[43mpassword\u001b[49m\u001b[38;5;241;43m=\u001b[39;49m\u001b[38;5;28;43;01mFalse\u001b[39;49;00m\u001b[43m,\u001b[49m\n\u001b[0;32m   1080\u001b[0m \u001b[43m\u001b[49m\u001b[43m)\u001b[49m\n",
      "File \u001b[1;32m~\\anaconda3\\lib\\site-packages\\ipykernel\\kernelbase.py:1120\u001b[0m, in \u001b[0;36mKernel._input_request\u001b[1;34m(self, prompt, ident, parent, password)\u001b[0m\n\u001b[0;32m   1117\u001b[0m             \u001b[38;5;28;01mbreak\u001b[39;00m\n\u001b[0;32m   1118\u001b[0m \u001b[38;5;28;01mexcept\u001b[39;00m \u001b[38;5;167;01mKeyboardInterrupt\u001b[39;00m:\n\u001b[0;32m   1119\u001b[0m     \u001b[38;5;66;03m# re-raise KeyboardInterrupt, to truncate traceback\u001b[39;00m\n\u001b[1;32m-> 1120\u001b[0m     \u001b[38;5;28;01mraise\u001b[39;00m \u001b[38;5;167;01mKeyboardInterrupt\u001b[39;00m(\u001b[38;5;124m\"\u001b[39m\u001b[38;5;124mInterrupted by user\u001b[39m\u001b[38;5;124m\"\u001b[39m) \u001b[38;5;28;01mfrom\u001b[39;00m \u001b[38;5;28mNone\u001b[39m\n\u001b[0;32m   1121\u001b[0m \u001b[38;5;28;01mexcept\u001b[39;00m \u001b[38;5;167;01mException\u001b[39;00m:\n\u001b[0;32m   1122\u001b[0m     \u001b[38;5;28mself\u001b[39m\u001b[38;5;241m.\u001b[39mlog\u001b[38;5;241m.\u001b[39mwarning(\u001b[38;5;124m\"\u001b[39m\u001b[38;5;124mInvalid Message:\u001b[39m\u001b[38;5;124m\"\u001b[39m, exc_info\u001b[38;5;241m=\u001b[39m\u001b[38;5;28;01mTrue\u001b[39;00m)\n",
      "\u001b[1;31mKeyboardInterrupt\u001b[0m: Interrupted by user"
     ]
    }
   ],
   "source": [
    "name=input(\"Enter Name \")\n",
    "age=int(input(\"Enter Age \"))\n",
    "print(\"his name is {} he is {} year old\".format(name,age))"
   ]
  },
  {
   "cell_type": "markdown",
   "id": "bb8853ec",
   "metadata": {},
   "source": [
    "# Help"
   ]
  },
  {
   "cell_type": "markdown",
   "id": "77733376",
   "metadata": {},
   "source": [
    "Function is a group of related statements that performs a spcific task.\n",
    "\n",
    "Function help break our program into smaller and modular chnks. as our program grows larger and larger, functions make it more organized and manageable."
   ]
  },
  {
   "cell_type": "code",
   "execution_count": null,
   "id": "9759baaf",
   "metadata": {},
   "outputs": [
    {
     "name": "stdout",
     "output_type": "stream",
     "text": [
      "\n",
      "Welcome to Python 3.9's help utility!\n",
      "\n",
      "If this is your first time using Python, you should definitely check out\n",
      "the tutorial on the Internet at https://docs.python.org/3.9/tutorial/.\n",
      "\n",
      "Enter the name of any module, keyword, or topic to get help on writing\n",
      "Python programs and using Python modules.  To quit this help utility and\n",
      "return to the interpreter, just type \"quit\".\n",
      "\n",
      "To get a list of available modules, keywords, symbols, or topics, type\n",
      "\"modules\", \"keywords\", \"symbols\", or \"topics\".  Each module also comes\n",
      "with a one-line summary of what it does; to list the modules whose name\n",
      "or summary contain a given string such as \"spam\", type \"modules spam\".\n",
      "\n",
      "help> topics\n",
      "\n",
      "Here is a list of available topics.  Enter any topic name to get more help.\n",
      "\n",
      "ASSERTION           DELETION            LOOPING             SHIFTING\n",
      "ASSIGNMENT          DICTIONARIES        MAPPINGMETHODS      SLICINGS\n",
      "ATTRIBUTEMETHODS    DICTIONARYLITERALS  MAPPINGS            SPECIALATTRIBUTES\n",
      "ATTRIBUTES          DYNAMICFEATURES     METHODS             SPECIALIDENTIFIERS\n",
      "AUGMENTEDASSIGNMENT ELLIPSIS            MODULES             SPECIALMETHODS\n",
      "BASICMETHODS        EXCEPTIONS          NAMESPACES          STRINGMETHODS\n",
      "BINARY              EXECUTION           NONE                STRINGS\n",
      "BITWISE             EXPRESSIONS         NUMBERMETHODS       SUBSCRIPTS\n",
      "BOOLEAN             FLOAT               NUMBERS             TRACEBACKS\n",
      "CALLABLEMETHODS     FORMATTING          OBJECTS             TRUTHVALUE\n",
      "CALLS               FRAMEOBJECTS        OPERATORS           TUPLELITERALS\n",
      "CLASSES             FRAMES              PACKAGES            TUPLES\n",
      "CODEOBJECTS         FUNCTIONS           POWER               TYPEOBJECTS\n",
      "COMPARISON          IDENTIFIERS         PRECEDENCE          TYPES\n",
      "COMPLEX             IMPORTING           PRIVATENAMES        UNARY\n",
      "CONDITIONAL         INTEGER             RETURNING           UNICODE\n",
      "CONTEXTMANAGERS     LISTLITERALS        SCOPING             \n",
      "CONVERSIONS         LISTS               SEQUENCEMETHODS     \n",
      "DEBUGGING           LITERALS            SEQUENCES           \n",
      "\n",
      "help> function\n",
      "No Python documentation found for 'function'.\n",
      "Use help() to get the interactive help utility.\n",
      "Use help(str) for help on the str class.\n",
      "\n",
      "help> Lists\n",
      "No Python documentation found for 'Lists'.\n",
      "Use help() to get the interactive help utility.\n",
      "Use help(str) for help on the str class.\n",
      "\n",
      "help> lists\n",
      "No Python documentation found for 'lists'.\n",
      "Use help() to get the interactive help utility.\n",
      "Use help(str) for help on the str class.\n",
      "\n",
      "help> STRINGS\n",
      "String and Bytes literals\n",
      "*************************\n",
      "\n",
      "String literals are described by the following lexical definitions:\n",
      "\n",
      "   stringliteral   ::= [stringprefix](shortstring | longstring)\n",
      "   stringprefix    ::= \"r\" | \"u\" | \"R\" | \"U\" | \"f\" | \"F\"\n",
      "                    | \"fr\" | \"Fr\" | \"fR\" | \"FR\" | \"rf\" | \"rF\" | \"Rf\" | \"RF\"\n",
      "   shortstring     ::= \"'\" shortstringitem* \"'\" | '\"' shortstringitem* '\"'\n",
      "   longstring      ::= \"'''\" longstringitem* \"'''\" | '\"\"\"' longstringitem* '\"\"\"'\n",
      "   shortstringitem ::= shortstringchar | stringescapeseq\n",
      "   longstringitem  ::= longstringchar | stringescapeseq\n",
      "   shortstringchar ::= <any source character except \"\\\" or newline or the quote>\n",
      "   longstringchar  ::= <any source character except \"\\\">\n",
      "   stringescapeseq ::= \"\\\" <any source character>\n",
      "\n",
      "   bytesliteral   ::= bytesprefix(shortbytes | longbytes)\n",
      "   bytesprefix    ::= \"b\" | \"B\" | \"br\" | \"Br\" | \"bR\" | \"BR\" | \"rb\" | \"rB\" | \"Rb\" | \"RB\"\n",
      "   shortbytes     ::= \"'\" shortbytesitem* \"'\" | '\"' shortbytesitem* '\"'\n",
      "   longbytes      ::= \"'''\" longbytesitem* \"'''\" | '\"\"\"' longbytesitem* '\"\"\"'\n",
      "   shortbytesitem ::= shortbyteschar | bytesescapeseq\n",
      "   longbytesitem  ::= longbyteschar | bytesescapeseq\n",
      "   shortbyteschar ::= <any ASCII character except \"\\\" or newline or the quote>\n",
      "   longbyteschar  ::= <any ASCII character except \"\\\">\n",
      "   bytesescapeseq ::= \"\\\" <any ASCII character>\n",
      "\n",
      "One syntactic restriction not indicated by these productions is that\n",
      "whitespace is not allowed between the \"stringprefix\" or \"bytesprefix\"\n",
      "and the rest of the literal. The source character set is defined by\n",
      "the encoding declaration; it is UTF-8 if no encoding declaration is\n",
      "given in the source file; see section Encoding declarations.\n",
      "\n",
      "In plain English: Both types of literals can be enclosed in matching\n",
      "single quotes (\"'\") or double quotes (\"\"\").  They can also be enclosed\n",
      "in matching groups of three single or double quotes (these are\n",
      "generally referred to as *triple-quoted strings*).  The backslash\n",
      "(\"\\\") character is used to escape characters that otherwise have a\n",
      "special meaning, such as newline, backslash itself, or the quote\n",
      "character.\n",
      "\n",
      "Bytes literals are always prefixed with \"'b'\" or \"'B'\"; they produce\n",
      "an instance of the \"bytes\" type instead of the \"str\" type.  They may\n",
      "only contain ASCII characters; bytes with a numeric value of 128 or\n",
      "greater must be expressed with escapes.\n",
      "\n",
      "Both string and bytes literals may optionally be prefixed with a\n",
      "letter \"'r'\" or \"'R'\"; such strings are called *raw strings* and treat\n",
      "backslashes as literal characters.  As a result, in string literals,\n",
      "\"'\\U'\" and \"'\\u'\" escapes in raw strings are not treated specially.\n",
      "Given that Python 2.x’s raw unicode literals behave differently than\n",
      "Python 3.x’s the \"'ur'\" syntax is not supported.\n",
      "\n",
      "New in version 3.3: The \"'rb'\" prefix of raw bytes literals has been\n",
      "added as a synonym of \"'br'\".\n",
      "\n",
      "New in version 3.3: Support for the unicode legacy literal\n",
      "(\"u'value'\") was reintroduced to simplify the maintenance of dual\n",
      "Python 2.x and 3.x codebases. See **PEP 414** for more information.\n",
      "\n",
      "A string literal with \"'f'\" or \"'F'\" in its prefix is a *formatted\n",
      "string literal*; see Formatted string literals.  The \"'f'\" may be\n",
      "combined with \"'r'\", but not with \"'b'\" or \"'u'\", therefore raw\n",
      "formatted strings are possible, but formatted bytes literals are not.\n",
      "\n",
      "In triple-quoted literals, unescaped newlines and quotes are allowed\n",
      "(and are retained), except that three unescaped quotes in a row\n",
      "terminate the literal.  (A “quote” is the character used to open the\n",
      "literal, i.e. either \"'\" or \"\"\".)\n",
      "\n",
      "Unless an \"'r'\" or \"'R'\" prefix is present, escape sequences in string\n",
      "and bytes literals are interpreted according to rules similar to those\n",
      "used by Standard C.  The recognized escape sequences are:\n",
      "\n",
      "+-------------------+-----------------------------------+---------+\n",
      "| Escape Sequence   | Meaning                           | Notes   |\n",
      "|===================|===================================|=========|\n",
      "| \"\\newline\"        | Backslash and newline ignored     |         |\n",
      "+-------------------+-----------------------------------+---------+\n",
      "| \"\\\\\"              | Backslash (\"\\\")                   |         |\n",
      "+-------------------+-----------------------------------+---------+\n",
      "| \"\\'\"              | Single quote (\"'\")                |         |\n",
      "+-------------------+-----------------------------------+---------+\n",
      "| \"\\\"\"              | Double quote (\"\"\")                |         |\n",
      "+-------------------+-----------------------------------+---------+\n",
      "| \"\\a\"              | ASCII Bell (BEL)                  |         |\n",
      "+-------------------+-----------------------------------+---------+\n",
      "| \"\\b\"              | ASCII Backspace (BS)              |         |\n",
      "+-------------------+-----------------------------------+---------+\n",
      "| \"\\f\"              | ASCII Formfeed (FF)               |         |\n",
      "+-------------------+-----------------------------------+---------+\n",
      "| \"\\n\"              | ASCII Linefeed (LF)               |         |\n",
      "+-------------------+-----------------------------------+---------+\n",
      "| \"\\r\"              | ASCII Carriage Return (CR)        |         |\n",
      "+-------------------+-----------------------------------+---------+\n",
      "| \"\\t\"              | ASCII Horizontal Tab (TAB)        |         |\n",
      "+-------------------+-----------------------------------+---------+\n",
      "| \"\\v\"              | ASCII Vertical Tab (VT)           |         |\n",
      "+-------------------+-----------------------------------+---------+\n",
      "| \"\\ooo\"            | Character with octal value *ooo*  | (1,3)   |\n",
      "+-------------------+-----------------------------------+---------+\n",
      "| \"\\xhh\"            | Character with hex value *hh*     | (2,3)   |\n",
      "+-------------------+-----------------------------------+---------+\n",
      "\n",
      "Escape sequences only recognized in string literals are:\n",
      "\n",
      "+-------------------+-----------------------------------+---------+\n",
      "| Escape Sequence   | Meaning                           | Notes   |\n",
      "|===================|===================================|=========|\n",
      "| \"\\N{name}\"        | Character named *name* in the     | (4)     |\n",
      "|                   | Unicode database                  |         |\n",
      "+-------------------+-----------------------------------+---------+\n",
      "| \"\\uxxxx\"          | Character with 16-bit hex value   | (5)     |\n",
      "|                   | *xxxx*                            |         |\n",
      "+-------------------+-----------------------------------+---------+\n",
      "| \"\\Uxxxxxxxx\"      | Character with 32-bit hex value   | (6)     |\n",
      "|                   | *xxxxxxxx*                        |         |\n",
      "+-------------------+-----------------------------------+---------+\n",
      "\n",
      "Notes:\n",
      "\n",
      "1. As in Standard C, up to three octal digits are accepted.\n",
      "\n",
      "2. Unlike in Standard C, exactly two hex digits are required.\n",
      "\n",
      "3. In a bytes literal, hexadecimal and octal escapes denote the byte\n",
      "   with the given value. In a string literal, these escapes denote a\n",
      "   Unicode character with the given value.\n",
      "\n",
      "4. Changed in version 3.3: Support for name aliases [1] has been\n",
      "   added.\n",
      "\n",
      "5. Exactly four hex digits are required.\n",
      "\n",
      "6. Any Unicode character can be encoded this way.  Exactly eight hex\n",
      "   digits are required.\n",
      "\n",
      "Unlike Standard C, all unrecognized escape sequences are left in the\n",
      "string unchanged, i.e., *the backslash is left in the result*.  (This\n",
      "behavior is useful when debugging: if an escape sequence is mistyped,\n",
      "the resulting output is more easily recognized as broken.)  It is also\n",
      "important to note that the escape sequences only recognized in string\n",
      "literals fall into the category of unrecognized escapes for bytes\n",
      "literals.\n",
      "\n",
      "   Changed in version 3.6: Unrecognized escape sequences produce a\n",
      "   \"DeprecationWarning\".  In a future Python version they will be a\n",
      "   \"SyntaxWarning\" and eventually a \"SyntaxError\".\n",
      "\n",
      "Even in a raw literal, quotes can be escaped with a backslash, but the\n",
      "backslash remains in the result; for example, \"r\"\\\"\"\" is a valid\n",
      "string literal consisting of two characters: a backslash and a double\n",
      "quote; \"r\"\\\"\" is not a valid string literal (even a raw string cannot\n",
      "end in an odd number of backslashes).  Specifically, *a raw literal\n",
      "cannot end in a single backslash* (since the backslash would escape\n",
      "the following quote character).  Note also that a single backslash\n",
      "followed by a newline is interpreted as those two characters as part\n",
      "of the literal, *not* as a line continuation.\n",
      "\n",
      "Related help topics: str, UNICODE, SEQUENCES, STRINGMETHODS, FORMATTING,\n",
      "TYPES\n",
      "\n"
     ]
    }
   ],
   "source": [
    "help()"
   ]
  },
  {
   "cell_type": "code",
   "execution_count": null,
   "id": "009b14a4",
   "metadata": {},
   "outputs": [],
   "source": [
    "k=[10,15,22,34,57,99,32,11,41]"
   ]
  },
  {
   "cell_type": "code",
   "execution_count": null,
   "id": "d447655a",
   "metadata": {},
   "outputs": [],
   "source": [
    "min(k)"
   ]
  },
  {
   "cell_type": "code",
   "execution_count": null,
   "id": "f812ee1d",
   "metadata": {},
   "outputs": [],
   "source": [
    "max(k)"
   ]
  },
  {
   "cell_type": "code",
   "execution_count": null,
   "id": "15467b00",
   "metadata": {},
   "outputs": [],
   "source": [
    "help(max)"
   ]
  },
  {
   "cell_type": "markdown",
   "id": "9438afa6",
   "metadata": {},
   "source": []
  },
  {
   "cell_type": "code",
   "execution_count": 5,
   "id": "46e75aed",
   "metadata": {},
   "outputs": [
    {
     "name": "stdout",
     "output_type": "stream",
     "text": [
      "55\n"
     ]
    }
   ],
   "source": [
    "l=[20,30,52,51,48,25,18,45,32,55]\n",
    "print(max(l))"
   ]
  },
  {
   "cell_type": "code",
   "execution_count": 6,
   "id": "61f51be4",
   "metadata": {},
   "outputs": [
    {
     "name": "stdout",
     "output_type": "stream",
     "text": [
      "18\n"
     ]
    }
   ],
   "source": [
    "l=[20,30,52,51,48,25,18,45,32,55]\n",
    "print(min(l))"
   ]
  },
  {
   "cell_type": "code",
   "execution_count": null,
   "id": "83da9c14",
   "metadata": {},
   "outputs": [],
   "source": []
  }
 ],
 "metadata": {
  "kernelspec": {
   "display_name": "Python 3 (ipykernel)",
   "language": "python",
   "name": "python3"
  },
  "language_info": {
   "codemirror_mode": {
    "name": "ipython",
    "version": 3
   },
   "file_extension": ".py",
   "mimetype": "text/x-python",
   "name": "python",
   "nbconvert_exporter": "python",
   "pygments_lexer": "ipython3",
   "version": "3.9.12"
  }
 },
 "nbformat": 4,
 "nbformat_minor": 5
}
