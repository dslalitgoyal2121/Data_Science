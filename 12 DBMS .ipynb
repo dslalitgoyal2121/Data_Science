{
 "cells": [
  {
   "cell_type": "markdown",
   "id": "81ed7bbe",
   "metadata": {},
   "source": [
    "# Adding data in table with csv (comma separated values) fill directly"
   ]
  },
  {
   "cell_type": "code",
   "execution_count": 1,
   "id": "08d2a422",
   "metadata": {},
   "outputs": [],
   "source": [
    "import sqlite3"
   ]
  },
  {
   "cell_type": "code",
   "execution_count": 2,
   "id": "c82e104a",
   "metadata": {},
   "outputs": [],
   "source": [
    "db1=sqlite3.connect(\"F:/my fist program/Scores_database.db\")\n",
    "cur=db1.cursor()"
   ]
  },
  {
   "cell_type": "code",
   "execution_count": 3,
   "id": "4a18ff1b",
   "metadata": {},
   "outputs": [
    {
     "ename": "OperationalError",
     "evalue": "table scores already exists",
     "output_type": "error",
     "traceback": [
      "\u001b[1;31m---------------------------------------------------------------------------\u001b[0m",
      "\u001b[1;31mOperationalError\u001b[0m                          Traceback (most recent call last)",
      "Input \u001b[1;32mIn [3]\u001b[0m, in \u001b[0;36m<cell line: 1>\u001b[1;34m()\u001b[0m\n\u001b[1;32m----> 1\u001b[0m \u001b[43mcur\u001b[49m\u001b[38;5;241;43m.\u001b[39;49m\u001b[43mexecute\u001b[49m\u001b[43m(\u001b[49m\u001b[38;5;124;43m\"\u001b[39;49m\u001b[38;5;124;43mCreate table scores (gender text, student id int primary key, marks int)\u001b[39;49m\u001b[38;5;124;43m\"\u001b[39;49m\u001b[43m)\u001b[49m\n",
      "\u001b[1;31mOperationalError\u001b[0m: table scores already exists"
     ]
    }
   ],
   "source": [
    "cur.execute(\"Create table scores (gender text, student id int primary key, marks int)\")\n"
   ]
  },
  {
   "cell_type": "code",
   "execution_count": 4,
   "id": "00979696",
   "metadata": {},
   "outputs": [
    {
     "ename": "IntegrityError",
     "evalue": "UNIQUE constraint failed: scores.student",
     "output_type": "error",
     "traceback": [
      "\u001b[1;31m---------------------------------------------------------------------------\u001b[0m",
      "\u001b[1;31mIntegrityError\u001b[0m                            Traceback (most recent call last)",
      "Input \u001b[1;32mIn [4]\u001b[0m, in \u001b[0;36m<cell line: 1>\u001b[1;34m()\u001b[0m\n\u001b[1;32m----> 1\u001b[0m \u001b[43mcur\u001b[49m\u001b[38;5;241;43m.\u001b[39;49m\u001b[43mexecute\u001b[49m\u001b[43m(\u001b[49m\u001b[38;5;124;43m\"\u001b[39;49m\u001b[38;5;124;43minsert into scores (gender,student,marks) values(\u001b[39;49m\u001b[38;5;124;43m'\u001b[39;49m\u001b[38;5;124;43mmail\u001b[39;49m\u001b[38;5;124;43m'\u001b[39;49m\u001b[38;5;124;43m,100,84)\u001b[39;49m\u001b[38;5;124;43m\"\u001b[39;49m\u001b[43m)\u001b[49m\n\u001b[0;32m      2\u001b[0m db1\u001b[38;5;241m.\u001b[39mcommit()\n",
      "\u001b[1;31mIntegrityError\u001b[0m: UNIQUE constraint failed: scores.student"
     ]
    }
   ],
   "source": [
    "cur.execute(\"insert into scores (gender,student,marks) values('mail',100,84)\")\n",
    "db1.commit()"
   ]
  },
  {
   "cell_type": "code",
   "execution_count": 5,
   "id": "c9700d0a",
   "metadata": {},
   "outputs": [
    {
     "name": "stdout",
     "output_type": "stream",
     "text": [
      "('mail', 100, 84)\n",
      "('male', 101, 66)\n",
      "('male', 102, 46)\n",
      "('female', 103, 94)\n",
      "('male', 104, 62)\n",
      "('female', 105, 52)\n",
      "('male', 106, 82)\n",
      "('female', 107, 63)\n",
      "('female', 108, 52)\n",
      "('male', 109, 48)\n",
      "('female', 110, 94)\n",
      "('male', 111, 71)\n"
     ]
    }
   ],
   "source": [
    "result=cur.execute(\"select * from scores\")\n",
    "for i in result:\n",
    "    print(i)"
   ]
  },
  {
   "cell_type": "markdown",
   "id": "aea96d37",
   "metadata": {},
   "source": [
    "## Inserting records from csv file"
   ]
  },
  {
   "cell_type": "code",
   "execution_count": 6,
   "id": "53334462",
   "metadata": {},
   "outputs": [
    {
     "ename": "IntegrityError",
     "evalue": "UNIQUE constraint failed: scores.student",
     "output_type": "error",
     "traceback": [
      "\u001b[1;31m---------------------------------------------------------------------------\u001b[0m",
      "\u001b[1;31mIntegrityError\u001b[0m                            Traceback (most recent call last)",
      "Input \u001b[1;32mIn [6]\u001b[0m, in \u001b[0;36m<cell line: 1>\u001b[1;34m()\u001b[0m\n\u001b[0;32m      2\u001b[0m total_records\u001b[38;5;241m=\u001b[39m\u001b[38;5;241m0\u001b[39m\n\u001b[0;32m      3\u001b[0m \u001b[38;5;28;01mfor\u001b[39;00m row \u001b[38;5;129;01min\u001b[39;00m file:\n\u001b[1;32m----> 4\u001b[0m     \u001b[43mcur\u001b[49m\u001b[38;5;241;43m.\u001b[39;49m\u001b[43mexecute\u001b[49m\u001b[43m(\u001b[49m\u001b[38;5;124;43m\"\u001b[39;49m\u001b[38;5;124;43minsert into scores values(?,?,?)\u001b[39;49m\u001b[38;5;124;43m\"\u001b[39;49m\u001b[43m,\u001b[49m\u001b[43mrow\u001b[49m\u001b[38;5;241;43m.\u001b[39;49m\u001b[43msplit\u001b[49m\u001b[43m(\u001b[49m\u001b[38;5;124;43m\"\u001b[39;49m\u001b[38;5;124;43m,\u001b[39;49m\u001b[38;5;124;43m\"\u001b[39;49m\u001b[43m)\u001b[49m\u001b[43m)\u001b[49m\n\u001b[0;32m      5\u001b[0m     db1\u001b[38;5;241m.\u001b[39mcommit()\n\u001b[0;32m      6\u001b[0m     total_records\u001b[38;5;241m+\u001b[39m\u001b[38;5;241m=\u001b[39m\u001b[38;5;241m1\u001b[39m\n",
      "\u001b[1;31mIntegrityError\u001b[0m: UNIQUE constraint failed: scores.student"
     ]
    }
   ],
   "source": [
    "with open(\"Scores_file.csv\",\"r\") as file:\n",
    "    total_records=0\n",
    "    for row in file:\n",
    "        cur.execute(\"insert into scores values(?,?,?)\",row.split(\",\"))\n",
    "        db1.commit()\n",
    "        total_records+=1\n",
    "print(total_records,\"Records inserted\")"
   ]
  },
  {
   "cell_type": "code",
   "execution_count": 7,
   "id": "b2b34871",
   "metadata": {},
   "outputs": [
    {
     "name": "stdout",
     "output_type": "stream",
     "text": [
      "('mail', 100, 84)\n",
      "('male', 101, 66)\n",
      "('male', 102, 46)\n",
      "('female', 103, 94)\n",
      "('male', 104, 62)\n",
      "('female', 105, 52)\n",
      "('male', 106, 82)\n",
      "('female', 107, 63)\n",
      "('female', 108, 52)\n",
      "('male', 109, 48)\n",
      "('female', 110, 94)\n",
      "('male', 111, 71)\n"
     ]
    }
   ],
   "source": [
    "result=cur.execute(\"select * from scores\")\n",
    "for i in result:\n",
    "    print(i)"
   ]
  },
  {
   "cell_type": "code",
   "execution_count": 8,
   "id": "d89cfbfb",
   "metadata": {},
   "outputs": [
    {
     "name": "stdout",
     "output_type": "stream",
     "text": [
      "('male', 101, 66)\n",
      "('male', 102, 46)\n",
      "('male', 104, 62)\n",
      "('male', 106, 82)\n",
      "('male', 109, 48)\n",
      "('male', 111, 71)\n"
     ]
    }
   ],
   "source": [
    "result=cur.execute(\"select * from scores where gender='male'\")\n",
    "for i in result:\n",
    "    print(i)\n"
   ]
  },
  {
   "cell_type": "code",
   "execution_count": 9,
   "id": "ee8bff1d",
   "metadata": {},
   "outputs": [
    {
     "name": "stdout",
     "output_type": "stream",
     "text": [
      "('female', 103, 94)\n",
      "('female', 110, 94)\n",
      "('mail', 100, 84)\n",
      "('male', 106, 82)\n",
      "('male', 111, 71)\n",
      "('male', 101, 66)\n",
      "('female', 107, 63)\n",
      "('male', 104, 62)\n",
      "('female', 105, 52)\n",
      "('female', 108, 52)\n",
      "('male', 109, 48)\n",
      "('male', 102, 46)\n"
     ]
    }
   ],
   "source": [
    "result=cur.execute(\"select * from scores order by marks desc\")\n",
    "for i in result:\n",
    "    print(i)"
   ]
  },
  {
   "cell_type": "code",
   "execution_count": 10,
   "id": "b5cc4528",
   "metadata": {},
   "outputs": [
    {
     "ename": "OperationalError",
     "evalue": "near \"id\": syntax error",
     "output_type": "error",
     "traceback": [
      "\u001b[1;31m---------------------------------------------------------------------------\u001b[0m",
      "\u001b[1;31mOperationalError\u001b[0m                          Traceback (most recent call last)",
      "Input \u001b[1;32mIn [10]\u001b[0m, in \u001b[0;36m<cell line: 2>\u001b[1;34m()\u001b[0m\n\u001b[0;32m      1\u001b[0m sql\u001b[38;5;241m=\u001b[39m\u001b[38;5;124m\"\u001b[39m\u001b[38;5;124mUPDATE scores Set marks = 60 where student id \u001b[39m\u001b[38;5;124m\"\u001b[39m\n\u001b[1;32m----> 2\u001b[0m r\u001b[38;5;241m=\u001b[39m\u001b[43mcur\u001b[49m\u001b[38;5;241;43m.\u001b[39;49m\u001b[43mexecute\u001b[49m\u001b[43m(\u001b[49m\u001b[43msql\u001b[49m\u001b[43m)\u001b[49m\n\u001b[0;32m      3\u001b[0m \u001b[38;5;28;01mfor\u001b[39;00m i \u001b[38;5;129;01min\u001b[39;00m r:\n\u001b[0;32m      4\u001b[0m     \u001b[38;5;28mprint\u001b[39m(r)\n",
      "\u001b[1;31mOperationalError\u001b[0m: near \"id\": syntax error"
     ]
    }
   ],
   "source": [
    "sql=\"UPDATE scores Set marks = 60 where student id \"\n",
    "r=cur.execute(sql)\n",
    "for i in r:\n",
    "    print(r)"
   ]
  },
  {
   "cell_type": "code",
   "execution_count": 11,
   "id": "10b80830",
   "metadata": {},
   "outputs": [
    {
     "name": "stdout",
     "output_type": "stream",
     "text": [
      "(46,)\n"
     ]
    }
   ],
   "source": [
    "r=cur.execute(\"select min(marks) from scores\")\n",
    "for i in r:\n",
    "    print(i)"
   ]
  },
  {
   "cell_type": "code",
   "execution_count": 12,
   "id": "4fb74b37",
   "metadata": {},
   "outputs": [
    {
     "name": "stdout",
     "output_type": "stream",
     "text": [
      "(94,)\n"
     ]
    }
   ],
   "source": [
    "r=cur.execute(\"select max(marks) from scores\")\n",
    "for i in r:\n",
    "    print(i)"
   ]
  },
  {
   "cell_type": "code",
   "execution_count": 13,
   "id": "29ab9c40",
   "metadata": {},
   "outputs": [],
   "source": [
    "db1.close()"
   ]
  },
  {
   "cell_type": "markdown",
   "id": "a5211b7e",
   "metadata": {},
   "source": [
    "# Exercise 2 SQLite3"
   ]
  },
  {
   "cell_type": "code",
   "execution_count": 14,
   "id": "3b6b3db4",
   "metadata": {},
   "outputs": [],
   "source": [
    "import sqlite3"
   ]
  },
  {
   "cell_type": "markdown",
   "id": "dd1b8f80",
   "metadata": {},
   "source": [
    "Adding data in table"
   ]
  },
  {
   "cell_type": "code",
   "execution_count": 15,
   "id": "e9dfcb3c",
   "metadata": {},
   "outputs": [],
   "source": [
    "db=sqlite3.connect(\"sports_database.db\")"
   ]
  },
  {
   "cell_type": "code",
   "execution_count": 16,
   "id": "0b974eb0",
   "metadata": {},
   "outputs": [],
   "source": [
    "cur=db.cursor()"
   ]
  },
  {
   "cell_type": "raw",
   "id": "cfbb6241",
   "metadata": {},
   "source": [
    "constraints ----\n",
    "unique -- enter only unique values, no duplicate values\n",
    "not null -- no blank values can be inserted in table"
   ]
  },
  {
   "cell_type": "code",
   "execution_count": 17,
   "id": "f6b92762",
   "metadata": {},
   "outputs": [
    {
     "data": {
      "text/plain": [
       "<sqlite3.Cursor at 0x225de5d0ea0>"
      ]
     },
     "execution_count": 17,
     "metadata": {},
     "output_type": "execute_result"
    }
   ],
   "source": [
    "cur.execute(\"create table sport (id int primary key,sportname text unique,dateofevent date,country text not null )\")"
   ]
  },
  {
   "cell_type": "code",
   "execution_count": 18,
   "id": "c0685e5e",
   "metadata": {},
   "outputs": [
    {
     "data": {
      "text/plain": [
       "<sqlite3.Cursor at 0x225de5d0ea0>"
      ]
     },
     "execution_count": 18,
     "metadata": {},
     "output_type": "execute_result"
    }
   ],
   "source": [
    "cur.execute(\"insert into sport values (1,'cricket','2023-05-11','India')\")"
   ]
  },
  {
   "cell_type": "raw",
   "id": "f118bb09",
   "metadata": {},
   "source": [
    "this line will throw error as sportname is duplicate  --- unique constraint failed\n",
    "cur.execute(\"insert into sport values (2,'cricket','2023-04-05','Srilanka')\")"
   ]
  },
  {
   "cell_type": "code",
   "execution_count": 19,
   "id": "20e1178e",
   "metadata": {},
   "outputs": [
    {
     "name": "stdout",
     "output_type": "stream",
     "text": [
      "1 record(s),inserted\n"
     ]
    }
   ],
   "source": [
    "cur.execute(\"insert into sport values (2,'Tennis','2023-3-06','Srilanka')\")\n",
    "print(cur.rowcount,\"record(s),inserted\")"
   ]
  },
  {
   "cell_type": "code",
   "execution_count": 20,
   "id": "535b3e8e",
   "metadata": {},
   "outputs": [
    {
     "name": "stdout",
     "output_type": "stream",
     "text": [
      "(1, 'cricket', '2023-05-11', 'India')\n",
      "(2, 'Tennis', '2023-3-06', 'Srilanka')\n"
     ]
    }
   ],
   "source": [
    "r=cur.execute(\"select * from sport\")\n",
    "for i in r:\n",
    "    print(i)"
   ]
  },
  {
   "cell_type": "raw",
   "id": "58ae0155",
   "metadata": {},
   "source": [
    "This query throw error : not null constraint : can not leave any field blank\n",
    "cur.execute(\"insert into sport velues(3,'football','2023-02-15',null)\")"
   ]
  },
  {
   "cell_type": "code",
   "execution_count": 23,
   "id": "e9426c98",
   "metadata": {},
   "outputs": [
    {
     "ename": "IntegrityError",
     "evalue": "UNIQUE constraint failed: sport.sportname",
     "output_type": "error",
     "traceback": [
      "\u001b[1;31m---------------------------------------------------------------------------\u001b[0m",
      "\u001b[1;31mIntegrityError\u001b[0m                            Traceback (most recent call last)",
      "Input \u001b[1;32mIn [23]\u001b[0m, in \u001b[0;36m<cell line: 1>\u001b[1;34m()\u001b[0m\n\u001b[1;32m----> 1\u001b[0m r\u001b[38;5;241m=\u001b[39m\u001b[43mcur\u001b[49m\u001b[38;5;241;43m.\u001b[39;49m\u001b[43mexecute\u001b[49m\u001b[43m(\u001b[49m\u001b[38;5;124;43m\"\u001b[39;49m\u001b[38;5;124;43minsert into sport values(3,\u001b[39;49m\u001b[38;5;124;43m'\u001b[39;49m\u001b[38;5;124;43mfootball\u001b[39;49m\u001b[38;5;124;43m'\u001b[39;49m\u001b[38;5;124;43m,\u001b[39;49m\u001b[38;5;124;43m'\u001b[39;49m\u001b[38;5;124;43m2023-02-15\u001b[39;49m\u001b[38;5;124;43m'\u001b[39;49m\u001b[38;5;124;43m,\u001b[39;49m\u001b[38;5;124;43m'\u001b[39;49m\u001b[38;5;124;43mAustralia\u001b[39;49m\u001b[38;5;124;43m'\u001b[39;49m\u001b[38;5;124;43m)\u001b[39;49m\u001b[38;5;124;43m\"\u001b[39;49m\u001b[43m)\u001b[49m\n\u001b[0;32m      2\u001b[0m db\u001b[38;5;241m.\u001b[39mcommit\n",
      "\u001b[1;31mIntegrityError\u001b[0m: UNIQUE constraint failed: sport.sportname"
     ]
    }
   ],
   "source": [
    "r=cur.execute(\"insert into sport values(3,'football','2023-02-15','Australia')\")\n",
    "db.commit;"
   ]
  },
  {
   "cell_type": "code",
   "execution_count": 24,
   "id": "51ce5f5c",
   "metadata": {},
   "outputs": [
    {
     "name": "stdout",
     "output_type": "stream",
     "text": [
      "(1, 'cricket', '2023-05-11', 'India')\n",
      "(2, 'Tennis', '2023-3-06', 'Srilanka')\n",
      "(3, 'football', '2023-02-15', 'Australia')\n"
     ]
    }
   ],
   "source": [
    "r=cur.execute(\"select * from sport\")\n",
    "for i in r:\n",
    "    print(i)"
   ]
  },
  {
   "cell_type": "markdown",
   "id": "b7ea18c3",
   "metadata": {},
   "source": [
    "# Employee database with DB and Python programmatically"
   ]
  },
  {
   "cell_type": "code",
   "execution_count": 27,
   "id": "799f703b",
   "metadata": {},
   "outputs": [],
   "source": [
    "import sqlite3"
   ]
  },
  {
   "cell_type": "code",
   "execution_count": 28,
   "id": "d368fe4e",
   "metadata": {},
   "outputs": [],
   "source": [
    "con=sqlite3.connect(\"emp_database.db\")"
   ]
  },
  {
   "cell_type": "code",
   "execution_count": 29,
   "id": "81be2b4c",
   "metadata": {},
   "outputs": [],
   "source": [
    "def sql_table(con):\n",
    "    cur=con.cursor()\n",
    "    cur.execute(\"create table employee(id integer primry key,name text, salary real,department text, position text, hiredate date)\")\n",
    "    con.commit()"
   ]
  },
  {
   "cell_type": "code",
   "execution_count": 30,
   "id": "4e94c706",
   "metadata": {},
   "outputs": [],
   "source": [
    "cur=con.cursor()"
   ]
  },
  {
   "cell_type": "code",
   "execution_count": 31,
   "id": "ed64e6d9",
   "metadata": {},
   "outputs": [],
   "source": [
    "sql_table(con)"
   ]
  },
  {
   "cell_type": "code",
   "execution_count": 32,
   "id": "f42a0e97",
   "metadata": {},
   "outputs": [
    {
     "data": {
      "text/plain": [
       "<sqlite3.Cursor at 0x225de6c25e0>"
      ]
     },
     "execution_count": 32,
     "metadata": {},
     "output_type": "execute_result"
    }
   ],
   "source": [
    "cur=con.cursor()\n",
    "cur.execute(\"insert into employee values(1,'Lalit',1500000,'IT','Manager','2023-08-25')\")"
   ]
  },
  {
   "cell_type": "code",
   "execution_count": 33,
   "id": "c224ee8e",
   "metadata": {},
   "outputs": [],
   "source": [
    "con.commit();"
   ]
  },
  {
   "cell_type": "code",
   "execution_count": 35,
   "id": "1e2f2918",
   "metadata": {},
   "outputs": [
    {
     "data": {
      "text/plain": [
       "[(1, 'Lalit', 1500000.0, 'IT', 'Manager', '2023-08-25')]"
      ]
     },
     "execution_count": 35,
     "metadata": {},
     "output_type": "execute_result"
    }
   ],
   "source": [
    "results=cur.execute(\"select * from employee\")\n",
    "results.fetchall()"
   ]
  },
  {
   "cell_type": "code",
   "execution_count": null,
   "id": "eac1bb91",
   "metadata": {},
   "outputs": [],
   "source": []
  }
 ],
 "metadata": {
  "kernelspec": {
   "display_name": "Python 3 (ipykernel)",
   "language": "python",
   "name": "python3"
  },
  "language_info": {
   "codemirror_mode": {
    "name": "ipython",
    "version": 3
   },
   "file_extension": ".py",
   "mimetype": "text/x-python",
   "name": "python",
   "nbconvert_exporter": "python",
   "pygments_lexer": "ipython3",
   "version": "3.9.12"
  }
 },
 "nbformat": 4,
 "nbformat_minor": 5
}
