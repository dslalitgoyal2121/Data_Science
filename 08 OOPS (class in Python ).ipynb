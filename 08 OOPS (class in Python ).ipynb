{
 "cells": [
  {
   "cell_type": "markdown",
   "id": "8dad8695",
   "metadata": {},
   "source": [
    "# Class in Python"
   ]
  },
  {
   "cell_type": "markdown",
   "id": "dd466205",
   "metadata": {},
   "source": [
    "The basic behind an obect-oriented programming (OOP) is to combine both data and associated procedure (known as methods) into a single usit which operate on the data. Such a unit is called an object.\n",
    "\n",
    "Python is an object-oriented language, everything in python is an obect."
   ]
  },
  {
   "cell_type": "markdown",
   "id": "f02b10e2",
   "metadata": {},
   "source": [
    "Class is a architecture of the object. It is a proper description of the attributes and methods of a class. For example, design of a car of same type is a class. you can create many objects from a class.Like you can make many cars of the same type from a design of car."
   ]
  },
  {
   "cell_type": "markdown",
   "id": "a199a191",
   "metadata": {},
   "source": [
    "Class -----> OOPS"
   ]
  },
  {
   "cell_type": "code",
   "execution_count": null,
   "id": "d45e2f85",
   "metadata": {},
   "outputs": [],
   "source": [
    "class Student:\n",
    "    \n",
    "    def __init__(self,rollno,name):         #initialization constructor\n",
    "        self.rollno=rollno\n",
    "        self.name=name\n",
    "        \n",
    "    def display(self):                      # user defined function\n",
    "        print(\"Roll No.:\",self.rollno,\"And Student Name:\",self.name)"
   ]
  },
  {
   "cell_type": "code",
   "execution_count": null,
   "id": "ac755f88",
   "metadata": {},
   "outputs": [],
   "source": [
    "# object / instance creation\n",
    "\n",
    "st1=Student(101,\"Lalit\")\n",
    "st1.display()"
   ]
  },
  {
   "cell_type": "code",
   "execution_count": null,
   "id": "17e5a4ca",
   "metadata": {},
   "outputs": [],
   "source": [
    "st2=Student(102,\"Deepak\")\n",
    "st2.display()"
   ]
  },
  {
   "cell_type": "code",
   "execution_count": null,
   "id": "94335857",
   "metadata": {},
   "outputs": [],
   "source": [
    "st1.rollno"
   ]
  },
  {
   "cell_type": "code",
   "execution_count": null,
   "id": "b14edc2d",
   "metadata": {},
   "outputs": [],
   "source": [
    "st2.name"
   ]
  },
  {
   "cell_type": "code",
   "execution_count": null,
   "id": "7982c2c3",
   "metadata": {},
   "outputs": [],
   "source": [
    "class Person:\n",
    "    #initialization constructor\n",
    "    def __init__(self,pid,name,age):         \n",
    "        self.pid=pid\n",
    "        self.name=name\n",
    "        self.age=age\n",
    "        \n",
    "    # user defined function    \n",
    "    def displaydata(self):                      \n",
    "        print(\"Person ID\",self.pid,\"And Student Name:\",self.name,\"AGE.:\",self.age,)"
   ]
  },
  {
   "cell_type": "code",
   "execution_count": null,
   "id": "b5d87f3a",
   "metadata": {},
   "outputs": [],
   "source": [
    "d1=Person(101,\"lalit\",22)\n",
    "d1.displaydata()"
   ]
  },
  {
   "cell_type": "code",
   "execution_count": null,
   "id": "5a2dcff5",
   "metadata": {},
   "outputs": [],
   "source": [
    "p2=Person(102,\"Deepak\",26)\n",
    "p2.displaydata()"
   ]
  },
  {
   "cell_type": "code",
   "execution_count": null,
   "id": "cb9cc97f",
   "metadata": {},
   "outputs": [],
   "source": [
    "d1.pid"
   ]
  },
  {
   "cell_type": "code",
   "execution_count": null,
   "id": "f96a4e0f",
   "metadata": {},
   "outputs": [],
   "source": [
    "d1.name"
   ]
  },
  {
   "cell_type": "code",
   "execution_count": null,
   "id": "f6205e37",
   "metadata": {},
   "outputs": [],
   "source": [
    "p2.name"
   ]
  },
  {
   "cell_type": "code",
   "execution_count": null,
   "id": "1956ff2c",
   "metadata": {},
   "outputs": [],
   "source": [
    "p2.age"
   ]
  },
  {
   "cell_type": "code",
   "execution_count": null,
   "id": "0313fe59",
   "metadata": {},
   "outputs": [],
   "source": [
    "class Employee:\n",
    "    def __init__(self,empid,empname,empsal,empdepartment):\n",
    "        self.empid=empid\n",
    "        self.empname=empname\n",
    "        self.empsal=empsal\n",
    "        self.empdepartment=empdepartment\n",
    "    def display_data(self):\n",
    "        print(\"Employee ID:\",self.empid)\n",
    "        print(\"Employee Name:\",self.empname)\n",
    "        print(\"Employee Salary:\",self.empsal) \n",
    "        print(\"Employee Department:\",self.empdepartment) \n",
    "              "
   ]
  },
  {
   "cell_type": "code",
   "execution_count": null,
   "id": "7d9497f9",
   "metadata": {},
   "outputs": [],
   "source": [
    "emp1=Employee(101,\"jone\",15700,\"IT\")\n",
    "emp1.display_data()"
   ]
  },
  {
   "cell_type": "code",
   "execution_count": null,
   "id": "16bf5557",
   "metadata": {},
   "outputs": [],
   "source": [
    "emp1=Employee(102,\"Lait\",253000,\"Data Science\")\n",
    "emp1.display_data()"
   ]
  },
  {
   "cell_type": "markdown",
   "id": "de6eaa50",
   "metadata": {},
   "source": [
    "# TASK"
   ]
  },
  {
   "cell_type": "markdown",
   "id": "2ed4eeb7",
   "metadata": {},
   "source": [
    "Create a class company . Declare 3 atrributes name, location, number of Employee. Now the company class."
   ]
  },
  {
   "cell_type": "code",
   "execution_count": 33,
   "id": "ca27044f",
   "metadata": {},
   "outputs": [],
   "source": [
    "class company:\n",
    "    # a class variable\n",
    "    revenue=80000\n",
    "    def __init__(self,name,location,number_of_employee):\n",
    "        self.name=name\n",
    "        self.location=location\n",
    "        self.number_of_employee=number_of_employee"
   ]
  },
  {
   "cell_type": "code",
   "execution_count": 34,
   "id": "6bbcc8f1",
   "metadata": {},
   "outputs": [
    {
     "name": "stdout",
     "output_type": "stream",
     "text": [
      "google\n",
      "london\n",
      "5000\n"
     ]
    },
    {
     "data": {
      "text/plain": [
       "80000"
      ]
     },
     "execution_count": 34,
     "metadata": {},
     "output_type": "execute_result"
    }
   ],
   "source": [
    "c=company(\"google\",\"london\",5000)\n",
    "print(c.name)\n",
    "print(c.location)\n",
    "print(c.number_of_employee)\n",
    "# accessing a variable\n",
    "company.revenue\n",
    "#company.name -------------- This is instance variable --> it can be called by instance only"
   ]
  },
  {
   "cell_type": "code",
   "execution_count": 46,
   "id": "3ea63d99",
   "metadata": {},
   "outputs": [],
   "source": [
    "class car:\n",
    "    # A simple class for cars\n",
    "    \n",
    "    #Constructor to initialize\n",
    "    def __init__ (self,company,color):\n",
    "        self.company = company\n",
    "        self.color = color\n",
    "        \n",
    "    #Function to print car company and color\n",
    "    def display(self):\n",
    "        print(\"This is a \",self.company,self.color)"
   ]
  },
  {
   "cell_type": "code",
   "execution_count": 47,
   "id": "f0a6b6dc",
   "metadata": {},
   "outputs": [],
   "source": [
    "def main():\n",
    "    c=car(\"BMW\",\"Black\")\n",
    "    c.display()"
   ]
  },
  {
   "cell_type": "code",
   "execution_count": 48,
   "id": "5c39b1a8",
   "metadata": {},
   "outputs": [],
   "source": [
    "if __name__==\"__mani__\":\n",
    "    main()\n"
   ]
  },
  {
   "cell_type": "code",
   "execution_count": null,
   "id": "ec4a0811",
   "metadata": {},
   "outputs": [],
   "source": [
    " "
   ]
  }
 ],
 "metadata": {
  "kernelspec": {
   "display_name": "Python 3 (ipykernel)",
   "language": "python",
   "name": "python3"
  },
  "language_info": {
   "codemirror_mode": {
    "name": "ipython",
    "version": 3
   },
   "file_extension": ".py",
   "mimetype": "text/x-python",
   "name": "python",
   "nbconvert_exporter": "python",
   "pygments_lexer": "ipython3",
   "version": "3.9.12"
  }
 },
 "nbformat": 4,
 "nbformat_minor": 5
}
