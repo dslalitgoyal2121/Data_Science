{
 "cells": [
  {
   "cell_type": "markdown",
   "id": "8c038b6a",
   "metadata": {},
   "source": [
    "# if Constructs"
   ]
  },
  {
   "cell_type": "code",
   "execution_count": 1,
   "id": "4decf30f",
   "metadata": {},
   "outputs": [
    {
     "name": "stdout",
     "output_type": "stream",
     "text": [
      "Excellent Marks\n"
     ]
    }
   ],
   "source": [
    "marks=80\n",
    "\n",
    "if(marks>50):\n",
    "    print(\"Excellent Marks\")\n",
    "else:\n",
    "    print(\"Average Marks\")"
   ]
  },
  {
   "cell_type": "code",
   "execution_count": 2,
   "id": "0bf29edd",
   "metadata": {},
   "outputs": [
    {
     "name": "stdout",
     "output_type": "stream",
     "text": [
      "Enter any Number55\n",
      "Pass\n"
     ]
    }
   ],
   "source": [
    "i=int(input(\"Enter any Number\"))\n",
    "\n",
    "if(i>60):\n",
    "    print(\"First Divison\")\n",
    "else:\n",
    "    print(\"Pass\")"
   ]
  },
  {
   "cell_type": "code",
   "execution_count": 3,
   "id": "a029dee5",
   "metadata": {},
   "outputs": [
    {
     "name": "stdout",
     "output_type": "stream",
     "text": [
      "Enter Any Number45\n",
      "The Nuber is Odd\n"
     ]
    }
   ],
   "source": [
    "i=int(input(\"Enter Any Number\"))\n",
    "\n",
    "if(i%2==0):\n",
    "    print(\"The Number is Even\")\n",
    "else:\n",
    "    print(\"The Nuber is Odd\")"
   ]
  },
  {
   "cell_type": "code",
   "execution_count": 3,
   "id": "a2167d88",
   "metadata": {},
   "outputs": [
    {
     "name": "stdout",
     "output_type": "stream",
     "text": [
      "Enter Any Number : 10\n",
      "The Nuber is Even\n"
     ]
    }
   ],
   "source": [
    "i=int(input(\"Enter Any Number : \"))\n",
    "if(i%2!=0):\n",
    "    print(\"The Number is Odd\")\n",
    "else:\n",
    "    print(\"The Nuber is Even\")"
   ]
  },
  {
   "cell_type": "code",
   "execution_count": 5,
   "id": "44cf36da",
   "metadata": {},
   "outputs": [
    {
     "name": "stdout",
     "output_type": "stream",
     "text": [
      "Enter any Marks = 32\n",
      "D grade\n"
     ]
    }
   ],
   "source": [
    "marks=int(input(\"Enter any Marks = \"))\n",
    "if (marks>90):\n",
    "    print(\"A+ Grade\")\n",
    "elif (marks>80 and marks<=90):\n",
    "    print(\"A Grade\")\n",
    "elif(marks>70 and marks<=80):\n",
    "    print(\"B Grade\")\n",
    "elif(marks>60 and marks<=70):\n",
    "    print(\"C Grade\")\n",
    "else:\n",
    "    print(\"D grade\")"
   ]
  },
  {
   "cell_type": "markdown",
   "id": "b520f087",
   "metadata": {},
   "source": [
    "Break & coutinue"
   ]
  },
  {
   "cell_type": "code",
   "execution_count": 1,
   "id": "a8296e5d",
   "metadata": {},
   "outputs": [
    {
     "name": "stdout",
     "output_type": "stream",
     "text": [
      "Apple\n",
      "Mango\n",
      "Banana\n",
      "Papaya\n",
      "Kiwi\n"
     ]
    }
   ],
   "source": [
    "for i in [\"Apple\",\"Mango\",\"Banana\",\"Papaya\",\"Kiwi\"]:\n",
    "    print(i)"
   ]
  },
  {
   "cell_type": "code",
   "execution_count": 2,
   "id": "6845382a",
   "metadata": {},
   "outputs": [
    {
     "name": "stdout",
     "output_type": "stream",
     "text": [
      "Apple\n",
      "Mango\n"
     ]
    }
   ],
   "source": [
    "for i in [\"Apple\",\"Mango\",\"Banana\",\"Papaya\",\"Kiwi\"]:\n",
    "    if(i==\"Banana\"):\n",
    "        break\n",
    "    print(i)"
   ]
  },
  {
   "cell_type": "code",
   "execution_count": 3,
   "id": "bf7de008",
   "metadata": {},
   "outputs": [
    {
     "name": "stdout",
     "output_type": "stream",
     "text": [
      "Apple\n",
      "Mango\n",
      "Papaya\n",
      "Kiwi\n"
     ]
    }
   ],
   "source": [
    "for i in [\"Apple\",\"Mango\",\"Banana\",\"Papaya\",\"Kiwi\"]:\n",
    "    if(i==\"Banana\"):\n",
    "        continue\n",
    "    print(i)"
   ]
  },
  {
   "cell_type": "code",
   "execution_count": 4,
   "id": "27ffe4aa",
   "metadata": {},
   "outputs": [
    {
     "name": "stdout",
     "output_type": "stream",
     "text": [
      "100\n",
      "200\n",
      "300\n",
      "400\n",
      "500\n"
     ]
    }
   ],
   "source": [
    "for k in [100,200,300,400,500]:\n",
    "    print(k)"
   ]
  },
  {
   "cell_type": "code",
   "execution_count": 5,
   "id": "960036ed",
   "metadata": {},
   "outputs": [
    {
     "name": "stdout",
     "output_type": "stream",
     "text": [
      "100\n",
      "200\n"
     ]
    }
   ],
   "source": [
    "for k in [100,200,300,400,500]:\n",
    "    if k==300:\n",
    "        break\n",
    "    print(k)"
   ]
  },
  {
   "cell_type": "code",
   "execution_count": 6,
   "id": "091324a2",
   "metadata": {},
   "outputs": [
    {
     "name": "stdout",
     "output_type": "stream",
     "text": [
      "100\n",
      "200\n",
      "400\n",
      "500\n"
     ]
    }
   ],
   "source": [
    "for k in [100,200,300,400,500]:\n",
    "    if k==300:\n",
    "        continue\n",
    "    print(k)"
   ]
  },
  {
   "cell_type": "code",
   "execution_count": 7,
   "id": "6df09736",
   "metadata": {},
   "outputs": [
    {
     "name": "stdout",
     "output_type": "stream",
     "text": [
      "0\n",
      "1\n",
      "2\n",
      "3\n",
      "4\n"
     ]
    }
   ],
   "source": [
    "for l in range(10):\n",
    "    if l==5:\n",
    "        break\n",
    "    print(l)"
   ]
  },
  {
   "cell_type": "code",
   "execution_count": 1,
   "id": "88fccaaa",
   "metadata": {},
   "outputs": [
    {
     "name": "stdout",
     "output_type": "stream",
     "text": [
      "0\n",
      "1\n",
      "2\n",
      "3\n",
      "5\n",
      "6\n",
      "7\n",
      "8\n",
      "9\n"
     ]
    }
   ],
   "source": [
    "for l in range(10):\n",
    "    if l==4:\n",
    "        continue\n",
    "    print(l)"
   ]
  },
  {
   "cell_type": "markdown",
   "id": "8936219e",
   "metadata": {},
   "source": [
    "List Comperhension"
   ]
  },
  {
   "cell_type": "code",
   "execution_count": 8,
   "id": "20a034fa",
   "metadata": {},
   "outputs": [
    {
     "data": {
      "text/plain": [
       "[10, 20, 30, 40, 50, 60, 70]"
      ]
     },
     "execution_count": 8,
     "metadata": {},
     "output_type": "execute_result"
    }
   ],
   "source": [
    "list1=[10,20,30,40,50,60,70]\n",
    "k=[i for i in list1]\n",
    "k"
   ]
  },
  {
   "cell_type": "code",
   "execution_count": 9,
   "id": "cf6c84ed",
   "metadata": {},
   "outputs": [
    {
     "data": {
      "text/plain": [
       "[10, 12, 14, 16, 18]"
      ]
     },
     "execution_count": 9,
     "metadata": {},
     "output_type": "execute_result"
    }
   ],
   "source": [
    "list2=[10,11,12,13,14,15,16,17,18,19]\n",
    "m=[i for i in list2 if i%2==0]\n",
    "m"
   ]
  },
  {
   "cell_type": "code",
   "execution_count": 2,
   "id": "5e1df9fb",
   "metadata": {},
   "outputs": [
    {
     "data": {
      "text/plain": [
       "[11, 13, 15, 17, 19]"
      ]
     },
     "execution_count": 2,
     "metadata": {},
     "output_type": "execute_result"
    }
   ],
   "source": [
    "list2=[10,11,12,13,14,15,16,17,18,19]\n",
    "m=[i for i in list2 if i%2!=0]\n",
    "m"
   ]
  },
  {
   "cell_type": "code",
   "execution_count": 3,
   "id": "9e038f29",
   "metadata": {},
   "outputs": [
    {
     "data": {
      "text/plain": [
       "[14, 15, 16]"
      ]
     },
     "execution_count": 3,
     "metadata": {},
     "output_type": "execute_result"
    }
   ],
   "source": [
    "list2=[10,11,12,13,14,15,16,17,18,19]\n",
    "m=[i for i in list2 if i>13 and i<=16]\n",
    "m"
   ]
  },
  {
   "cell_type": "code",
   "execution_count": 4,
   "id": "38318fd8",
   "metadata": {},
   "outputs": [
    {
     "data": {
      "text/plain": [
       "[2, 4, 6, 8, 10, 12, 14, 16, 18, 20]"
      ]
     },
     "execution_count": 4,
     "metadata": {},
     "output_type": "execute_result"
    }
   ],
   "source": [
    "h=[p for p in range(1,21) if p%2==0]\n",
    "h"
   ]
  },
  {
   "cell_type": "markdown",
   "id": "367a0cad",
   "metadata": {},
   "source": [
    "# String Functions"
   ]
  },
  {
   "cell_type": "code",
   "execution_count": 10,
   "id": "6c23a6e1",
   "metadata": {},
   "outputs": [
    {
     "data": {
      "text/plain": [
       "'computer'"
      ]
     },
     "execution_count": 10,
     "metadata": {},
     "output_type": "execute_result"
    }
   ],
   "source": [
    "word1=\"computer\"\n",
    "word1"
   ]
  },
  {
   "cell_type": "code",
   "execution_count": 11,
   "id": "dc591b17",
   "metadata": {},
   "outputs": [
    {
     "data": {
      "text/plain": [
       "False"
      ]
     },
     "execution_count": 11,
     "metadata": {},
     "output_type": "execute_result"
    }
   ],
   "source": [
    "word1.isupper()"
   ]
  },
  {
   "cell_type": "code",
   "execution_count": 12,
   "id": "906fe503",
   "metadata": {},
   "outputs": [
    {
     "data": {
      "text/plain": [
       "True"
      ]
     },
     "execution_count": 12,
     "metadata": {},
     "output_type": "execute_result"
    }
   ],
   "source": [
    "word1.islower()"
   ]
  },
  {
   "cell_type": "code",
   "execution_count": 13,
   "id": "1cba0a64",
   "metadata": {},
   "outputs": [
    {
     "data": {
      "text/plain": [
       "'COMPUTER'"
      ]
     },
     "execution_count": 13,
     "metadata": {},
     "output_type": "execute_result"
    }
   ],
   "source": [
    "word1.upper()"
   ]
  },
  {
   "cell_type": "code",
   "execution_count": 14,
   "id": "8412925d",
   "metadata": {},
   "outputs": [
    {
     "data": {
      "text/plain": [
       "'MOBILE'"
      ]
     },
     "execution_count": 14,
     "metadata": {},
     "output_type": "execute_result"
    }
   ],
   "source": [
    "word2=\"MOBILE\"\n",
    "word2"
   ]
  },
  {
   "cell_type": "code",
   "execution_count": 15,
   "id": "859449b2",
   "metadata": {},
   "outputs": [
    {
     "data": {
      "text/plain": [
       "True"
      ]
     },
     "execution_count": 15,
     "metadata": {},
     "output_type": "execute_result"
    }
   ],
   "source": [
    "word2.isupper()"
   ]
  },
  {
   "cell_type": "code",
   "execution_count": 16,
   "id": "26b91601",
   "metadata": {},
   "outputs": [
    {
     "data": {
      "text/plain": [
       "False"
      ]
     },
     "execution_count": 16,
     "metadata": {},
     "output_type": "execute_result"
    }
   ],
   "source": [
    "word2.islower()"
   ]
  },
  {
   "cell_type": "code",
   "execution_count": 17,
   "id": "2521f3ae",
   "metadata": {},
   "outputs": [
    {
     "data": {
      "text/plain": [
       "'mobile'"
      ]
     },
     "execution_count": 17,
     "metadata": {},
     "output_type": "execute_result"
    }
   ],
   "source": [
    "word2.lower()"
   ]
  },
  {
   "cell_type": "code",
   "execution_count": 18,
   "id": "1238a6fa",
   "metadata": {},
   "outputs": [
    {
     "data": {
      "text/plain": [
       "'Data Science Will Dominate the world'"
      ]
     },
     "execution_count": 18,
     "metadata": {},
     "output_type": "execute_result"
    }
   ],
   "source": [
    "word3=\"Data Science Will Dominate the world\"\n",
    "word3"
   ]
  },
  {
   "cell_type": "code",
   "execution_count": 19,
   "id": "0ce6b7b3",
   "metadata": {},
   "outputs": [
    {
     "data": {
      "text/plain": [
       "['Data', 'Science', 'Will', 'Dominate', 'the', 'world']"
      ]
     },
     "execution_count": 19,
     "metadata": {},
     "output_type": "execute_result"
    }
   ],
   "source": [
    "word3.split()"
   ]
  },
  {
   "cell_type": "code",
   "execution_count": 20,
   "id": "b46d00de",
   "metadata": {},
   "outputs": [
    {
     "data": {
      "text/plain": [
       "'artificial intelligence'"
      ]
     },
     "execution_count": 20,
     "metadata": {},
     "output_type": "execute_result"
    }
   ],
   "source": [
    "word4=\"artificial intelligence\"\n",
    "word4"
   ]
  },
  {
   "cell_type": "code",
   "execution_count": 21,
   "id": "e5d67654",
   "metadata": {},
   "outputs": [
    {
     "data": {
      "text/plain": [
       "'Artificial intelligence'"
      ]
     },
     "execution_count": 21,
     "metadata": {},
     "output_type": "execute_result"
    }
   ],
   "source": [
    "word4.capitalize()"
   ]
  },
  {
   "cell_type": "code",
   "execution_count": 22,
   "id": "d4a26791",
   "metadata": {},
   "outputs": [
    {
     "data": {
      "text/plain": [
       "'pepol likes hollywood movie'"
      ]
     },
     "execution_count": 22,
     "metadata": {},
     "output_type": "execute_result"
    }
   ],
   "source": [
    "word5=\"pepol likes hollywood movie\"\n",
    "word5"
   ]
  },
  {
   "cell_type": "code",
   "execution_count": 23,
   "id": "383dbe90",
   "metadata": {},
   "outputs": [],
   "source": [
    "b=word5.title()"
   ]
  },
  {
   "cell_type": "code",
   "execution_count": 24,
   "id": "dc7f7b08",
   "metadata": {},
   "outputs": [
    {
     "data": {
      "text/plain": [
       "'Pepol Likes Hollywood Movie'"
      ]
     },
     "execution_count": 24,
     "metadata": {},
     "output_type": "execute_result"
    }
   ],
   "source": [
    "b"
   ]
  },
  {
   "cell_type": "code",
   "execution_count": 25,
   "id": "df3db74a",
   "metadata": {},
   "outputs": [
    {
     "data": {
      "text/plain": [
       "True"
      ]
     },
     "execution_count": 25,
     "metadata": {},
     "output_type": "execute_result"
    }
   ],
   "source": [
    "b.istitle()"
   ]
  },
  {
   "cell_type": "code",
   "execution_count": 26,
   "id": "fd468dc2",
   "metadata": {},
   "outputs": [
    {
     "data": {
      "text/plain": [
       "'Pepol Likes Hollywood Movie'"
      ]
     },
     "execution_count": 26,
     "metadata": {},
     "output_type": "execute_result"
    }
   ],
   "source": [
    "b"
   ]
  },
  {
   "cell_type": "code",
   "execution_count": 27,
   "id": "7283e906",
   "metadata": {},
   "outputs": [
    {
     "data": {
      "text/plain": [
       "'pEPOL lIKES hOLLYWOOD mOVIE'"
      ]
     },
     "execution_count": 27,
     "metadata": {},
     "output_type": "execute_result"
    }
   ],
   "source": [
    "b.swapcase()"
   ]
  },
  {
   "cell_type": "code",
   "execution_count": 28,
   "id": "050327d1",
   "metadata": {},
   "outputs": [
    {
     "data": {
      "text/plain": [
       "'computer'"
      ]
     },
     "execution_count": 28,
     "metadata": {},
     "output_type": "execute_result"
    }
   ],
   "source": [
    "word1"
   ]
  },
  {
   "cell_type": "code",
   "execution_count": 29,
   "id": "59e3a02e",
   "metadata": {},
   "outputs": [
    {
     "data": {
      "text/plain": [
       "True"
      ]
     },
     "execution_count": 29,
     "metadata": {},
     "output_type": "execute_result"
    }
   ],
   "source": [
    "word1.isalpha()"
   ]
  },
  {
   "cell_type": "code",
   "execution_count": 30,
   "id": "fb51f469",
   "metadata": {},
   "outputs": [
    {
     "data": {
      "text/plain": [
       "False"
      ]
     },
     "execution_count": 30,
     "metadata": {},
     "output_type": "execute_result"
    }
   ],
   "source": [
    "word1.isdigit()"
   ]
  },
  {
   "cell_type": "code",
   "execution_count": 31,
   "id": "c671f4b6",
   "metadata": {},
   "outputs": [
    {
     "data": {
      "text/plain": [
       "'12345'"
      ]
     },
     "execution_count": 31,
     "metadata": {},
     "output_type": "execute_result"
    }
   ],
   "source": [
    "x=\"12345\"\n",
    "x"
   ]
  },
  {
   "cell_type": "code",
   "execution_count": 32,
   "id": "246f9859",
   "metadata": {},
   "outputs": [
    {
     "data": {
      "text/plain": [
       "True"
      ]
     },
     "execution_count": 32,
     "metadata": {},
     "output_type": "execute_result"
    }
   ],
   "source": [
    "x.isdigit()"
   ]
  },
  {
   "cell_type": "code",
   "execution_count": 33,
   "id": "acc7e1fb",
   "metadata": {},
   "outputs": [
    {
     "data": {
      "text/plain": [
       "'abc123'"
      ]
     },
     "execution_count": 33,
     "metadata": {},
     "output_type": "execute_result"
    }
   ],
   "source": [
    "y=\"abc123\"\n",
    "y"
   ]
  },
  {
   "cell_type": "code",
   "execution_count": 34,
   "id": "778d9402",
   "metadata": {},
   "outputs": [
    {
     "data": {
      "text/plain": [
       "True"
      ]
     },
     "execution_count": 34,
     "metadata": {},
     "output_type": "execute_result"
    }
   ],
   "source": [
    "y.isalnum()"
   ]
  },
  {
   "cell_type": "code",
   "execution_count": 35,
   "id": "7f162e38",
   "metadata": {},
   "outputs": [
    {
     "data": {
      "text/plain": [
       "'Pepol Likes Hollywood Movie'"
      ]
     },
     "execution_count": 35,
     "metadata": {},
     "output_type": "execute_result"
    }
   ],
   "source": [
    "b"
   ]
  },
  {
   "cell_type": "code",
   "execution_count": 36,
   "id": "48ba2e0b",
   "metadata": {},
   "outputs": [
    {
     "data": {
      "text/plain": [
       "True"
      ]
     },
     "execution_count": 36,
     "metadata": {},
     "output_type": "execute_result"
    }
   ],
   "source": [
    "b.startswith(\"Pepol\")"
   ]
  },
  {
   "cell_type": "code",
   "execution_count": 37,
   "id": "57c66081",
   "metadata": {},
   "outputs": [
    {
     "data": {
      "text/plain": [
       "False"
      ]
     },
     "execution_count": 37,
     "metadata": {},
     "output_type": "execute_result"
    }
   ],
   "source": [
    "b.startswith(\"Analytics\")"
   ]
  },
  {
   "cell_type": "code",
   "execution_count": 38,
   "id": "ca966d84",
   "metadata": {},
   "outputs": [
    {
     "data": {
      "text/plain": [
       "True"
      ]
     },
     "execution_count": 38,
     "metadata": {},
     "output_type": "execute_result"
    }
   ],
   "source": [
    "b.endswith(\"Movie\")"
   ]
  },
  {
   "cell_type": "code",
   "execution_count": 39,
   "id": "91834fb8",
   "metadata": {},
   "outputs": [
    {
     "data": {
      "text/plain": [
       "6"
      ]
     },
     "execution_count": 39,
     "metadata": {},
     "output_type": "execute_result"
    }
   ],
   "source": [
    "b.find(\"Likes\")"
   ]
  },
  {
   "cell_type": "code",
   "execution_count": 40,
   "id": "f6e5546a",
   "metadata": {},
   "outputs": [
    {
     "data": {
      "text/plain": [
       "5"
      ]
     },
     "execution_count": 40,
     "metadata": {},
     "output_type": "execute_result"
    }
   ],
   "source": [
    "b.count(\"o\")"
   ]
  },
  {
   "cell_type": "code",
   "execution_count": 41,
   "id": "42e5e33a",
   "metadata": {},
   "outputs": [
    {
     "data": {
      "text/plain": [
       "'Pepol Likes Hollywood Movie'"
      ]
     },
     "execution_count": 41,
     "metadata": {},
     "output_type": "execute_result"
    }
   ],
   "source": [
    "b"
   ]
  },
  {
   "cell_type": "code",
   "execution_count": 42,
   "id": "0388d412",
   "metadata": {},
   "outputs": [
    {
     "data": {
      "text/plain": [
       "'Pepol Love Hollywood Movie'"
      ]
     },
     "execution_count": 42,
     "metadata": {},
     "output_type": "execute_result"
    }
   ],
   "source": [
    "b.replace(\"Likes\",\"Love\")"
   ]
  },
  {
   "cell_type": "code",
   "execution_count": 43,
   "id": "4ef6518c",
   "metadata": {},
   "outputs": [
    {
     "data": {
      "text/plain": [
       "('Data', 'Science', 'Will', 'Dominate', 'the', 'world')"
      ]
     },
     "execution_count": 43,
     "metadata": {},
     "output_type": "execute_result"
    }
   ],
   "source": [
    "p= 'Data','Science', 'Will', 'Dominate', 'the', 'world'\n",
    "p"
   ]
  },
  {
   "cell_type": "code",
   "execution_count": 44,
   "id": "68f0322d",
   "metadata": {
    "scrolled": true
   },
   "outputs": [
    {
     "data": {
      "text/plain": [
       "'DataScienceWillDominatetheworld'"
      ]
     },
     "execution_count": 44,
     "metadata": {},
     "output_type": "execute_result"
    }
   ],
   "source": [
    "''.join(p)"
   ]
  },
  {
   "cell_type": "code",
   "execution_count": 45,
   "id": "9d88e22a",
   "metadata": {},
   "outputs": [
    {
     "data": {
      "text/plain": [
       "'Data Science Will Dominate the world'"
      ]
     },
     "execution_count": 45,
     "metadata": {},
     "output_type": "execute_result"
    }
   ],
   "source": [
    "' '.join(p)"
   ]
  },
  {
   "cell_type": "code",
   "execution_count": 2,
   "id": "4b101fbe",
   "metadata": {},
   "outputs": [
    {
     "name": "stdout",
     "output_type": "stream",
     "text": [
      "The tow string are matching\n"
     ]
    }
   ],
   "source": [
    "# casefold ignores the matching of words by lowercase or uppercase\n",
    "\n",
    "string1=\"Tesla\"\n",
    "string2=\"tesla\"\n",
    "\n",
    "if string1.casefold()==string2.casefold():\n",
    "    print(\"The tow string are matching\")\n",
    "else:\n",
    "    print(\"The tow string are not matching\")"
   ]
  },
  {
   "cell_type": "code",
   "execution_count": null,
   "id": "801616ac",
   "metadata": {},
   "outputs": [],
   "source": []
  }
 ],
 "metadata": {
  "kernelspec": {
   "display_name": "Python 3 (ipykernel)",
   "language": "python",
   "name": "python3"
  },
  "language_info": {
   "codemirror_mode": {
    "name": "ipython",
    "version": 3
   },
   "file_extension": ".py",
   "mimetype": "text/x-python",
   "name": "python",
   "nbconvert_exporter": "python",
   "pygments_lexer": "ipython3",
   "version": "3.9.12"
  }
 },
 "nbformat": 4,
 "nbformat_minor": 5
}
